{
 "cells": [
  {
   "cell_type": "code",
   "execution_count": 464,
   "metadata": {},
   "outputs": [],
   "source": [
    "import pandas as pd\n",
    "import numpy as np\n",
    "import tensorflow as tf\n",
    "\n",
    "from sklearn.model_selection import train_test_split, GridSearchCV\n",
    "\n",
    "from sklearn.metrics import accuracy_score, roc_auc_score\n",
    "\n",
    "from sklearn.ensemble import GradientBoostingClassifier\n",
    "\n",
    "from sklearn.preprocessing import MinMaxScaler, StandardScaler\n",
    "\n",
    "from tensorflow.keras.layers import Input, Add, Dense, Activation, Dropout\n",
    "from tensorflow.keras.models import Model, load_model, Sequential"
   ]
  },
  {
   "cell_type": "code",
   "execution_count": 465,
   "metadata": {},
   "outputs": [
    {
     "data": {
      "text/plain": [
       "(590540, 394)"
      ]
     },
     "execution_count": 465,
     "metadata": {},
     "output_type": "execute_result"
    }
   ],
   "source": [
    "df = pd.read_csv(\"train_transaction.csv\")\n",
    "df.shape"
   ]
  },
  {
   "cell_type": "code",
   "execution_count": 466,
   "metadata": {
    "scrolled": true
   },
   "outputs": [
    {
     "data": {
      "text/html": [
       "<div>\n",
       "<style scoped>\n",
       "    .dataframe tbody tr th:only-of-type {\n",
       "        vertical-align: middle;\n",
       "    }\n",
       "\n",
       "    .dataframe tbody tr th {\n",
       "        vertical-align: top;\n",
       "    }\n",
       "\n",
       "    .dataframe thead th {\n",
       "        text-align: right;\n",
       "    }\n",
       "</style>\n",
       "<table border=\"1\" class=\"dataframe\">\n",
       "  <thead>\n",
       "    <tr style=\"text-align: right;\">\n",
       "      <th></th>\n",
       "      <th>TransactionID</th>\n",
       "      <th>isFraud</th>\n",
       "      <th>TransactionDT</th>\n",
       "      <th>TransactionAmt</th>\n",
       "      <th>ProductCD</th>\n",
       "      <th>card1</th>\n",
       "      <th>card2</th>\n",
       "      <th>card3</th>\n",
       "      <th>card4</th>\n",
       "      <th>card5</th>\n",
       "      <th>...</th>\n",
       "      <th>V330</th>\n",
       "      <th>V331</th>\n",
       "      <th>V332</th>\n",
       "      <th>V333</th>\n",
       "      <th>V334</th>\n",
       "      <th>V335</th>\n",
       "      <th>V336</th>\n",
       "      <th>V337</th>\n",
       "      <th>V338</th>\n",
       "      <th>V339</th>\n",
       "    </tr>\n",
       "  </thead>\n",
       "  <tbody>\n",
       "    <tr>\n",
       "      <th>0</th>\n",
       "      <td>2987000</td>\n",
       "      <td>0</td>\n",
       "      <td>86400</td>\n",
       "      <td>68.500</td>\n",
       "      <td>W</td>\n",
       "      <td>13926</td>\n",
       "      <td>NaN</td>\n",
       "      <td>150.0</td>\n",
       "      <td>discover</td>\n",
       "      <td>142.0</td>\n",
       "      <td>...</td>\n",
       "      <td>NaN</td>\n",
       "      <td>NaN</td>\n",
       "      <td>NaN</td>\n",
       "      <td>NaN</td>\n",
       "      <td>NaN</td>\n",
       "      <td>NaN</td>\n",
       "      <td>NaN</td>\n",
       "      <td>NaN</td>\n",
       "      <td>NaN</td>\n",
       "      <td>NaN</td>\n",
       "    </tr>\n",
       "    <tr>\n",
       "      <th>1</th>\n",
       "      <td>2987001</td>\n",
       "      <td>0</td>\n",
       "      <td>86401</td>\n",
       "      <td>29.000</td>\n",
       "      <td>W</td>\n",
       "      <td>2755</td>\n",
       "      <td>404.0</td>\n",
       "      <td>150.0</td>\n",
       "      <td>mastercard</td>\n",
       "      <td>102.0</td>\n",
       "      <td>...</td>\n",
       "      <td>NaN</td>\n",
       "      <td>NaN</td>\n",
       "      <td>NaN</td>\n",
       "      <td>NaN</td>\n",
       "      <td>NaN</td>\n",
       "      <td>NaN</td>\n",
       "      <td>NaN</td>\n",
       "      <td>NaN</td>\n",
       "      <td>NaN</td>\n",
       "      <td>NaN</td>\n",
       "    </tr>\n",
       "    <tr>\n",
       "      <th>2</th>\n",
       "      <td>2987002</td>\n",
       "      <td>0</td>\n",
       "      <td>86469</td>\n",
       "      <td>59.000</td>\n",
       "      <td>W</td>\n",
       "      <td>4663</td>\n",
       "      <td>490.0</td>\n",
       "      <td>150.0</td>\n",
       "      <td>visa</td>\n",
       "      <td>166.0</td>\n",
       "      <td>...</td>\n",
       "      <td>NaN</td>\n",
       "      <td>NaN</td>\n",
       "      <td>NaN</td>\n",
       "      <td>NaN</td>\n",
       "      <td>NaN</td>\n",
       "      <td>NaN</td>\n",
       "      <td>NaN</td>\n",
       "      <td>NaN</td>\n",
       "      <td>NaN</td>\n",
       "      <td>NaN</td>\n",
       "    </tr>\n",
       "    <tr>\n",
       "      <th>3</th>\n",
       "      <td>2987003</td>\n",
       "      <td>0</td>\n",
       "      <td>86499</td>\n",
       "      <td>50.000</td>\n",
       "      <td>W</td>\n",
       "      <td>18132</td>\n",
       "      <td>567.0</td>\n",
       "      <td>150.0</td>\n",
       "      <td>mastercard</td>\n",
       "      <td>117.0</td>\n",
       "      <td>...</td>\n",
       "      <td>NaN</td>\n",
       "      <td>NaN</td>\n",
       "      <td>NaN</td>\n",
       "      <td>NaN</td>\n",
       "      <td>NaN</td>\n",
       "      <td>NaN</td>\n",
       "      <td>NaN</td>\n",
       "      <td>NaN</td>\n",
       "      <td>NaN</td>\n",
       "      <td>NaN</td>\n",
       "    </tr>\n",
       "    <tr>\n",
       "      <th>4</th>\n",
       "      <td>2987004</td>\n",
       "      <td>0</td>\n",
       "      <td>86506</td>\n",
       "      <td>50.000</td>\n",
       "      <td>H</td>\n",
       "      <td>4497</td>\n",
       "      <td>514.0</td>\n",
       "      <td>150.0</td>\n",
       "      <td>mastercard</td>\n",
       "      <td>102.0</td>\n",
       "      <td>...</td>\n",
       "      <td>0.0</td>\n",
       "      <td>0.0</td>\n",
       "      <td>0.0</td>\n",
       "      <td>0.0</td>\n",
       "      <td>0.0</td>\n",
       "      <td>0.0</td>\n",
       "      <td>0.0</td>\n",
       "      <td>0.0</td>\n",
       "      <td>0.0</td>\n",
       "      <td>0.0</td>\n",
       "    </tr>\n",
       "    <tr>\n",
       "      <th>5</th>\n",
       "      <td>2987005</td>\n",
       "      <td>0</td>\n",
       "      <td>86510</td>\n",
       "      <td>49.000</td>\n",
       "      <td>W</td>\n",
       "      <td>5937</td>\n",
       "      <td>555.0</td>\n",
       "      <td>150.0</td>\n",
       "      <td>visa</td>\n",
       "      <td>226.0</td>\n",
       "      <td>...</td>\n",
       "      <td>NaN</td>\n",
       "      <td>NaN</td>\n",
       "      <td>NaN</td>\n",
       "      <td>NaN</td>\n",
       "      <td>NaN</td>\n",
       "      <td>NaN</td>\n",
       "      <td>NaN</td>\n",
       "      <td>NaN</td>\n",
       "      <td>NaN</td>\n",
       "      <td>NaN</td>\n",
       "    </tr>\n",
       "    <tr>\n",
       "      <th>6</th>\n",
       "      <td>2987006</td>\n",
       "      <td>0</td>\n",
       "      <td>86522</td>\n",
       "      <td>159.000</td>\n",
       "      <td>W</td>\n",
       "      <td>12308</td>\n",
       "      <td>360.0</td>\n",
       "      <td>150.0</td>\n",
       "      <td>visa</td>\n",
       "      <td>166.0</td>\n",
       "      <td>...</td>\n",
       "      <td>NaN</td>\n",
       "      <td>NaN</td>\n",
       "      <td>NaN</td>\n",
       "      <td>NaN</td>\n",
       "      <td>NaN</td>\n",
       "      <td>NaN</td>\n",
       "      <td>NaN</td>\n",
       "      <td>NaN</td>\n",
       "      <td>NaN</td>\n",
       "      <td>NaN</td>\n",
       "    </tr>\n",
       "    <tr>\n",
       "      <th>7</th>\n",
       "      <td>2987007</td>\n",
       "      <td>0</td>\n",
       "      <td>86529</td>\n",
       "      <td>422.500</td>\n",
       "      <td>W</td>\n",
       "      <td>12695</td>\n",
       "      <td>490.0</td>\n",
       "      <td>150.0</td>\n",
       "      <td>visa</td>\n",
       "      <td>226.0</td>\n",
       "      <td>...</td>\n",
       "      <td>NaN</td>\n",
       "      <td>NaN</td>\n",
       "      <td>NaN</td>\n",
       "      <td>NaN</td>\n",
       "      <td>NaN</td>\n",
       "      <td>NaN</td>\n",
       "      <td>NaN</td>\n",
       "      <td>NaN</td>\n",
       "      <td>NaN</td>\n",
       "      <td>NaN</td>\n",
       "    </tr>\n",
       "    <tr>\n",
       "      <th>8</th>\n",
       "      <td>2987008</td>\n",
       "      <td>0</td>\n",
       "      <td>86535</td>\n",
       "      <td>15.000</td>\n",
       "      <td>H</td>\n",
       "      <td>2803</td>\n",
       "      <td>100.0</td>\n",
       "      <td>150.0</td>\n",
       "      <td>visa</td>\n",
       "      <td>226.0</td>\n",
       "      <td>...</td>\n",
       "      <td>0.0</td>\n",
       "      <td>0.0</td>\n",
       "      <td>0.0</td>\n",
       "      <td>0.0</td>\n",
       "      <td>0.0</td>\n",
       "      <td>0.0</td>\n",
       "      <td>0.0</td>\n",
       "      <td>0.0</td>\n",
       "      <td>0.0</td>\n",
       "      <td>0.0</td>\n",
       "    </tr>\n",
       "    <tr>\n",
       "      <th>9</th>\n",
       "      <td>2987009</td>\n",
       "      <td>0</td>\n",
       "      <td>86536</td>\n",
       "      <td>117.000</td>\n",
       "      <td>W</td>\n",
       "      <td>17399</td>\n",
       "      <td>111.0</td>\n",
       "      <td>150.0</td>\n",
       "      <td>mastercard</td>\n",
       "      <td>224.0</td>\n",
       "      <td>...</td>\n",
       "      <td>NaN</td>\n",
       "      <td>NaN</td>\n",
       "      <td>NaN</td>\n",
       "      <td>NaN</td>\n",
       "      <td>NaN</td>\n",
       "      <td>NaN</td>\n",
       "      <td>NaN</td>\n",
       "      <td>NaN</td>\n",
       "      <td>NaN</td>\n",
       "      <td>NaN</td>\n",
       "    </tr>\n",
       "    <tr>\n",
       "      <th>10</th>\n",
       "      <td>2987010</td>\n",
       "      <td>0</td>\n",
       "      <td>86549</td>\n",
       "      <td>75.887</td>\n",
       "      <td>C</td>\n",
       "      <td>16496</td>\n",
       "      <td>352.0</td>\n",
       "      <td>117.0</td>\n",
       "      <td>mastercard</td>\n",
       "      <td>134.0</td>\n",
       "      <td>...</td>\n",
       "      <td>NaN</td>\n",
       "      <td>NaN</td>\n",
       "      <td>NaN</td>\n",
       "      <td>NaN</td>\n",
       "      <td>NaN</td>\n",
       "      <td>NaN</td>\n",
       "      <td>NaN</td>\n",
       "      <td>NaN</td>\n",
       "      <td>NaN</td>\n",
       "      <td>NaN</td>\n",
       "    </tr>\n",
       "    <tr>\n",
       "      <th>11</th>\n",
       "      <td>2987011</td>\n",
       "      <td>0</td>\n",
       "      <td>86555</td>\n",
       "      <td>16.495</td>\n",
       "      <td>C</td>\n",
       "      <td>4461</td>\n",
       "      <td>375.0</td>\n",
       "      <td>185.0</td>\n",
       "      <td>mastercard</td>\n",
       "      <td>224.0</td>\n",
       "      <td>...</td>\n",
       "      <td>NaN</td>\n",
       "      <td>NaN</td>\n",
       "      <td>NaN</td>\n",
       "      <td>NaN</td>\n",
       "      <td>NaN</td>\n",
       "      <td>NaN</td>\n",
       "      <td>NaN</td>\n",
       "      <td>NaN</td>\n",
       "      <td>NaN</td>\n",
       "      <td>NaN</td>\n",
       "    </tr>\n",
       "    <tr>\n",
       "      <th>12</th>\n",
       "      <td>2987012</td>\n",
       "      <td>0</td>\n",
       "      <td>86564</td>\n",
       "      <td>50.000</td>\n",
       "      <td>W</td>\n",
       "      <td>3786</td>\n",
       "      <td>418.0</td>\n",
       "      <td>150.0</td>\n",
       "      <td>visa</td>\n",
       "      <td>226.0</td>\n",
       "      <td>...</td>\n",
       "      <td>NaN</td>\n",
       "      <td>NaN</td>\n",
       "      <td>NaN</td>\n",
       "      <td>NaN</td>\n",
       "      <td>NaN</td>\n",
       "      <td>NaN</td>\n",
       "      <td>NaN</td>\n",
       "      <td>NaN</td>\n",
       "      <td>NaN</td>\n",
       "      <td>NaN</td>\n",
       "    </tr>\n",
       "    <tr>\n",
       "      <th>13</th>\n",
       "      <td>2987013</td>\n",
       "      <td>0</td>\n",
       "      <td>86585</td>\n",
       "      <td>40.000</td>\n",
       "      <td>W</td>\n",
       "      <td>12866</td>\n",
       "      <td>303.0</td>\n",
       "      <td>150.0</td>\n",
       "      <td>visa</td>\n",
       "      <td>226.0</td>\n",
       "      <td>...</td>\n",
       "      <td>NaN</td>\n",
       "      <td>NaN</td>\n",
       "      <td>NaN</td>\n",
       "      <td>NaN</td>\n",
       "      <td>NaN</td>\n",
       "      <td>NaN</td>\n",
       "      <td>NaN</td>\n",
       "      <td>NaN</td>\n",
       "      <td>NaN</td>\n",
       "      <td>NaN</td>\n",
       "    </tr>\n",
       "    <tr>\n",
       "      <th>14</th>\n",
       "      <td>2987014</td>\n",
       "      <td>0</td>\n",
       "      <td>86596</td>\n",
       "      <td>10.500</td>\n",
       "      <td>W</td>\n",
       "      <td>11839</td>\n",
       "      <td>490.0</td>\n",
       "      <td>150.0</td>\n",
       "      <td>visa</td>\n",
       "      <td>226.0</td>\n",
       "      <td>...</td>\n",
       "      <td>NaN</td>\n",
       "      <td>NaN</td>\n",
       "      <td>NaN</td>\n",
       "      <td>NaN</td>\n",
       "      <td>NaN</td>\n",
       "      <td>NaN</td>\n",
       "      <td>NaN</td>\n",
       "      <td>NaN</td>\n",
       "      <td>NaN</td>\n",
       "      <td>NaN</td>\n",
       "    </tr>\n",
       "    <tr>\n",
       "      <th>15</th>\n",
       "      <td>2987015</td>\n",
       "      <td>0</td>\n",
       "      <td>86618</td>\n",
       "      <td>57.950</td>\n",
       "      <td>W</td>\n",
       "      <td>7055</td>\n",
       "      <td>555.0</td>\n",
       "      <td>150.0</td>\n",
       "      <td>visa</td>\n",
       "      <td>226.0</td>\n",
       "      <td>...</td>\n",
       "      <td>NaN</td>\n",
       "      <td>NaN</td>\n",
       "      <td>NaN</td>\n",
       "      <td>NaN</td>\n",
       "      <td>NaN</td>\n",
       "      <td>NaN</td>\n",
       "      <td>NaN</td>\n",
       "      <td>NaN</td>\n",
       "      <td>NaN</td>\n",
       "      <td>NaN</td>\n",
       "    </tr>\n",
       "    <tr>\n",
       "      <th>16</th>\n",
       "      <td>2987016</td>\n",
       "      <td>0</td>\n",
       "      <td>86620</td>\n",
       "      <td>30.000</td>\n",
       "      <td>H</td>\n",
       "      <td>1790</td>\n",
       "      <td>555.0</td>\n",
       "      <td>150.0</td>\n",
       "      <td>visa</td>\n",
       "      <td>226.0</td>\n",
       "      <td>...</td>\n",
       "      <td>0.0</td>\n",
       "      <td>0.0</td>\n",
       "      <td>0.0</td>\n",
       "      <td>0.0</td>\n",
       "      <td>0.0</td>\n",
       "      <td>0.0</td>\n",
       "      <td>0.0</td>\n",
       "      <td>0.0</td>\n",
       "      <td>0.0</td>\n",
       "      <td>0.0</td>\n",
       "    </tr>\n",
       "    <tr>\n",
       "      <th>17</th>\n",
       "      <td>2987017</td>\n",
       "      <td>0</td>\n",
       "      <td>86668</td>\n",
       "      <td>100.000</td>\n",
       "      <td>H</td>\n",
       "      <td>11492</td>\n",
       "      <td>111.0</td>\n",
       "      <td>150.0</td>\n",
       "      <td>mastercard</td>\n",
       "      <td>219.0</td>\n",
       "      <td>...</td>\n",
       "      <td>0.0</td>\n",
       "      <td>0.0</td>\n",
       "      <td>0.0</td>\n",
       "      <td>0.0</td>\n",
       "      <td>0.0</td>\n",
       "      <td>0.0</td>\n",
       "      <td>0.0</td>\n",
       "      <td>0.0</td>\n",
       "      <td>0.0</td>\n",
       "      <td>0.0</td>\n",
       "    </tr>\n",
       "    <tr>\n",
       "      <th>18</th>\n",
       "      <td>2987018</td>\n",
       "      <td>0</td>\n",
       "      <td>86725</td>\n",
       "      <td>47.950</td>\n",
       "      <td>W</td>\n",
       "      <td>4663</td>\n",
       "      <td>490.0</td>\n",
       "      <td>150.0</td>\n",
       "      <td>visa</td>\n",
       "      <td>166.0</td>\n",
       "      <td>...</td>\n",
       "      <td>NaN</td>\n",
       "      <td>NaN</td>\n",
       "      <td>NaN</td>\n",
       "      <td>NaN</td>\n",
       "      <td>NaN</td>\n",
       "      <td>NaN</td>\n",
       "      <td>NaN</td>\n",
       "      <td>NaN</td>\n",
       "      <td>NaN</td>\n",
       "      <td>NaN</td>\n",
       "    </tr>\n",
       "    <tr>\n",
       "      <th>19</th>\n",
       "      <td>2987019</td>\n",
       "      <td>0</td>\n",
       "      <td>86730</td>\n",
       "      <td>186.000</td>\n",
       "      <td>W</td>\n",
       "      <td>7005</td>\n",
       "      <td>111.0</td>\n",
       "      <td>150.0</td>\n",
       "      <td>visa</td>\n",
       "      <td>226.0</td>\n",
       "      <td>...</td>\n",
       "      <td>NaN</td>\n",
       "      <td>NaN</td>\n",
       "      <td>NaN</td>\n",
       "      <td>NaN</td>\n",
       "      <td>NaN</td>\n",
       "      <td>NaN</td>\n",
       "      <td>NaN</td>\n",
       "      <td>NaN</td>\n",
       "      <td>NaN</td>\n",
       "      <td>NaN</td>\n",
       "    </tr>\n",
       "  </tbody>\n",
       "</table>\n",
       "<p>20 rows × 394 columns</p>\n",
       "</div>"
      ],
      "text/plain": [
       "    TransactionID  isFraud  TransactionDT  TransactionAmt ProductCD  card1  \\\n",
       "0         2987000        0          86400          68.500         W  13926   \n",
       "1         2987001        0          86401          29.000         W   2755   \n",
       "2         2987002        0          86469          59.000         W   4663   \n",
       "3         2987003        0          86499          50.000         W  18132   \n",
       "4         2987004        0          86506          50.000         H   4497   \n",
       "5         2987005        0          86510          49.000         W   5937   \n",
       "6         2987006        0          86522         159.000         W  12308   \n",
       "7         2987007        0          86529         422.500         W  12695   \n",
       "8         2987008        0          86535          15.000         H   2803   \n",
       "9         2987009        0          86536         117.000         W  17399   \n",
       "10        2987010        0          86549          75.887         C  16496   \n",
       "11        2987011        0          86555          16.495         C   4461   \n",
       "12        2987012        0          86564          50.000         W   3786   \n",
       "13        2987013        0          86585          40.000         W  12866   \n",
       "14        2987014        0          86596          10.500         W  11839   \n",
       "15        2987015        0          86618          57.950         W   7055   \n",
       "16        2987016        0          86620          30.000         H   1790   \n",
       "17        2987017        0          86668         100.000         H  11492   \n",
       "18        2987018        0          86725          47.950         W   4663   \n",
       "19        2987019        0          86730         186.000         W   7005   \n",
       "\n",
       "    card2  card3       card4  card5  ...  V330  V331  V332  V333  V334 V335  \\\n",
       "0     NaN  150.0    discover  142.0  ...   NaN   NaN   NaN   NaN   NaN  NaN   \n",
       "1   404.0  150.0  mastercard  102.0  ...   NaN   NaN   NaN   NaN   NaN  NaN   \n",
       "2   490.0  150.0        visa  166.0  ...   NaN   NaN   NaN   NaN   NaN  NaN   \n",
       "3   567.0  150.0  mastercard  117.0  ...   NaN   NaN   NaN   NaN   NaN  NaN   \n",
       "4   514.0  150.0  mastercard  102.0  ...   0.0   0.0   0.0   0.0   0.0  0.0   \n",
       "5   555.0  150.0        visa  226.0  ...   NaN   NaN   NaN   NaN   NaN  NaN   \n",
       "6   360.0  150.0        visa  166.0  ...   NaN   NaN   NaN   NaN   NaN  NaN   \n",
       "7   490.0  150.0        visa  226.0  ...   NaN   NaN   NaN   NaN   NaN  NaN   \n",
       "8   100.0  150.0        visa  226.0  ...   0.0   0.0   0.0   0.0   0.0  0.0   \n",
       "9   111.0  150.0  mastercard  224.0  ...   NaN   NaN   NaN   NaN   NaN  NaN   \n",
       "10  352.0  117.0  mastercard  134.0  ...   NaN   NaN   NaN   NaN   NaN  NaN   \n",
       "11  375.0  185.0  mastercard  224.0  ...   NaN   NaN   NaN   NaN   NaN  NaN   \n",
       "12  418.0  150.0        visa  226.0  ...   NaN   NaN   NaN   NaN   NaN  NaN   \n",
       "13  303.0  150.0        visa  226.0  ...   NaN   NaN   NaN   NaN   NaN  NaN   \n",
       "14  490.0  150.0        visa  226.0  ...   NaN   NaN   NaN   NaN   NaN  NaN   \n",
       "15  555.0  150.0        visa  226.0  ...   NaN   NaN   NaN   NaN   NaN  NaN   \n",
       "16  555.0  150.0        visa  226.0  ...   0.0   0.0   0.0   0.0   0.0  0.0   \n",
       "17  111.0  150.0  mastercard  219.0  ...   0.0   0.0   0.0   0.0   0.0  0.0   \n",
       "18  490.0  150.0        visa  166.0  ...   NaN   NaN   NaN   NaN   NaN  NaN   \n",
       "19  111.0  150.0        visa  226.0  ...   NaN   NaN   NaN   NaN   NaN  NaN   \n",
       "\n",
       "   V336  V337  V338  V339  \n",
       "0   NaN   NaN   NaN   NaN  \n",
       "1   NaN   NaN   NaN   NaN  \n",
       "2   NaN   NaN   NaN   NaN  \n",
       "3   NaN   NaN   NaN   NaN  \n",
       "4   0.0   0.0   0.0   0.0  \n",
       "5   NaN   NaN   NaN   NaN  \n",
       "6   NaN   NaN   NaN   NaN  \n",
       "7   NaN   NaN   NaN   NaN  \n",
       "8   0.0   0.0   0.0   0.0  \n",
       "9   NaN   NaN   NaN   NaN  \n",
       "10  NaN   NaN   NaN   NaN  \n",
       "11  NaN   NaN   NaN   NaN  \n",
       "12  NaN   NaN   NaN   NaN  \n",
       "13  NaN   NaN   NaN   NaN  \n",
       "14  NaN   NaN   NaN   NaN  \n",
       "15  NaN   NaN   NaN   NaN  \n",
       "16  0.0   0.0   0.0   0.0  \n",
       "17  0.0   0.0   0.0   0.0  \n",
       "18  NaN   NaN   NaN   NaN  \n",
       "19  NaN   NaN   NaN   NaN  \n",
       "\n",
       "[20 rows x 394 columns]"
      ]
     },
     "execution_count": 466,
     "metadata": {},
     "output_type": "execute_result"
    }
   ],
   "source": [
    "df.head(20)"
   ]
  },
  {
   "cell_type": "code",
   "execution_count": 467,
   "metadata": {},
   "outputs": [],
   "source": [
    "labels = df[\"isFraud\"]\n",
    "\n",
    "del df[\"isFraud\"]"
   ]
  },
  {
   "cell_type": "code",
   "execution_count": 468,
   "metadata": {},
   "outputs": [
    {
     "data": {
      "text/plain": [
       "590540"
      ]
     },
     "execution_count": 468,
     "metadata": {},
     "output_type": "execute_result"
    }
   ],
   "source": [
    "len(labels)"
   ]
  },
  {
   "cell_type": "markdown",
   "metadata": {},
   "source": [
    "### Data Wrangling for Transactions"
   ]
  },
  {
   "cell_type": "code",
   "execution_count": 469,
   "metadata": {},
   "outputs": [],
   "source": [
    "#df.columns.tolist()"
   ]
  },
  {
   "cell_type": "code",
   "execution_count": 470,
   "metadata": {},
   "outputs": [],
   "source": [
    "# TransactionDT\n",
    "#df.TransactionDT.isna().sum()\n",
    "\n",
    "df[\"DTSec\"] = df.TransactionDT % 60\n",
    "df[\"DTMin\"] = (df.TransactionDT % 3600) // 60\n",
    "df[\"DTHour\"] = (df.TransactionDT % 86400) // 3600\n",
    "df[\"DTDow\"] = (df.TransactionDT % 604800) // 86400\n",
    "\n",
    "del df['TransactionDT']"
   ]
  },
  {
   "cell_type": "code",
   "execution_count": 471,
   "metadata": {},
   "outputs": [],
   "source": [
    "# TransactionAmt\n",
    "#df.TransactionAmt.isna().sum()\n",
    "# No changes at the beginning"
   ]
  },
  {
   "cell_type": "code",
   "execution_count": 472,
   "metadata": {
    "scrolled": true
   },
   "outputs": [],
   "source": [
    "# ProductCD\n",
    "#df.ProductCD.isna().sum()\n",
    "#df.ProductCD.value_counts()\n",
    "\n",
    "df = pd.get_dummies(df, columns=['ProductCD'], prefix='ProductCD')"
   ]
  },
  {
   "cell_type": "code",
   "execution_count": 473,
   "metadata": {},
   "outputs": [],
   "source": [
    "# card1\n",
    "#df.card1.isna().sum()\n",
    "# No changes at the beginning"
   ]
  },
  {
   "cell_type": "code",
   "execution_count": 474,
   "metadata": {},
   "outputs": [],
   "source": [
    "# card2\n",
    "#df.card2.isna().sum()\n",
    "#df.card2.min()\n",
    "\n",
    "df[\"card2_nan\"] = df.card2.isna().astype(int)\n",
    "df.card2.fillna(0.0, inplace=True)"
   ]
  },
  {
   "cell_type": "code",
   "execution_count": 475,
   "metadata": {},
   "outputs": [],
   "source": [
    "# card3\n",
    "#df.card3.isna().sum()\n",
    "#df.card3.min()\n",
    "\n",
    "df[\"card3_nan\"] = df.card3.isna().astype(int)\n",
    "df.card3.fillna(0.0, inplace=True)"
   ]
  },
  {
   "cell_type": "code",
   "execution_count": 476,
   "metadata": {},
   "outputs": [],
   "source": [
    "# card4\n",
    "#df.card4.isna().sum()\n",
    "\n",
    "df = pd.get_dummies(df, columns=['card4'], prefix='card4', dummy_na=True)"
   ]
  },
  {
   "cell_type": "code",
   "execution_count": 477,
   "metadata": {},
   "outputs": [],
   "source": [
    "# card5\n",
    "#df.card5.isna().sum()\n",
    "#df.card5.min()\n",
    "\n",
    "df[\"card5_nan\"] = df.card5.isna().astype(int)\n",
    "df.card5.fillna(0.0, inplace=True)"
   ]
  },
  {
   "cell_type": "code",
   "execution_count": 478,
   "metadata": {},
   "outputs": [],
   "source": [
    "# card6\n",
    "#df.card6.isna().sum()\n",
    "\n",
    "df = pd.get_dummies(df, columns=['card6'], prefix='card6', dummy_na=True)"
   ]
  },
  {
   "cell_type": "code",
   "execution_count": 479,
   "metadata": {},
   "outputs": [],
   "source": [
    "# addr1\n",
    "#df.addr1.isna().sum()\n",
    "\n",
    "df[\"addr1_nan\"] = df.addr1.isna().astype(int)\n",
    "df.addr1.fillna(0.0, inplace=True)"
   ]
  },
  {
   "cell_type": "code",
   "execution_count": 480,
   "metadata": {},
   "outputs": [],
   "source": [
    "# addr2\n",
    "#df.addr2.isna().sum()\n",
    "#df.addr2.value_counts()\n",
    "#df.addr2.min()\n",
    "\n",
    "df[\"addr2_nan\"] = df.addr2.isna().astype(int)\n",
    "df.addr2.fillna(0.0, inplace=True)"
   ]
  },
  {
   "cell_type": "code",
   "execution_count": 481,
   "metadata": {},
   "outputs": [],
   "source": [
    "# dist1\n",
    "#df.dist1\n",
    "\n",
    "df[\"dist1_nan\"] = df.dist1.isna().astype(int)\n",
    "df.dist1.fillna(-1.0, inplace=True)"
   ]
  },
  {
   "cell_type": "code",
   "execution_count": 482,
   "metadata": {},
   "outputs": [],
   "source": [
    "# dist2\n",
    "#df.dist2.min()\n",
    "\n",
    "df[\"dist2_nan\"] = df.dist2.isna().astype(int)\n",
    "df.dist2.fillna(-1.0, inplace=True)"
   ]
  },
  {
   "cell_type": "code",
   "execution_count": 483,
   "metadata": {},
   "outputs": [],
   "source": [
    "# P_emaildomain\n",
    "#df.P_emaildomain\n",
    "\n",
    "df = pd.get_dummies(df, columns=['P_emaildomain'], prefix='P_emaildomain', dummy_na=True)"
   ]
  },
  {
   "cell_type": "code",
   "execution_count": 484,
   "metadata": {},
   "outputs": [],
   "source": [
    "# R_emaildomain\n",
    "#df.R_emaildomain\n",
    "\n",
    "df = pd.get_dummies(df, columns=['R_emaildomain'], prefix='R_emaildomain', dummy_na=True)"
   ]
  },
  {
   "cell_type": "code",
   "execution_count": 485,
   "metadata": {},
   "outputs": [],
   "source": [
    "# C1\n",
    "#df.C1.isna().sum()\n",
    "# No changes"
   ]
  },
  {
   "cell_type": "code",
   "execution_count": 486,
   "metadata": {},
   "outputs": [],
   "source": [
    "# C2\n",
    "#df.C2.isna().sum()\n",
    "# No changes"
   ]
  },
  {
   "cell_type": "code",
   "execution_count": 487,
   "metadata": {},
   "outputs": [],
   "source": [
    "# C3\n",
    "#df.C3.isna().sum()\n",
    "#df.C3.value_counts()\n",
    "# No changes"
   ]
  },
  {
   "cell_type": "code",
   "execution_count": 488,
   "metadata": {},
   "outputs": [],
   "source": [
    "# C4\n",
    "#df.C4.isna().sum()\n",
    "#df.C4.value_counts()\n",
    "# No changes"
   ]
  },
  {
   "cell_type": "code",
   "execution_count": 489,
   "metadata": {},
   "outputs": [],
   "source": [
    "# C5\n",
    "#df.C5.isna().sum()\n",
    "#df.C5.value_counts()\n",
    "# No changes"
   ]
  },
  {
   "cell_type": "code",
   "execution_count": 490,
   "metadata": {},
   "outputs": [],
   "source": [
    "# C6\n",
    "#df.C6\n",
    "#df.C6.isna().sum()\n",
    "#df.C6.value_counts()\n",
    "# No changes"
   ]
  },
  {
   "cell_type": "code",
   "execution_count": 491,
   "metadata": {},
   "outputs": [],
   "source": [
    "# C7\n",
    "#df.C7\n",
    "#df.C7.isna().sum()\n",
    "#df.C7.value_counts()\n",
    "# No changes"
   ]
  },
  {
   "cell_type": "code",
   "execution_count": 492,
   "metadata": {},
   "outputs": [],
   "source": [
    "# C8\n",
    "#df.C8\n",
    "#df.C8.isna().sum()\n",
    "#df.C8.value_counts()\n",
    "# No changes"
   ]
  },
  {
   "cell_type": "code",
   "execution_count": 493,
   "metadata": {},
   "outputs": [],
   "source": [
    "# C9\n",
    "#df.C9\n",
    "#df.C9.isna().sum()\n",
    "#df.C9.value_counts()\n",
    "# No changes"
   ]
  },
  {
   "cell_type": "code",
   "execution_count": 494,
   "metadata": {},
   "outputs": [],
   "source": [
    "# C10\n",
    "#df.C10\n",
    "#df.C10.isna().sum()\n",
    "#df.C10.value_counts()\n",
    "# No changes"
   ]
  },
  {
   "cell_type": "code",
   "execution_count": 495,
   "metadata": {},
   "outputs": [],
   "source": [
    "# C11\n",
    "#df.C11\n",
    "#df.C11.isna().sum()\n",
    "#df.C11.value_counts()\n",
    "# No changes"
   ]
  },
  {
   "cell_type": "code",
   "execution_count": 496,
   "metadata": {},
   "outputs": [],
   "source": [
    "# C12\n",
    "#df.C12\n",
    "#df.C12.isna().sum()\n",
    "#df.C12.value_counts()\n",
    "# No changes"
   ]
  },
  {
   "cell_type": "code",
   "execution_count": 497,
   "metadata": {},
   "outputs": [],
   "source": [
    "# C13\n",
    "#df.C13\n",
    "#df.C13.isna().sum()\n",
    "#df.C13.value_counts()\n",
    "# No changes"
   ]
  },
  {
   "cell_type": "code",
   "execution_count": 498,
   "metadata": {},
   "outputs": [],
   "source": [
    "# C14\n",
    "#df.C14\n",
    "#df.C14.isna().sum()\n",
    "#df.C14.value_counts()\n",
    "# No changes"
   ]
  },
  {
   "cell_type": "code",
   "execution_count": 499,
   "metadata": {},
   "outputs": [],
   "source": [
    "# D1\n",
    "#df.D1\n",
    "#df.D1.isna().sum()\n",
    "\n",
    "df[\"D1_nan\"] = df.D1.isna().astype(int)\n",
    "df.D1.fillna(-1.0, inplace=True)"
   ]
  },
  {
   "cell_type": "code",
   "execution_count": 500,
   "metadata": {},
   "outputs": [],
   "source": [
    "# D2\n",
    "#df.D2\n",
    "#df.D2.min()\n",
    "\n",
    "df[\"D2_nan\"] = df.D2.isna().astype(int)\n",
    "df.D2.fillna(-1.0, inplace=True)"
   ]
  },
  {
   "cell_type": "code",
   "execution_count": 501,
   "metadata": {},
   "outputs": [],
   "source": [
    "# D3\n",
    "#df.D3\n",
    "\n",
    "df[\"D3_nan\"] = df.D3.isna().astype(int)\n",
    "df.D3.fillna(-1.0, inplace=True)"
   ]
  },
  {
   "cell_type": "code",
   "execution_count": 502,
   "metadata": {},
   "outputs": [],
   "source": [
    "# D4\n",
    "#df.D4\n",
    "\n",
    "df[\"D4_nan\"] = df.D4.isna().astype(int)\n",
    "df.D4.fillna(-1.0, inplace=True)"
   ]
  },
  {
   "cell_type": "code",
   "execution_count": 503,
   "metadata": {},
   "outputs": [],
   "source": [
    "# D5\n",
    "#df.D5\n",
    "\n",
    "df[\"D5_nan\"] = df.D5.isna().astype(int)\n",
    "df.D5.fillna(-1.0, inplace=True)"
   ]
  },
  {
   "cell_type": "code",
   "execution_count": 504,
   "metadata": {},
   "outputs": [],
   "source": [
    "# D6\n",
    "#df.D6\n",
    "#df.D6.value_counts()\n",
    "\n",
    "df[\"D6_nan\"] = df.D6.isna().astype(int)\n",
    "df.D6.fillna(-1.0, inplace=True)"
   ]
  },
  {
   "cell_type": "code",
   "execution_count": 505,
   "metadata": {},
   "outputs": [],
   "source": [
    "# D7\n",
    "#df.D7\n",
    "#df.D7.value_counts()\n",
    "\n",
    "df[\"D7_nan\"] = df.D7.isna().astype(int)\n",
    "df.D7.fillna(-1.0, inplace=True)"
   ]
  },
  {
   "cell_type": "code",
   "execution_count": 506,
   "metadata": {},
   "outputs": [],
   "source": [
    "# D8\n",
    "#df.D8\n",
    "#df.D8.value_counts()\n",
    "\n",
    "df[\"D8_nan\"] = df.D8.isna().astype(int)\n",
    "df.D8.fillna(-1.0, inplace=True)"
   ]
  },
  {
   "cell_type": "code",
   "execution_count": 507,
   "metadata": {},
   "outputs": [],
   "source": [
    "# D9\n",
    "#df.D9\n",
    "#df.D9.value_counts()\n",
    "\n",
    "df[\"D9_nan\"] = df.D9.isna().astype(int)\n",
    "df.D9.fillna(-1.0, inplace=True)"
   ]
  },
  {
   "cell_type": "code",
   "execution_count": 508,
   "metadata": {},
   "outputs": [],
   "source": [
    "# D10\n",
    "#df.D10\n",
    "\n",
    "df[\"D10_nan\"] = df.D10.isna().astype(int)\n",
    "df.D10.fillna(-1.0, inplace=True)"
   ]
  },
  {
   "cell_type": "code",
   "execution_count": 509,
   "metadata": {},
   "outputs": [],
   "source": [
    "# D11\n",
    "#df.D11\n",
    "\n",
    "df[\"D11_nan\"] = df.D11.isna().astype(int)\n",
    "df.D11.fillna(-1.0, inplace=True)"
   ]
  },
  {
   "cell_type": "code",
   "execution_count": 510,
   "metadata": {},
   "outputs": [],
   "source": [
    "# D12\n",
    "#df.D12\n",
    "#df.D12.value_counts()\n",
    "\n",
    "df[\"D12_nan\"] = df.D12.isna().astype(int)\n",
    "df.D12.fillna(-1.0, inplace=True)"
   ]
  },
  {
   "cell_type": "code",
   "execution_count": 511,
   "metadata": {},
   "outputs": [],
   "source": [
    "# D13\n",
    "#df.D13\n",
    "#df.D13.value_counts()\n",
    "\n",
    "df[\"D13_nan\"] = df.D13.isna().astype(int)\n",
    "df.D13.fillna(-1.0, inplace=True)"
   ]
  },
  {
   "cell_type": "code",
   "execution_count": 512,
   "metadata": {},
   "outputs": [],
   "source": [
    "# D14\n",
    "#df.D14\n",
    "#df.D14.value_counts()\n",
    "\n",
    "df[\"D14_nan\"] = df.D14.isna().astype(int)\n",
    "df.D14.fillna(-1.0, inplace=True)"
   ]
  },
  {
   "cell_type": "code",
   "execution_count": 513,
   "metadata": {},
   "outputs": [],
   "source": [
    "# D15\n",
    "#df.D15\n",
    "\n",
    "df[\"D15_nan\"] = df.D15.isna().astype(int)\n",
    "df.D15.fillna(-1.0, inplace=True)"
   ]
  },
  {
   "cell_type": "code",
   "execution_count": 514,
   "metadata": {},
   "outputs": [],
   "source": [
    "# M1\n",
    "#df.M1\n",
    "#df.M1.value_counts()\n",
    "\n",
    "df = pd.get_dummies(df, columns=['M1'], prefix='M1', dummy_na=True)"
   ]
  },
  {
   "cell_type": "code",
   "execution_count": 515,
   "metadata": {},
   "outputs": [],
   "source": [
    "# M2\n",
    "#df.M2\n",
    "#df.M2.value_counts()\n",
    "\n",
    "df = pd.get_dummies(df, columns=['M2'], prefix='M2', dummy_na=True)"
   ]
  },
  {
   "cell_type": "code",
   "execution_count": 516,
   "metadata": {},
   "outputs": [],
   "source": [
    "# M3\n",
    "#df.M3\n",
    "\n",
    "df = pd.get_dummies(df, columns=['M3'], prefix='M3', dummy_na=True)"
   ]
  },
  {
   "cell_type": "code",
   "execution_count": 517,
   "metadata": {},
   "outputs": [],
   "source": [
    "# M4\n",
    "#df.M4\n",
    "#df.M4.value_counts()\n",
    "\n",
    "df = pd.get_dummies(df, columns=['M4'], prefix='M4', dummy_na=True)"
   ]
  },
  {
   "cell_type": "code",
   "execution_count": 518,
   "metadata": {},
   "outputs": [],
   "source": [
    "# M5\n",
    "#df.M5\n",
    "\n",
    "df = pd.get_dummies(df, columns=['M5'], prefix='M5', dummy_na=True)"
   ]
  },
  {
   "cell_type": "code",
   "execution_count": 519,
   "metadata": {},
   "outputs": [],
   "source": [
    "# M6\n",
    "#df.M6\n",
    "\n",
    "df = pd.get_dummies(df, columns=['M6'], prefix='M6', dummy_na=True)"
   ]
  },
  {
   "cell_type": "code",
   "execution_count": 520,
   "metadata": {},
   "outputs": [],
   "source": [
    "# M7\n",
    "#df.M7\n",
    "\n",
    "df = pd.get_dummies(df, columns=['M7'], prefix='M7', dummy_na=True)"
   ]
  },
  {
   "cell_type": "code",
   "execution_count": 521,
   "metadata": {},
   "outputs": [],
   "source": [
    "# M8\n",
    "#df.M8\n",
    "\n",
    "df = pd.get_dummies(df, columns=['M8'], prefix='M8', dummy_na=True)"
   ]
  },
  {
   "cell_type": "code",
   "execution_count": 522,
   "metadata": {},
   "outputs": [],
   "source": [
    "# M9\n",
    "#df.M9\n",
    "\n",
    "df = pd.get_dummies(df, columns=['M9'], prefix='M9', dummy_na=True)"
   ]
  },
  {
   "cell_type": "code",
   "execution_count": 523,
   "metadata": {},
   "outputs": [],
   "source": [
    "#\n",
    "# Process all V-columns at once\n",
    "#\n",
    "\n",
    "MAX_AMOUNT_OF_UNIQUE = 16\n",
    "\n",
    "for i in range(1, 340):\n",
    "    col = \"V\" + str(i)\n",
    "    \n",
    "    if (len(df[col].value_counts()) > MAX_AMOUNT_OF_UNIQUE):\n",
    "        df[col + \"_nan\"] = df[col].isna().astype(int)\n",
    "        df[col].fillna(-1.0, inplace=True)\n",
    "    else:\n",
    "        df = pd.get_dummies(df, columns=[col], prefix=col, dummy_na=True)"
   ]
  },
  {
   "cell_type": "code",
   "execution_count": 524,
   "metadata": {},
   "outputs": [
    {
     "data": {
      "text/plain": [
       "(590540, 1789)"
      ]
     },
     "execution_count": 524,
     "metadata": {},
     "output_type": "execute_result"
    }
   ],
   "source": [
    "# What is the final shape?\n",
    "df.shape"
   ]
  },
  {
   "cell_type": "markdown",
   "metadata": {},
   "source": [
    "### Scale Transactions"
   ]
  },
  {
   "cell_type": "code",
   "execution_count": 525,
   "metadata": {
    "scrolled": false
   },
   "outputs": [
    {
     "name": "stderr",
     "output_type": "stream",
     "text": [
      "C:\\Users\\peterp\\Anaconda3\\lib\\site-packages\\sklearn\\preprocessing\\data.py:323: DataConversionWarning: Data with input dtype uint8, int32, int64, float64 were all converted to float64 by MinMaxScaler.\n",
      "  return self.partial_fit(X, y)\n"
     ]
    },
    {
     "name": "stdout",
     "output_type": "stream",
     "text": [
      "Wall time: 29 s\n"
     ]
    }
   ],
   "source": [
    "%%time\n",
    "\n",
    "#\n",
    "# TEMPORARY DELETE THE TransactionID. It will be needed to join the Identities info\n",
    "#\n",
    "del df['TransactionID']\n",
    "\n",
    "columns = df.columns\n",
    "\n",
    "scaler = StandardScaler(copy=False)\n",
    "#scaler = MinMaxScaler(copy=False)\n",
    "\n",
    "df = scaler.fit_transform(df)"
   ]
  },
  {
   "cell_type": "code",
   "execution_count": 526,
   "metadata": {},
   "outputs": [
    {
     "data": {
      "text/html": [
       "<div>\n",
       "<style scoped>\n",
       "    .dataframe tbody tr th:only-of-type {\n",
       "        vertical-align: middle;\n",
       "    }\n",
       "\n",
       "    .dataframe tbody tr th {\n",
       "        vertical-align: top;\n",
       "    }\n",
       "\n",
       "    .dataframe thead th {\n",
       "        text-align: right;\n",
       "    }\n",
       "</style>\n",
       "<table border=\"1\" class=\"dataframe\">\n",
       "  <thead>\n",
       "    <tr style=\"text-align: right;\">\n",
       "      <th></th>\n",
       "      <th>TransactionAmt</th>\n",
       "      <th>card1</th>\n",
       "      <th>card2</th>\n",
       "      <th>card3</th>\n",
       "      <th>card5</th>\n",
       "      <th>addr1</th>\n",
       "      <th>addr2</th>\n",
       "      <th>dist1</th>\n",
       "      <th>dist2</th>\n",
       "      <th>C1</th>\n",
       "      <th>...</th>\n",
       "      <th>V330_nan</th>\n",
       "      <th>V331_nan</th>\n",
       "      <th>V332_nan</th>\n",
       "      <th>V333_nan</th>\n",
       "      <th>V334_nan</th>\n",
       "      <th>V335_nan</th>\n",
       "      <th>V336_nan</th>\n",
       "      <th>V337_nan</th>\n",
       "      <th>V338_nan</th>\n",
       "      <th>V339_nan</th>\n",
       "    </tr>\n",
       "  </thead>\n",
       "  <tbody>\n",
       "    <tr>\n",
       "      <th>0</th>\n",
       "      <td>0.002137</td>\n",
       "      <td>0.743044</td>\n",
       "      <td>0.000000</td>\n",
       "      <td>0.649351</td>\n",
       "      <td>0.599156</td>\n",
       "      <td>0.583333</td>\n",
       "      <td>0.852941</td>\n",
       "      <td>0.001944</td>\n",
       "      <td>0.0</td>\n",
       "      <td>0.000213</td>\n",
       "      <td>...</td>\n",
       "      <td>1.0</td>\n",
       "      <td>1.0</td>\n",
       "      <td>1.0</td>\n",
       "      <td>1.0</td>\n",
       "      <td>1.0</td>\n",
       "      <td>1.0</td>\n",
       "      <td>1.0</td>\n",
       "      <td>1.0</td>\n",
       "      <td>1.0</td>\n",
       "      <td>1.0</td>\n",
       "    </tr>\n",
       "    <tr>\n",
       "      <th>1</th>\n",
       "      <td>0.000900</td>\n",
       "      <td>0.100885</td>\n",
       "      <td>0.673333</td>\n",
       "      <td>0.649351</td>\n",
       "      <td>0.430380</td>\n",
       "      <td>0.601852</td>\n",
       "      <td>0.852941</td>\n",
       "      <td>0.000000</td>\n",
       "      <td>0.0</td>\n",
       "      <td>0.000213</td>\n",
       "      <td>...</td>\n",
       "      <td>1.0</td>\n",
       "      <td>1.0</td>\n",
       "      <td>1.0</td>\n",
       "      <td>1.0</td>\n",
       "      <td>1.0</td>\n",
       "      <td>1.0</td>\n",
       "      <td>1.0</td>\n",
       "      <td>1.0</td>\n",
       "      <td>1.0</td>\n",
       "      <td>1.0</td>\n",
       "    </tr>\n",
       "    <tr>\n",
       "      <th>2</th>\n",
       "      <td>0.001840</td>\n",
       "      <td>0.210566</td>\n",
       "      <td>0.816667</td>\n",
       "      <td>0.649351</td>\n",
       "      <td>0.700422</td>\n",
       "      <td>0.611111</td>\n",
       "      <td>0.852941</td>\n",
       "      <td>0.027997</td>\n",
       "      <td>0.0</td>\n",
       "      <td>0.000213</td>\n",
       "      <td>...</td>\n",
       "      <td>1.0</td>\n",
       "      <td>1.0</td>\n",
       "      <td>1.0</td>\n",
       "      <td>1.0</td>\n",
       "      <td>1.0</td>\n",
       "      <td>1.0</td>\n",
       "      <td>1.0</td>\n",
       "      <td>1.0</td>\n",
       "      <td>1.0</td>\n",
       "      <td>1.0</td>\n",
       "    </tr>\n",
       "  </tbody>\n",
       "</table>\n",
       "<p>3 rows × 1788 columns</p>\n",
       "</div>"
      ],
      "text/plain": [
       "   TransactionAmt     card1     card2     card3     card5     addr1     addr2  \\\n",
       "0        0.002137  0.743044  0.000000  0.649351  0.599156  0.583333  0.852941   \n",
       "1        0.000900  0.100885  0.673333  0.649351  0.430380  0.601852  0.852941   \n",
       "2        0.001840  0.210566  0.816667  0.649351  0.700422  0.611111  0.852941   \n",
       "\n",
       "      dist1  dist2        C1    ...     V330_nan  V331_nan  V332_nan  \\\n",
       "0  0.001944    0.0  0.000213    ...          1.0       1.0       1.0   \n",
       "1  0.000000    0.0  0.000213    ...          1.0       1.0       1.0   \n",
       "2  0.027997    0.0  0.000213    ...          1.0       1.0       1.0   \n",
       "\n",
       "   V333_nan  V334_nan  V335_nan  V336_nan  V337_nan  V338_nan  V339_nan  \n",
       "0       1.0       1.0       1.0       1.0       1.0       1.0       1.0  \n",
       "1       1.0       1.0       1.0       1.0       1.0       1.0       1.0  \n",
       "2       1.0       1.0       1.0       1.0       1.0       1.0       1.0  \n",
       "\n",
       "[3 rows x 1788 columns]"
      ]
     },
     "execution_count": 526,
     "metadata": {},
     "output_type": "execute_result"
    }
   ],
   "source": [
    "df = pd.DataFrame(df, columns=columns)\n",
    "df.head(3)"
   ]
  },
  {
   "cell_type": "markdown",
   "metadata": {},
   "source": [
    "### Load Identities"
   ]
  },
  {
   "cell_type": "code",
   "execution_count": null,
   "metadata": {},
   "outputs": [],
   "source": [
    "ids = pd.read_csv(\"train_identity.csv\")\n",
    "ids.shape"
   ]
  },
  {
   "cell_type": "code",
   "execution_count": null,
   "metadata": {
    "scrolled": true
   },
   "outputs": [],
   "source": [
    "ids.head()"
   ]
  },
  {
   "cell_type": "markdown",
   "metadata": {},
   "source": [
    "### Data Wrangling for Identities"
   ]
  },
  {
   "cell_type": "code",
   "execution_count": null,
   "metadata": {},
   "outputs": [],
   "source": [
    "# id_01\n",
    "#ids.id_01.isna().sum()\n",
    "#ids.id_01.value_counts()\n",
    "# No changes"
   ]
  },
  {
   "cell_type": "code",
   "execution_count": null,
   "metadata": {},
   "outputs": [],
   "source": [
    "# id_02\n",
    "#ids.id_02.isna().sum()\n",
    "#ids.id_02.max()\n",
    "\n",
    "ids[\"id_02\" + \"_nan\"] = ids[\"id_02\"].isna().astype(int)\n",
    "ids[\"id_02\"].fillna(0.0, inplace=True)"
   ]
  },
  {
   "cell_type": "code",
   "execution_count": null,
   "metadata": {},
   "outputs": [],
   "source": [
    "# id_03\n",
    "#ids.id_03.isna().sum()\n",
    "#ids.id_03.value_counts()\n",
    "\n",
    "ids = pd.get_dummies(ids, columns=['id_03'], prefix='id_03', dummy_na=True)"
   ]
  },
  {
   "cell_type": "code",
   "execution_count": null,
   "metadata": {},
   "outputs": [],
   "source": [
    "# id_04\n",
    "#ids.id_04.isna().sum()\n",
    "#ids.id_04.value_counts()\n",
    "\n",
    "ids = pd.get_dummies(ids, columns=['id_04'], prefix='id_04', dummy_na=True)"
   ]
  },
  {
   "cell_type": "code",
   "execution_count": null,
   "metadata": {},
   "outputs": [],
   "source": [
    "# id_05\n",
    "#ids.id_05.isna().sum()\n",
    "#ids.id_05.value_counts()\n",
    "\n",
    "ids[\"id_05\" + \"_nan\"] = ids[\"id_05\"].isna().astype(int)\n",
    "ids[\"id_05\"].fillna(100.0, inplace=True)"
   ]
  },
  {
   "cell_type": "code",
   "execution_count": null,
   "metadata": {},
   "outputs": [],
   "source": [
    "# id_06\n",
    "#ids.id_06.isna().sum()\n",
    "#ids.id_06.value_counts()\n",
    "\n",
    "ids[\"id_06\" + \"_nan\"] = ids[\"id_06\"].isna().astype(int)\n",
    "ids[\"id_06\"].fillna(100.0, inplace=True)"
   ]
  },
  {
   "cell_type": "code",
   "execution_count": null,
   "metadata": {},
   "outputs": [],
   "source": [
    "# id_07\n",
    "#ids.id_07.isna().sum()\n",
    "#ids.id_07.value_counts()\n",
    "#ids.id_07.min()\n",
    "\n",
    "ids[\"id_07\" + \"_nan\"] = ids[\"id_07\"].isna().astype(int)\n",
    "ids[\"id_07\"].fillna(100.0, inplace=True)"
   ]
  },
  {
   "cell_type": "code",
   "execution_count": null,
   "metadata": {},
   "outputs": [],
   "source": [
    "# id_08\n",
    "#ids.id_08.isna().sum()\n",
    "#ids.id_08.value_counts()\n",
    "#ids.id_08.max()\n",
    "\n",
    "ids[\"id_08\" + \"_nan\"] = ids[\"id_08\"].isna().astype(int)\n",
    "ids[\"id_08\"].fillna(100.0, inplace=True)"
   ]
  },
  {
   "cell_type": "code",
   "execution_count": null,
   "metadata": {},
   "outputs": [],
   "source": [
    "# id_09\n",
    "#ids.id_09.isna().sum()\n",
    "#ids.id_09.value_counts()\n",
    "\n",
    "ids[\"id_09\" + \"_nan\"] = ids[\"id_09\"].isna().astype(int)\n",
    "ids[\"id_09\"].fillna(100.0, inplace=True)"
   ]
  },
  {
   "cell_type": "code",
   "execution_count": null,
   "metadata": {},
   "outputs": [],
   "source": [
    "# id_10\n",
    "#ids.id_10.isna().sum()\n",
    "#ids.id_10.value_counts()\n",
    "\n",
    "ids[\"id_10\" + \"_nan\"] = ids[\"id_10\"].isna().astype(int)\n",
    "ids[\"id_10\"].fillna(100.0, inplace=True)"
   ]
  },
  {
   "cell_type": "code",
   "execution_count": null,
   "metadata": {},
   "outputs": [],
   "source": [
    "# id_11\n",
    "#ids.id_11.isna().sum()\n",
    "#ids.id_11.value_counts()\n",
    "#ids.id_11.min()\n",
    "\n",
    "ids[\"id_11\" + \"_nan\"] = ids[\"id_11\"].isna().astype(int)\n",
    "ids[\"id_11\"].fillna(0.0, inplace=True)"
   ]
  },
  {
   "cell_type": "code",
   "execution_count": null,
   "metadata": {},
   "outputs": [],
   "source": [
    "# id_12\n",
    "#ids.id_12.isna().sum()\n",
    "#ids.id_12.value_counts()\n",
    "\n",
    "ids = pd.get_dummies(ids, columns=['id_12'], prefix='id_12', dummy_na=True)"
   ]
  },
  {
   "cell_type": "code",
   "execution_count": null,
   "metadata": {},
   "outputs": [],
   "source": [
    "# id_13\n",
    "#ids.id_13.isna().sum()\n",
    "#ids.id_13.value_counts()\n",
    "\n",
    "ids[\"id_13\" + \"_nan\"] = ids[\"id_13\"].isna().astype(int)\n",
    "ids[\"id_13\"].fillna(100.0, inplace=True)"
   ]
  },
  {
   "cell_type": "code",
   "execution_count": null,
   "metadata": {},
   "outputs": [],
   "source": [
    "# id_14\n",
    "#ids.id_14.isna().sum()\n",
    "#ids.id_14.value_counts()\n",
    "\n",
    "ids = pd.get_dummies(ids, columns=['id_14'], prefix='id_14', dummy_na=True)"
   ]
  },
  {
   "cell_type": "code",
   "execution_count": null,
   "metadata": {},
   "outputs": [],
   "source": [
    "# id_15\n",
    "#ids.id_15.isna().sum()\n",
    "#ids.id_15.value_counts()\n",
    "\n",
    "ids = pd.get_dummies(ids, columns=['id_15'], prefix='id_15', dummy_na=True)"
   ]
  },
  {
   "cell_type": "code",
   "execution_count": null,
   "metadata": {},
   "outputs": [],
   "source": [
    "# id_16\n",
    "#ids.id_16.isna().sum()\n",
    "#ids.id_16.value_counts()\n",
    "\n",
    "ids = pd.get_dummies(ids, columns=['id_16'], prefix='id_16', dummy_na=True)"
   ]
  },
  {
   "cell_type": "code",
   "execution_count": null,
   "metadata": {},
   "outputs": [],
   "source": [
    "# id_17\n",
    "#ids.id_17.isna().sum()\n",
    "#ids.id_17.value_counts()\n",
    "#ids.id_17.min()\n",
    "\n",
    "ids[\"id_17\" + \"_nan\"] = ids[\"id_17\"].isna().astype(int)\n",
    "ids[\"id_17\"].fillna(0.0, inplace=True)"
   ]
  },
  {
   "cell_type": "code",
   "execution_count": null,
   "metadata": {},
   "outputs": [],
   "source": [
    "# id_18\n",
    "#ids.id_18.isna().sum()\n",
    "#ids.id_18.value_counts()\n",
    "\n",
    "ids = pd.get_dummies(ids, columns=['id_18'], prefix='id_18', dummy_na=True)"
   ]
  },
  {
   "cell_type": "code",
   "execution_count": null,
   "metadata": {},
   "outputs": [],
   "source": [
    "# id_19\n",
    "#ids.id_19.isna().sum()\n",
    "#ids.id_19.value_counts()\n",
    "#ids.id_19.min()\n",
    "\n",
    "ids[\"id_19\" + \"_nan\"] = ids[\"id_19\"].isna().astype(int)\n",
    "ids[\"id_19\"].fillna(0.0, inplace=True)"
   ]
  },
  {
   "cell_type": "code",
   "execution_count": null,
   "metadata": {},
   "outputs": [],
   "source": [
    "# id_20\n",
    "#ids.id_20.isna().sum()\n",
    "#ids.id_20.value_counts()\n",
    "#ids.id_20.min()\n",
    "\n",
    "ids[\"id_20\" + \"_nan\"] = ids[\"id_20\"].isna().astype(int)\n",
    "ids[\"id_20\"].fillna(0.0, inplace=True)"
   ]
  },
  {
   "cell_type": "code",
   "execution_count": null,
   "metadata": {},
   "outputs": [],
   "source": [
    "# id_21\n",
    "#ids.id_21.isna().sum()\n",
    "#ids.id_21.value_counts()\n",
    "#ids.id_21.min()\n",
    "\n",
    "ids[\"id_21\" + \"_nan\"] = ids[\"id_21\"].isna().astype(int)\n",
    "ids[\"id_21\"].fillna(0.0, inplace=True)"
   ]
  },
  {
   "cell_type": "code",
   "execution_count": null,
   "metadata": {},
   "outputs": [],
   "source": [
    "# id_22\n",
    "#ids.id_22.isna().sum()\n",
    "#ids.id_22.value_counts()\n",
    "\n",
    "ids = pd.get_dummies(ids, columns=['id_22'], prefix='id_22', dummy_na=True)"
   ]
  },
  {
   "cell_type": "code",
   "execution_count": null,
   "metadata": {},
   "outputs": [],
   "source": [
    "# id_23\n",
    "#ids.id_23.isna().sum()\n",
    "#ids.id_23.value_counts()\n",
    "\n",
    "ids = pd.get_dummies(ids, columns=['id_23'], prefix='id_23', dummy_na=True)"
   ]
  },
  {
   "cell_type": "code",
   "execution_count": null,
   "metadata": {},
   "outputs": [],
   "source": [
    "# id_24\n",
    "#ids.id_24.isna().sum()\n",
    "#ids.id_24.value_counts()\n",
    "\n",
    "ids = pd.get_dummies(ids, columns=['id_24'], prefix='id_24', dummy_na=True)"
   ]
  },
  {
   "cell_type": "code",
   "execution_count": null,
   "metadata": {},
   "outputs": [],
   "source": [
    "# id_25\n",
    "#ids.id_25.isna().sum()\n",
    "#ids.id_25.value_counts()\n",
    "#ids.id_25.min()\n",
    "\n",
    "ids[\"id_25\" + \"_nan\"] = ids[\"id_25\"].isna().astype(int)\n",
    "ids[\"id_25\"].fillna(0.0, inplace=True)"
   ]
  },
  {
   "cell_type": "code",
   "execution_count": null,
   "metadata": {},
   "outputs": [],
   "source": [
    "# id_26\n",
    "#ids.id_26.isna().sum()\n",
    "#ids.id_26.value_counts()\n",
    "#ids.id_26.min()\n",
    "\n",
    "ids[\"id_26\" + \"_nan\"] = ids[\"id_26\"].isna().astype(int)\n",
    "ids[\"id_26\"].fillna(0.0, inplace=True)"
   ]
  },
  {
   "cell_type": "code",
   "execution_count": null,
   "metadata": {},
   "outputs": [],
   "source": [
    "# id_27\n",
    "#ids.id_27.isna().sum()\n",
    "#ids.id_27.value_counts()\n",
    "\n",
    "ids = pd.get_dummies(ids, columns=['id_27'], prefix='id_27', dummy_na=True)"
   ]
  },
  {
   "cell_type": "code",
   "execution_count": null,
   "metadata": {},
   "outputs": [],
   "source": [
    "# id_28\n",
    "#ids.id_28.isna().sum()\n",
    "#ids.id_28.value_counts()\n",
    "\n",
    "ids = pd.get_dummies(ids, columns=['id_28'], prefix='id_28', dummy_na=True)"
   ]
  },
  {
   "cell_type": "code",
   "execution_count": null,
   "metadata": {},
   "outputs": [],
   "source": [
    "# id_29\n",
    "#ids.id_29.isna().sum()\n",
    "#ids.id_29.value_counts()\n",
    "\n",
    "ids = pd.get_dummies(ids, columns=['id_29'], prefix='id_29', dummy_na=True)"
   ]
  },
  {
   "cell_type": "code",
   "execution_count": null,
   "metadata": {},
   "outputs": [],
   "source": [
    "# id_30\n",
    "#ids.id_30.isna().sum()\n",
    "#ids.id_30.value_counts()\n",
    "\n",
    "ids[\"id_30\"].fillna(\"Missing\", inplace=True)\n",
    "ids[\"OS_Type\"] = ids.id_30.str.split(\" \").map(lambda x: x[0])\n",
    "\n",
    "ids = pd.get_dummies(ids, columns=['id_30'], prefix='id_30', dummy_na=True)\n",
    "ids = pd.get_dummies(ids, columns=['OS_Type'], prefix='OS_Type', dummy_na=True)"
   ]
  },
  {
   "cell_type": "code",
   "execution_count": null,
   "metadata": {
    "scrolled": true
   },
   "outputs": [],
   "source": [
    "# id_31\n",
    "#ids.id_31.isna().sum()\n",
    "#list(ids.id_31.value_counts().index)\n",
    "\n",
    "ids[\"id_31\"].fillna(\"Missing\", inplace=True)\n",
    "\n",
    "browser_type = []\n",
    "\n",
    "for i in range(ids.shape[0]):\n",
    "    browser = ids.loc[i, \"id_31\"].lower()\n",
    "    \n",
    "    if (\"chrome\" in browser):\n",
    "        browser_type.append(\"chrome\")\n",
    "    elif(\"safari\" in browser):\n",
    "        browser_type.append(\"safari\")\n",
    "    elif(\"ie\" in browser):\n",
    "        browser_type.append(\"ie\")    \n",
    "    elif(\"safari\" in browser):\n",
    "        browser_type.append(\"safari\")\n",
    "    elif(\"firefox\" in browser):\n",
    "        browser_type.append(\"firefox\")      \n",
    "    elif(\"samsung\" in browser):\n",
    "        browser_type.append(\"samsung\")   \n",
    "    elif(\"edge\" in browser):\n",
    "        browser_type.append(\"edge\")   \n",
    "    elif(\"webview\" in browser):\n",
    "        browser_type.append(\"webview\") \n",
    "    elif(\"opera\" in browser):\n",
    "        browser_type.append(\"opera\")         \n",
    "    elif(\"search\" in browser):\n",
    "        browser_type.append(\"search\")     \n",
    "    elif(\"microsoft\" in browser):\n",
    "        browser_type.append(\"microsoft\") \n",
    "    else:\n",
    "        browser_type.append(browser)\n",
    "        \n",
    "ids = pd.get_dummies(ids, columns=['id_31'], prefix='id_31', dummy_na=True)\n",
    "ids['Browser_Type'] = browser_type"
   ]
  },
  {
   "cell_type": "code",
   "execution_count": null,
   "metadata": {},
   "outputs": [],
   "source": [
    "# id_32\n",
    "#ids.id_32.isna().sum()\n",
    "#ids.id_32.value_counts()\n",
    "\n",
    "ids = pd.get_dummies(ids, columns=['id_32'], prefix='id_32', dummy_na=True)"
   ]
  },
  {
   "cell_type": "code",
   "execution_count": null,
   "metadata": {},
   "outputs": [],
   "source": [
    "# id_33\n",
    "#ids.id_33.isna().sum()\n",
    "#ids.id_33.value_counts()\n",
    "\n",
    "ids = pd.get_dummies(ids, columns=['id_33'], prefix='id_33', dummy_na=True)"
   ]
  },
  {
   "cell_type": "code",
   "execution_count": null,
   "metadata": {},
   "outputs": [],
   "source": [
    "# id_34\n",
    "#ids.id_34.isna().sum()\n",
    "#ids.id_34.value_counts()\n",
    "\n",
    "ids = pd.get_dummies(ids, columns=['id_34'], prefix='id_34', dummy_na=True)"
   ]
  },
  {
   "cell_type": "code",
   "execution_count": null,
   "metadata": {},
   "outputs": [],
   "source": [
    "# id_35\n",
    "#ids.id_35.isna().sum()\n",
    "#ids.id_35.value_counts()\n",
    "\n",
    "ids = pd.get_dummies(ids, columns=['id_35'], prefix='id_35', dummy_na=True)"
   ]
  },
  {
   "cell_type": "code",
   "execution_count": null,
   "metadata": {},
   "outputs": [],
   "source": [
    "# id_36\n",
    "#ids.id_36.isna().sum()\n",
    "#ids.id_36.value_counts()\n",
    "\n",
    "ids = pd.get_dummies(ids, columns=['id_36'], prefix='id_36', dummy_na=True)"
   ]
  },
  {
   "cell_type": "code",
   "execution_count": null,
   "metadata": {},
   "outputs": [],
   "source": [
    "# id_37\n",
    "#ids.id_37.isna().sum()\n",
    "#ids.id_37.value_counts()\n",
    "\n",
    "ids = pd.get_dummies(ids, columns=['id_37'], prefix='id_37', dummy_na=True)"
   ]
  },
  {
   "cell_type": "code",
   "execution_count": null,
   "metadata": {
    "scrolled": true
   },
   "outputs": [],
   "source": [
    "# id_38\n",
    "#ids.id_38.isna().sum()\n",
    "#ids.id_38.value_counts()\n",
    "\n",
    "ids = pd.get_dummies(ids, columns=['id_38'], prefix='id_38', dummy_na=True)"
   ]
  },
  {
   "cell_type": "markdown",
   "metadata": {},
   "source": [
    "### Merge Identities and Transactions"
   ]
  },
  {
   "cell_type": "code",
   "execution_count": null,
   "metadata": {},
   "outputs": [],
   "source": [
    "data = pd.merge(df, ids, on=\"TransactionID\", how=\"left\")\n",
    "data.shape"
   ]
  },
  {
   "cell_type": "code",
   "execution_count": null,
   "metadata": {},
   "outputs": [],
   "source": [
    "data.head()"
   ]
  },
  {
   "cell_type": "code",
   "execution_count": null,
   "metadata": {},
   "outputs": [],
   "source": [
    "del data[\"TransactionID\"]"
   ]
  },
  {
   "cell_type": "code",
   "execution_count": null,
   "metadata": {},
   "outputs": [],
   "source": [
    "ids.id_01.isna().sum()"
   ]
  },
  {
   "cell_type": "code",
   "execution_count": null,
   "metadata": {},
   "outputs": [],
   "source": [
    "data.id_01.isna().sum()"
   ]
  },
  {
   "cell_type": "markdown",
   "metadata": {},
   "source": [
    "#### not clear yet what to do after merge.\n",
    "#### only 145K rows will be full\n",
    "#### let's first look at the performance on the Transactions set without Identities"
   ]
  },
  {
   "cell_type": "code",
   "execution_count": null,
   "metadata": {},
   "outputs": [],
   "source": []
  },
  {
   "cell_type": "markdown",
   "metadata": {},
   "source": [
    "### Split to Train and Test Sets"
   ]
  },
  {
   "cell_type": "code",
   "execution_count": 527,
   "metadata": {},
   "outputs": [],
   "source": [
    "X_train, X_test, y_train, y_test = train_test_split(df, labels, stratify=labels, test_size=0.3, random_state=8)"
   ]
  },
  {
   "cell_type": "markdown",
   "metadata": {},
   "source": [
    "### Gradient Boosting Classifier"
   ]
  },
  {
   "cell_type": "code",
   "execution_count": null,
   "metadata": {},
   "outputs": [],
   "source": [
    "%%time\n",
    "#\n",
    "# Gradient Boosting Machine\n",
    "#\n",
    "GBR = GradientBoostingRegressor(random_state=8)\n",
    "\n",
    "parameters_grid = {\n",
    "    \"n_estimators\": [350, 400, 450],\n",
    "    \"min_samples_split\": [2, 3, 4],\n",
    "    \"min_samples_leaf\": [1, 2, 3, 4]\n",
    "}\n",
    "\n",
    "gcv = GridSearchCV(GBR, parameters_grid, scoring='neg_mean_squared_error')\n",
    "gcv.fit(features_train, labels_train)\n",
    "GBR = gcv.best_estimator_\n",
    "print(GBR)\n",
    "print(\"GBR Score:\", gcv.best_score_)"
   ]
  },
  {
   "cell_type": "markdown",
   "metadata": {},
   "source": [
    "### Neural Network"
   ]
  },
  {
   "cell_type": "code",
   "execution_count": null,
   "metadata": {},
   "outputs": [],
   "source": [
    "df.shape"
   ]
  },
  {
   "cell_type": "code",
   "execution_count": 532,
   "metadata": {},
   "outputs": [
    {
     "name": "stdout",
     "output_type": "stream",
     "text": [
      "_________________________________________________________________\n",
      "Layer (type)                 Output Shape              Param #   \n",
      "=================================================================\n",
      "dense_103 (Dense)            (None, 512)               915968    \n",
      "_________________________________________________________________\n",
      "dropout_8 (Dropout)          (None, 512)               0         \n",
      "_________________________________________________________________\n",
      "dense_104 (Dense)            (None, 128)               65664     \n",
      "_________________________________________________________________\n",
      "dropout_9 (Dropout)          (None, 128)               0         \n",
      "_________________________________________________________________\n",
      "dense_105 (Dense)            (None, 16)                2064      \n",
      "_________________________________________________________________\n",
      "dense_106 (Dense)            (None, 1)                 17        \n",
      "=================================================================\n",
      "Total params: 983,713\n",
      "Trainable params: 983,713\n",
      "Non-trainable params: 0\n",
      "_________________________________________________________________\n"
     ]
    }
   ],
   "source": [
    "def rocauc(y_true, y_pred):\n",
    "    return tf.py_function(roc_auc_score, (y_true, y_pred), tf.double)\n",
    "\n",
    "\n",
    "classifier = Sequential()\n",
    "\n",
    "classifier.add(Dense(512, activation='relu', kernel_initializer='normal', input_dim=df.shape[1]))\n",
    "classifier.add(Dropout(0.1))\n",
    "classifier.add(Dense(128, activation='relu', kernel_initializer='normal'))\n",
    "classifier.add(Dropout(0.1))\n",
    "classifier.add(Dense(16, activation='relu', kernel_initializer='normal'))\n",
    "classifier.add(Dense(1, activation='sigmoid', kernel_initializer='normal'))\n",
    "\n",
    "classifier.compile(optimizer ='adam', loss='binary_crossentropy', metrics =['accuracy', rocauc])\n",
    "\n",
    "classifier.summary()"
   ]
  },
  {
   "cell_type": "code",
   "execution_count": 529,
   "metadata": {},
   "outputs": [
    {
     "name": "stderr",
     "output_type": "stream",
     "text": [
      "C:\\Users\\peterp\\Anaconda3\\lib\\site-packages\\ipykernel_launcher.py:2: SettingWithCopyWarning: \n",
      "A value is trying to be set on a copy of a slice from a DataFrame.\n",
      "Try using .loc[row_indexer,col_indexer] = value instead\n",
      "\n",
      "See the caveats in the documentation: http://pandas.pydata.org/pandas-docs/stable/indexing.html#indexing-view-versus-copy\n",
      "  \n"
     ]
    }
   ],
   "source": [
    "X_train_1 = X_train[y_train.astype(bool).values]\n",
    "X_train_1['Label'] = 1"
   ]
  },
  {
   "cell_type": "code",
   "execution_count": 530,
   "metadata": {
    "scrolled": true
   },
   "outputs": [
    {
     "name": "stderr",
     "output_type": "stream",
     "text": [
      "C:\\Users\\peterp\\Anaconda3\\lib\\site-packages\\ipykernel_launcher.py:2: SettingWithCopyWarning: \n",
      "A value is trying to be set on a copy of a slice from a DataFrame.\n",
      "Try using .loc[row_indexer,col_indexer] = value instead\n",
      "\n",
      "See the caveats in the documentation: http://pandas.pydata.org/pandas-docs/stable/indexing.html#indexing-view-versus-copy\n",
      "  \n"
     ]
    }
   ],
   "source": [
    "X_train_0 = X_train[(1 - y_train).astype(bool).values]\n",
    "X_train_0['Label'] = 0"
   ]
  },
  {
   "cell_type": "code",
   "execution_count": null,
   "metadata": {},
   "outputs": [],
   "source": [
    "X_train_0.shape"
   ]
  },
  {
   "cell_type": "code",
   "execution_count": 533,
   "metadata": {},
   "outputs": [
    {
     "name": "stdout",
     "output_type": "stream",
     "text": [
      "Epoch 1/5\n",
      "28928/28928 [==============================] - 3s 117us/sample - loss: 0.5791 - acc: 0.6995 - rocauc: 0.7747 - loss: 0.5918 - acc: 0.6887 - rocauc: 0.76 - ETA: 0s - loss: 0.5911 - acc: 0.6895 - \n",
      "Epoch 2/5\n",
      "28928/28928 [==============================] - 3s 91us/sample - loss: 0.4994 - acc: 0.7571 - rocauc: 0.8371\n",
      "Epoch 3/5\n",
      "28928/28928 [==============================] - 3s 93us/sample - loss: 0.4799 - acc: 0.7673 - rocauc: 0.8504\n",
      "Epoch 4/5\n",
      "28928/28928 [==============================] - 3s 97us/sample - loss: 0.4676 - acc: 0.7763 - rocauc: 0.8574\n",
      "Epoch 5/5\n",
      "28928/28928 [==============================] - 3s 92us/sample - loss: 0.4658 - acc: 0.7744 - rocauc: 0.8607\n",
      "Epoch 1/5\n",
      "28928/28928 [==============================] - 3s 89us/sample - loss: 0.4589 - acc: 0.7844 - rocauc: 0.8619\n",
      "Epoch 2/5\n",
      "28928/28928 [==============================] - 3s 93us/sample - loss: 0.4550 - acc: 0.7825 - rocauc: 0.8670\n",
      "Epoch 3/5\n",
      "28928/28928 [==============================] - 3s 93us/sample - loss: 0.4508 - acc: 0.7872 - rocauc: 0.8693\n",
      "Epoch 4/5\n",
      "28928/28928 [==============================] - 3s 92us/sample - loss: 0.4431 - acc: 0.7908 - rocauc: 0.8725\n",
      "Epoch 5/5\n",
      "28928/28928 [==============================] - 3s 92us/sample - loss: 0.4398 - acc: 0.7940 - rocauc: 0.8750\n",
      "Epoch 1/5\n",
      "28928/28928 [==============================] - 3s 88us/sample - loss: 0.4462 - acc: 0.7897 - rocauc: 0.8711\n",
      "Epoch 2/5\n",
      "28928/28928 [==============================] - 3s 93us/sample - loss: 0.4386 - acc: 0.7925 - rocauc: 0.8758\n",
      "Epoch 3/5\n",
      "28928/28928 [==============================] - 3s 94us/sample - loss: 0.4338 - acc: 0.7962 - rocauc: 0.8793\n",
      "Epoch 4/5\n",
      "28928/28928 [==============================] - 3s 94us/sample - loss: 0.4275 - acc: 0.7996 - rocauc: 0.8820s - loss: 0.4256 - acc: 0.8005 - roca\n",
      "Epoch 5/5\n",
      "28928/28928 [==============================] - 3s 94us/sample - loss: 0.4277 - acc: 0.7993 - rocauc: 0.8817\n",
      "Epoch 1/5\n",
      "28928/28928 [==============================] - 3s 90us/sample - loss: 0.4333 - acc: 0.7956 - rocauc: 0.8809\n",
      "Epoch 2/5\n",
      "28928/28928 [==============================] - 3s 98us/sample - loss: 0.4302 - acc: 0.7980 - rocauc: 0.8818\n",
      "Epoch 3/5\n",
      "28928/28928 [==============================] - 3s 95us/sample - loss: 0.4203 - acc: 0.8039 - rocauc: 0.8875\n",
      "Epoch 4/5\n",
      "28928/28928 [==============================] - 3s 95us/sample - loss: 0.4144 - acc: 0.8072 - rocauc: 0.8906\n",
      "Epoch 5/5\n",
      "28928/28928 [==============================] - 3s 94us/sample - loss: 0.4099 - acc: 0.8119 - rocauc: 0.8932\n",
      "Epoch 1/5\n",
      "28928/28928 [==============================] - 3s 90us/sample - loss: 0.4195 - acc: 0.8044 - rocauc: 0.8888\n",
      "Epoch 2/5\n",
      "28928/28928 [==============================] - 3s 93us/sample - loss: 0.4107 - acc: 0.8096 - rocauc: 0.8934\n",
      "Epoch 3/5\n",
      "28928/28928 [==============================] - 3s 94us/sample - loss: 0.4125 - acc: 0.8060 - rocauc: 0.8952\n",
      "Epoch 4/5\n",
      "28928/28928 [==============================] - 3s 94us/sample - loss: 0.4003 - acc: 0.8158 - rocauc: 0.8969\n",
      "Epoch 5/5\n",
      "28928/28928 [==============================] - 3s 94us/sample - loss: 0.3942 - acc: 0.8187 - rocauc: 0.9003\n",
      "Epoch 1/5\n",
      "28928/28928 [==============================] - 3s 94us/sample - loss: 0.4049 - acc: 0.8123 - rocauc: 0.8957s - loss: 0.4\n",
      "Epoch 2/5\n",
      "28928/28928 [==============================] - 3s 95us/sample - loss: 0.3951 - acc: 0.8197 - rocauc: 0.9001\n",
      "Epoch 3/5\n",
      "28928/28928 [==============================] - 3s 97us/sample - loss: 0.3926 - acc: 0.8190 - rocauc: 0.9031\n",
      "Epoch 4/5\n",
      "28928/28928 [==============================] - 3s 96us/sample - loss: 0.3876 - acc: 0.8229 - rocauc: 0.9049s - los\n",
      "Epoch 5/5\n",
      "28928/28928 [==============================] - 3s 96us/sample - loss: 0.3836 - acc: 0.8237 - rocauc: 0.9070\n",
      "Epoch 1/5\n",
      "28928/28928 [==============================] - 3s 90us/sample - loss: 0.3979 - acc: 0.8173 - rocauc: 0.9003\n",
      "Epoch 2/5\n",
      "28928/28928 [==============================] - 3s 95us/sample - loss: 0.3917 - acc: 0.8212 - rocauc: 0.9033\n",
      "Epoch 3/5\n",
      "28928/28928 [==============================] - 3s 95us/sample - loss: 0.3852 - acc: 0.8246 - rocauc: 0.9068s - loss: 0.3840 - ac\n",
      "Epoch 4/5\n",
      "28928/28928 [==============================] - 3s 103us/sample - loss: 0.3797 - acc: 0.8272 - rocauc: 0.9096\n",
      "Epoch 5/5\n",
      "28928/28928 [==============================] - 3s 96us/sample - loss: 0.3738 - acc: 0.8288 - rocauc: 0.9118\n",
      "Epoch 1/5\n",
      "28928/28928 [==============================] - 3s 95us/sample - loss: 0.3821 - acc: 0.8275 - rocauc: 0.9087\n",
      "Epoch 2/5\n",
      "28928/28928 [==============================] - 3s 95us/sample - loss: 0.3744 - acc: 0.8282 - rocauc: 0.9125\n",
      "Epoch 3/5\n",
      "28928/28928 [==============================] - 3s 94us/sample - loss: 0.3667 - acc: 0.8336 - rocauc: 0.9152\n",
      "Epoch 4/5\n",
      "28928/28928 [==============================] - 3s 94us/sample - loss: 0.3633 - acc: 0.8357 - rocauc: 0.9168\n",
      "Epoch 5/5\n",
      "28928/28928 [==============================] - 3s 106us/sample - loss: 0.3627 - acc: 0.8357 - rocauc: 0.9185\n",
      "Epoch 1/5\n",
      "28928/28928 [==============================] - 3s 88us/sample - loss: 0.3731 - acc: 0.8291 - rocauc: 0.9141\n",
      "Epoch 2/5\n",
      "28928/28928 [==============================] - 3s 93us/sample - loss: 0.3604 - acc: 0.8387 - rocauc: 0.9182\n",
      "Epoch 3/5\n",
      "28928/28928 [==============================] - 3s 92us/sample - loss: 0.3557 - acc: 0.8407 - rocauc: 0.9215s - l\n",
      "Epoch 4/5\n",
      "28928/28928 [==============================] - 3s 100us/sample - loss: 0.3520 - acc: 0.8423 - rocauc: 0.9224\n",
      "Epoch 5/5\n",
      "28928/28928 [==============================] - 3s 98us/sample - loss: 0.3476 - acc: 0.8426 - rocauc: 0.9239\n",
      "Epoch 1/5\n",
      "28928/28928 [==============================] - 3s 90us/sample - loss: 0.3640 - acc: 0.8347 - rocauc: 0.9179s - loss: 0.3671 - acc: 0.831\n",
      "Epoch 2/5\n",
      "28928/28928 [==============================] - 3s 93us/sample - loss: 0.3582 - acc: 0.8379 - rocauc: 0.9202\n",
      "Epoch 3/5\n",
      "28928/28928 [==============================] - 3s 92us/sample - loss: 0.3528 - acc: 0.8407 - rocauc: 0.9222\n",
      "Epoch 4/5\n",
      "28928/28928 [==============================] - 3s 93us/sample - loss: 0.3507 - acc: 0.8415 - rocauc: 0.9227\n",
      "Epoch 5/5\n",
      "28928/28928 [==============================] - 3s 107us/sample - loss: 0.3450 - acc: 0.8436 - rocauc: 0.9251\n",
      "Epoch 1/5\n",
      "28928/28928 [==============================] - 3s 90us/sample - loss: 0.3574 - acc: 0.8378 - rocauc: 0.9210\n",
      "Epoch 2/5\n",
      "28928/28928 [==============================] - 3s 92us/sample - loss: 0.3484 - acc: 0.8415 - rocauc: 0.9246\n",
      "Epoch 3/5\n",
      "28928/28928 [==============================] - 3s 92us/sample - loss: 0.3404 - acc: 0.8467 - rocauc: 0.9269\n",
      "Epoch 4/5\n",
      "28928/28928 [==============================] - 3s 93us/sample - loss: 0.3429 - acc: 0.8423 - rocauc: 0.9263\n",
      "Epoch 5/5\n",
      "28928/28928 [==============================] - 3s 102us/sample - loss: 0.3365 - acc: 0.8479 - rocauc: 0.9284\n",
      "Epoch 1/5\n",
      "28928/28928 [==============================] - 3s 90us/sample - loss: 0.3540 - acc: 0.8403 - rocauc: 0.9221\n",
      "Epoch 2/5\n",
      "28928/28928 [==============================] - 3s 93us/sample - loss: 0.3422 - acc: 0.8455 - rocauc: 0.9276\n",
      "Epoch 3/5\n",
      "28928/28928 [==============================] - 3s 92us/sample - loss: 0.3327 - acc: 0.8492 - rocauc: 0.9298\n",
      "Epoch 4/5\n",
      "28928/28928 [==============================] - 3s 99us/sample - loss: 0.3300 - acc: 0.8504 - rocauc: 0.9312\n",
      "Epoch 5/5\n",
      "28928/28928 [==============================] - 3s 96us/sample - loss: 0.3291 - acc: 0.8525 - rocauc: 0.9330\n",
      "Epoch 1/5\n",
      "28928/28928 [==============================] - 3s 89us/sample - loss: 0.3482 - acc: 0.8411 - rocauc: 0.9244\n",
      "Epoch 2/5\n",
      "28928/28928 [==============================] - 3s 101us/sample - loss: 0.3385 - acc: 0.8476 - rocauc: 0.9293\n",
      "Epoch 3/5\n",
      "28928/28928 [==============================] - 3s 93us/sample - loss: 0.3360 - acc: 0.8466 - rocauc: 0.9311\n",
      "Epoch 4/5\n",
      "28928/28928 [==============================] - 3s 93us/sample - loss: 0.3323 - acc: 0.8492 - rocauc: 0.9312\n",
      "Epoch 5/5\n",
      "28928/28928 [==============================] - 3s 100us/sample - loss: 0.3319 - acc: 0.8501 - rocauc: 0.9326\n",
      "Epoch 1/5\n",
      "28928/28928 [==============================] - 3s 91us/sample - loss: 0.3419 - acc: 0.8457 - rocauc: 0.9280\n",
      "Epoch 2/5\n",
      "28928/28928 [==============================] - 3s 93us/sample - loss: 0.3343 - acc: 0.8513 - rocauc: 0.9312\n",
      "Epoch 3/5\n"
     ]
    },
    {
     "name": "stdout",
     "output_type": "stream",
     "text": [
      "28928/28928 [==============================] - 3s 93us/sample - loss: 0.3271 - acc: 0.8523 - rocauc: 0.9333\n",
      "Epoch 4/5\n",
      "28928/28928 [==============================] - 3s 99us/sample - loss: 0.3218 - acc: 0.8556 - rocauc: 0.9354\n",
      "Epoch 5/5\n",
      "28928/28928 [==============================] - 3s 94us/sample - loss: 0.3240 - acc: 0.8529 - rocauc: 0.9345\n",
      "Epoch 1/5\n",
      "28928/28928 [==============================] - 2s 86us/sample - loss: 0.3378 - acc: 0.8467 - rocauc: 0.9300\n",
      "Epoch 2/5\n",
      "28928/28928 [==============================] - 3s 89us/sample - loss: 0.3264 - acc: 0.8507 - rocauc: 0.9339\n",
      "Epoch 3/5\n",
      "28928/28928 [==============================] - 3s 98us/sample - loss: 0.3180 - acc: 0.8558 - rocauc: 0.9375\n",
      "Epoch 4/5\n",
      "28928/28928 [==============================] - 3s 94us/sample - loss: 0.3135 - acc: 0.8566 - rocauc: 0.9391\n",
      "Epoch 5/5\n",
      "28928/28928 [==============================] - 3s 94us/sample - loss: 0.3155 - acc: 0.8575 - rocauc: 0.9379\n",
      "Epoch 1/5\n",
      "28928/28928 [==============================] - 3s 88us/sample - loss: 0.3247 - acc: 0.8557 - rocauc: 0.9356\n",
      "Epoch 2/5\n",
      "28928/28928 [==============================] - 3s 90us/sample - loss: 0.3223 - acc: 0.8549 - rocauc: 0.9354\n",
      "Epoch 3/5\n",
      "28928/28928 [==============================] - 3s 100us/sample - loss: 0.3190 - acc: 0.8547 - rocauc: 0.9372\n",
      "Epoch 4/5\n",
      "28928/28928 [==============================] - 3s 95us/sample - loss: 0.3114 - acc: 0.8606 - rocauc: 0.9399s - l\n",
      "Epoch 5/5\n",
      "28928/28928 [==============================] - 3s 94us/sample - loss: 0.3084 - acc: 0.8618 - rocauc: 0.9406\n",
      "Epoch 1/5\n",
      "28928/28928 [==============================] - 3s 86us/sample - loss: 0.3281 - acc: 0.8526 - rocauc: 0.9339s - loss: 0.3288 - acc: 0.8519 - rocauc\n",
      "Epoch 2/5\n",
      "28928/28928 [==============================] - 3s 91us/sample - loss: 0.3162 - acc: 0.8568 - rocauc: 0.9374\n",
      "Epoch 3/5\n",
      "28928/28928 [==============================] - 3s 90us/sample - loss: 0.3156 - acc: 0.8588 - rocauc: 0.9397\n",
      "Epoch 4/5\n",
      "28928/28928 [==============================] - 3s 91us/sample - loss: 0.3116 - acc: 0.8595 - rocauc: 0.9399\n",
      "Epoch 5/5\n",
      "28928/28928 [==============================] - 3s 100us/sample - loss: 0.3044 - acc: 0.8619 - rocauc: 0.9423\n",
      "Epoch 1/5\n",
      "28928/28928 [==============================] - 3s 87us/sample - loss: 0.3186 - acc: 0.8551 - rocauc: 0.9370\n",
      "Epoch 2/5\n",
      "28928/28928 [==============================] - 3s 90us/sample - loss: 0.3080 - acc: 0.8608 - rocauc: 0.9407\n",
      "Epoch 3/5\n",
      "28928/28928 [==============================] - 3s 91us/sample - loss: 0.3109 - acc: 0.8597 - rocauc: 0.9401\n",
      "Epoch 4/5\n",
      "28928/28928 [==============================] - 3s 104us/sample - loss: 0.3069 - acc: 0.8586 - rocauc: 0.9418 - loss: 0.305\n",
      "Epoch 5/5\n",
      "28928/28928 [==============================] - 3s 92us/sample - loss: 0.3004 - acc: 0.8640 - rocauc: 0.9440\n",
      "Epoch 1/5\n",
      "28928/28928 [==============================] - 3s 88us/sample - loss: 0.3151 - acc: 0.8597 - rocauc: 0.9389\n",
      "Epoch 2/5\n",
      "28928/28928 [==============================] - 3s 91us/sample - loss: 0.3040 - acc: 0.8638 - rocauc: 0.9427\n",
      "Epoch 3/5\n",
      "28928/28928 [==============================] - 3s 91us/sample - loss: 0.3017 - acc: 0.8657 - rocauc: 0.9440\n",
      "Epoch 4/5\n",
      "28928/28928 [==============================] - 3s 101us/sample - loss: 0.3012 - acc: 0.8664 - rocauc: 0.9439\n",
      "Epoch 5/5\n",
      "28928/28928 [==============================] - 3s 92us/sample - loss: 0.2953 - acc: 0.8672 - rocauc: 0.9461\n",
      "Epoch 1/5\n",
      "28928/28928 [==============================] - 3s 90us/sample - loss: 0.3114 - acc: 0.8600 - rocauc: 0.9401\n",
      "Epoch 2/5\n",
      "28928/28928 [==============================] - 3s 92us/sample - loss: 0.3029 - acc: 0.8631 - rocauc: 0.9429\n",
      "Epoch 3/5\n",
      "28928/28928 [==============================] - 3s 100us/sample - loss: 0.2993 - acc: 0.8655 - rocauc: 0.9444\n",
      "Epoch 4/5\n",
      "28928/28928 [==============================] - 3s 92us/sample - loss: 0.2977 - acc: 0.8665 - rocauc: 0.9453\n",
      "Epoch 5/5\n",
      "28928/28928 [==============================] - 3s 92us/sample - loss: 0.3007 - acc: 0.8636 - rocauc: 0.9433\n",
      "Epoch 1/5\n",
      "28928/28928 [==============================] - 3s 87us/sample - loss: 0.3140 - acc: 0.8602 - rocauc: 0.9391\n",
      "Epoch 2/5\n",
      "28928/28928 [==============================] - 3s 91us/sample - loss: 0.3031 - acc: 0.8637 - rocauc: 0.9431\n",
      "Epoch 3/5\n",
      "28928/28928 [==============================] - 3s 105us/sample - loss: 0.2993 - acc: 0.8635 - rocauc: 0.9441\n",
      "Epoch 4/5\n",
      "28928/28928 [==============================] - 3s 95us/sample - loss: 0.2974 - acc: 0.8656 - rocauc: 0.9463s - l\n",
      "Epoch 5/5\n",
      "28928/28928 [==============================] - 3s 95us/sample - loss: 0.2883 - acc: 0.8686 - rocauc: 0.9484\n",
      "Epoch 1/5\n",
      "28928/28928 [==============================] - 3s 90us/sample - loss: 0.3092 - acc: 0.8596 - rocauc: 0.9417\n",
      "Epoch 2/5\n",
      "28928/28928 [==============================] - 3s 91us/sample - loss: 0.3000 - acc: 0.8653 - rocauc: 0.9441\n",
      "Epoch 3/5\n",
      "28928/28928 [==============================] - 3s 92us/sample - loss: 0.2968 - acc: 0.8658 - rocauc: 0.9457s - l\n",
      "Epoch 4/5\n",
      "28928/28928 [==============================] - 3s 92us/sample - loss: 0.2924 - acc: 0.8651 - rocauc: 0.9475\n",
      "Epoch 5/5\n",
      "28928/28928 [==============================] - 3s 97us/sample - loss: 0.2884 - acc: 0.8683 - rocauc: 0.9485\n",
      "Epoch 1/5\n",
      "28928/28928 [==============================] - 3s 95us/sample - loss: 0.3074 - acc: 0.8631 - rocauc: 0.9420\n",
      "Epoch 2/5\n",
      "28928/28928 [==============================] - 3s 88us/sample - loss: 0.2991 - acc: 0.8678 - rocauc: 0.9454\n",
      "Epoch 3/5\n",
      "28928/28928 [==============================] - 3s 100us/sample - loss: 0.2945 - acc: 0.8674 - rocauc: 0.9468\n",
      "Epoch 4/5\n",
      "28928/28928 [==============================] - 3s 96us/sample - loss: 0.2887 - acc: 0.8711 - rocauc: 0.9485\n",
      "Epoch 5/5\n",
      "28928/28928 [==============================] - 3s 94us/sample - loss: 0.2820 - acc: 0.8729 - rocauc: 0.9505s - loss: 0 - ETA: 0s - loss: 0.2813 - acc: 0.8735 - rocauc: 0.95\n",
      "Epoch 1/5\n",
      "28928/28928 [==============================] - 3s 90us/sample - loss: 0.3013 - acc: 0.8646 - rocauc: 0.9445\n",
      "Epoch 2/5\n",
      "28928/28928 [==============================] - 3s 91us/sample - loss: 0.2942 - acc: 0.8674 - rocauc: 0.9467\n",
      "Epoch 3/5\n",
      "28928/28928 [==============================] - 3s 94us/sample - loss: 0.2918 - acc: 0.8681 - rocauc: 0.9475\n",
      "Epoch 4/5\n",
      "28928/28928 [==============================] - 3s 91us/sample - loss: 0.2822 - acc: 0.8725 - rocauc: 0.9511\n",
      "Epoch 5/5\n",
      "28928/28928 [==============================] - 3s 100us/sample - loss: 0.2781 - acc: 0.8752 - rocauc: 0.9518\n",
      "Epoch 1/5\n",
      "28928/28928 [==============================] - 3s 89us/sample - loss: 0.2978 - acc: 0.8663 - rocauc: 0.9462\n",
      "Epoch 2/5\n",
      "28928/28928 [==============================] - 3s 91us/sample - loss: 0.2842 - acc: 0.8741 - rocauc: 0.9499\n",
      "Epoch 3/5\n",
      "28928/28928 [==============================] - 3s 92us/sample - loss: 0.2826 - acc: 0.8714 - rocauc: 0.9506\n",
      "Epoch 4/5\n",
      "28928/28928 [==============================] - 3s 99us/sample - loss: 0.2827 - acc: 0.8722 - rocauc: 0.9509\n",
      "Epoch 5/5\n",
      "28928/28928 [==============================] - 3s 94us/sample - loss: 0.2797 - acc: 0.8757 - rocauc: 0.9518\n",
      "Epoch 1/5\n",
      "28928/28928 [==============================] - 3s 92us/sample - loss: 0.2987 - acc: 0.8629 - rocauc: 0.9451\n",
      "Epoch 2/5\n",
      "28928/28928 [==============================] - 3s 93us/sample - loss: 0.2844 - acc: 0.8710 - rocauc: 0.9502\n",
      "Epoch 3/5\n",
      "28928/28928 [==============================] - 3s 95us/sample - loss: 0.2769 - acc: 0.8756 - rocauc: 0.9527\n",
      "Epoch 4/5\n",
      "28928/28928 [==============================] - 3s 100us/sample - loss: 0.2809 - acc: 0.8741 - rocauc: 0.9511\n",
      "Epoch 5/5\n",
      "28928/28928 [==============================] - 3s 92us/sample - loss: 0.2787 - acc: 0.8730 - rocauc: 0.9516s - loss: 0.2786 - acc: 0.8732 - rocauc\n",
      "Epoch 1/5\n",
      "28928/28928 [==============================] - 3s 89us/sample - loss: 0.2968 - acc: 0.8662 - rocauc: 0.9463\n",
      "Epoch 2/5\n",
      "28928/28928 [==============================] - 3s 101us/sample - loss: 0.2849 - acc: 0.8729 - rocauc: 0.9504\n",
      "Epoch 3/5\n",
      "28928/28928 [==============================] - 3s 95us/sample - loss: 0.2778 - acc: 0.8733 - rocauc: 0.9524\n",
      "Epoch 4/5\n",
      "28928/28928 [==============================] - 3s 94us/sample - loss: 0.2735 - acc: 0.8774 - rocauc: 0.9540\n",
      "Epoch 5/5\n",
      "28928/28928 [==============================] - 3s 93us/sample - loss: 0.2723 - acc: 0.8761 - rocauc: 0.9540\n"
     ]
    },
    {
     "name": "stdout",
     "output_type": "stream",
     "text": [
      "Epoch 1/5\n",
      "28928/28928 [==============================] - 3s 91us/sample - loss: 0.2900 - acc: 0.8712 - rocauc: 0.9484\n",
      "Epoch 2/5\n",
      "28928/28928 [==============================] - 3s 95us/sample - loss: 0.2808 - acc: 0.8735 - rocauc: 0.9515\n",
      "Epoch 3/5\n",
      "28928/28928 [==============================] - 3s 92us/sample - loss: 0.2803 - acc: 0.8720 - rocauc: 0.9521\n",
      "Epoch 4/5\n",
      "28928/28928 [==============================] - 3s 91us/sample - loss: 0.2724 - acc: 0.8764 - rocauc: 0.9543s - loss: 0.2722 - acc: 0.8\n",
      "Epoch 5/5\n",
      "28928/28928 [==============================] - 3s 101us/sample - loss: 0.2687 - acc: 0.8765 - rocauc: 0.9554\n",
      "Epoch 1/5\n",
      "28928/28928 [==============================] - 3s 87us/sample - loss: 0.2821 - acc: 0.8726 - rocauc: 0.9512\n",
      "Epoch 2/5\n",
      "28928/28928 [==============================] - 3s 90us/sample - loss: 0.2768 - acc: 0.8754 - rocauc: 0.9527\n",
      "Epoch 3/5\n",
      "28928/28928 [==============================] - 3s 93us/sample - loss: 0.2709 - acc: 0.8795 - rocauc: 0.9548\n",
      "Epoch 4/5\n",
      "28928/28928 [==============================] - 3s 109us/sample - loss: 0.2674 - acc: 0.8797 - rocauc: 0.9562\n",
      "Epoch 5/5\n",
      "28928/28928 [==============================] - 3s 98us/sample - loss: 0.2637 - acc: 0.8812 - rocauc: 0.9571s - loss: 0.2641 - acc:\n",
      "Epoch 1/5\n",
      "28928/28928 [==============================] - 3s 92us/sample - loss: 0.2807 - acc: 0.8748 - rocauc: 0.9520\n",
      "Epoch 2/5\n",
      "28928/28928 [==============================] - 3s 92us/sample - loss: 0.2754 - acc: 0.8769 - rocauc: 0.9532\n",
      "Epoch 3/5\n",
      "28928/28928 [==============================] - 3s 99us/sample - loss: 0.2703 - acc: 0.8793 - rocauc: 0.9549\n",
      "Epoch 4/5\n",
      "28928/28928 [==============================] - 3s 92us/sample - loss: 0.2709 - acc: 0.8782 - rocauc: 0.9545\n",
      "Epoch 5/5\n",
      "28928/28928 [==============================] - 3s 93us/sample - loss: 0.2712 - acc: 0.8783 - rocauc: 0.9548\n",
      "Epoch 1/5\n",
      "28928/28928 [==============================] - 2s 86us/sample - loss: 0.2876 - acc: 0.8706 - rocauc: 0.9495\n",
      "Epoch 2/5\n",
      "28928/28928 [==============================] - 3s 90us/sample - loss: 0.2809 - acc: 0.8738 - rocauc: 0.9512\n",
      "Epoch 3/5\n",
      "28928/28928 [==============================] - 3s 91us/sample - loss: 0.2792 - acc: 0.8725 - rocauc: 0.9527\n",
      "Epoch 4/5\n",
      "28928/28928 [==============================] - 3s 90us/sample - loss: 0.2727 - acc: 0.8760 - rocauc: 0.9543\n",
      "Epoch 5/5\n",
      "28928/28928 [==============================] - 3s 95us/sample - loss: 0.2636 - acc: 0.8806 - rocauc: 0.9569\n",
      "Epoch 1/5\n",
      "28928/28928 [==============================] - 3s 88us/sample - loss: 0.2775 - acc: 0.8759 - rocauc: 0.9530\n",
      "Epoch 2/5\n",
      "28928/28928 [==============================] - 3s 92us/sample - loss: 0.2733 - acc: 0.8756 - rocauc: 0.9544\n",
      "Epoch 3/5\n",
      "28928/28928 [==============================] - 3s 92us/sample - loss: 0.2650 - acc: 0.8804 - rocauc: 0.9569\n",
      "Epoch 4/5\n",
      "28928/28928 [==============================] - 3s 92us/sample - loss: 0.2643 - acc: 0.8802 - rocauc: 0.9572\n",
      "Epoch 5/5\n",
      "28928/28928 [==============================] - 3s 99us/sample - loss: 0.2618 - acc: 0.8814 - rocauc: 0.9584\n",
      "Epoch 1/5\n",
      "28928/28928 [==============================] - 3s 89us/sample - loss: 0.2773 - acc: 0.8769 - rocauc: 0.9538\n",
      "Epoch 2/5\n",
      "28928/28928 [==============================] - 3s 90us/sample - loss: 0.2657 - acc: 0.8792 - rocauc: 0.9565\n",
      "Epoch 3/5\n",
      "28928/28928 [==============================] - 3s 95us/sample - loss: 0.2598 - acc: 0.8838 - rocauc: 0.9586\n",
      "Epoch 4/5\n",
      "28928/28928 [==============================] - 3s 94us/sample - loss: 0.2567 - acc: 0.8844 - rocauc: 0.9598\n",
      "Epoch 5/5\n",
      "28928/28928 [==============================] - 3s 93us/sample - loss: 0.2538 - acc: 0.8858 - rocauc: 0.9604\n",
      "Epoch 1/5\n",
      "28928/28928 [==============================] - 3s 88us/sample - loss: 0.2727 - acc: 0.8765 - rocauc: 0.9542\n",
      "Epoch 2/5\n",
      "28928/28928 [==============================] - 3s 91us/sample - loss: 0.2653 - acc: 0.8816 - rocauc: 0.9579\n",
      "Epoch 3/5\n",
      "28928/28928 [==============================] - 3s 93us/sample - loss: 0.2569 - acc: 0.8841 - rocauc: 0.9594\n",
      "Epoch 4/5\n",
      "28928/28928 [==============================] - 3s 93us/sample - loss: 0.2546 - acc: 0.8845 - rocauc: 0.9601\n",
      "Epoch 5/5\n",
      "28928/28928 [==============================] - 3s 97us/sample - loss: 0.2587 - acc: 0.8845 - rocauc: 0.9594\n",
      "Epoch 1/5\n",
      "28928/28928 [==============================] - 3s 88us/sample - loss: 0.2709 - acc: 0.8791 - rocauc: 0.9555\n",
      "Epoch 2/5\n",
      "28928/28928 [==============================] - 3s 91us/sample - loss: 0.2655 - acc: 0.8804 - rocauc: 0.9570\n",
      "Epoch 3/5\n",
      "28928/28928 [==============================] - 3s 93us/sample - loss: 0.2636 - acc: 0.8816 - rocauc: 0.9571s - loss: 0.2635 - acc: 0.8816 - rocauc: 0.95\n",
      "Epoch 4/5\n",
      "28928/28928 [==============================] - 3s 107us/sample - loss: 0.2530 - acc: 0.8865 - rocauc: 0.9604\n",
      "Epoch 5/5\n",
      "28928/28928 [==============================] - 3s 94us/sample - loss: 0.2570 - acc: 0.8839 - rocauc: 0.9598\n",
      "Epoch 1/5\n",
      "28928/28928 [==============================] - 3s 88us/sample - loss: 0.2683 - acc: 0.8805 - rocauc: 0.9564\n",
      "Epoch 2/5\n",
      "28928/28928 [==============================] - 3s 92us/sample - loss: 0.2637 - acc: 0.8818 - rocauc: 0.9577\n",
      "Epoch 3/5\n",
      "28928/28928 [==============================] - 3s 92us/sample - loss: 0.2592 - acc: 0.8840 - rocauc: 0.9589s - loss: 0\n",
      "Epoch 4/5\n",
      "28928/28928 [==============================] - 3s 101us/sample - loss: 0.2512 - acc: 0.8876 - rocauc: 0.9622 - loss: 0\n",
      "Epoch 5/5\n",
      "28928/28928 [==============================] - 3s 95us/sample - loss: 0.2518 - acc: 0.8876 - rocauc: 0.9613\n",
      "Epoch 1/5\n",
      "28928/28928 [==============================] - 3s 87us/sample - loss: 0.2655 - acc: 0.8812 - rocauc: 0.9573\n",
      "Epoch 2/5\n",
      "28928/28928 [==============================] - 3s 89us/sample - loss: 0.2582 - acc: 0.8834 - rocauc: 0.9597\n",
      "Epoch 3/5\n",
      "28928/28928 [==============================] - 3s 98us/sample - loss: 0.2548 - acc: 0.8851 - rocauc: 0.9601\n",
      "Epoch 4/5\n",
      "28928/28928 [==============================] - 3s 95us/sample - loss: 0.2533 - acc: 0.8843 - rocauc: 0.9608s - loss: 0.2528 - acc: 0.8848 - rocauc: \n",
      "Epoch 5/5\n",
      "28928/28928 [==============================] - 3s 95us/sample - loss: 0.2445 - acc: 0.8914 - rocauc: 0.9635s - loss: 0.2446 - acc: 0.8916 - roca\n",
      "Epoch 1/5\n",
      "28928/28928 [==============================] - 3s 91us/sample - loss: 0.2678 - acc: 0.8812 - rocauc: 0.9565\n",
      "Epoch 2/5\n",
      "28928/28928 [==============================] - 3s 93us/sample - loss: 0.2576 - acc: 0.8850 - rocauc: 0.9597\n",
      "Epoch 3/5\n",
      "28928/28928 [==============================] - 3s 92us/sample - loss: 0.2552 - acc: 0.8863 - rocauc: 0.9602\n",
      "Epoch 4/5\n",
      "28928/28928 [==============================] - 3s 93us/sample - loss: 0.2512 - acc: 0.8877 - rocauc: 0.9617\n",
      "Epoch 5/5\n",
      "28928/28928 [==============================] - 3s 99us/sample - loss: 0.2431 - acc: 0.8925 - rocauc: 0.9639\n",
      "Epoch 1/5\n",
      "28928/28928 [==============================] - 3s 91us/sample - loss: 0.2648 - acc: 0.8798 - rocauc: 0.9573\n",
      "Epoch 2/5\n",
      "28928/28928 [==============================] - 3s 94us/sample - loss: 0.2484 - acc: 0.8885 - rocauc: 0.9623\n",
      "Epoch 3/5\n",
      "28928/28928 [==============================] - 3s 93us/sample - loss: 0.2520 - acc: 0.8873 - rocauc: 0.9615\n",
      "Epoch 4/5\n",
      "28928/28928 [==============================] - 3s 97us/sample - loss: 0.2481 - acc: 0.8889 - rocauc: 0.9620\n",
      "Epoch 5/5\n",
      "28928/28928 [==============================] - 3s 94us/sample - loss: 0.2457 - acc: 0.8899 - rocauc: 0.9629\n",
      "Epoch 1/5\n",
      "28928/28928 [==============================] - 2s 86us/sample - loss: 0.2591 - acc: 0.8835 - rocauc: 0.9590\n",
      "Epoch 2/5\n",
      "28928/28928 [==============================] - 3s 88us/sample - loss: 0.2494 - acc: 0.8885 - rocauc: 0.9623\n",
      "Epoch 3/5\n",
      "28928/28928 [==============================] - 3s 97us/sample - loss: 0.2472 - acc: 0.8872 - rocauc: 0.9623\n",
      "Epoch 4/5\n",
      "28928/28928 [==============================] - 3s 94us/sample - loss: 0.2433 - acc: 0.8916 - rocauc: 0.9641s - loss: 0.2447 - acc: 0\n",
      "Epoch 5/5\n",
      "28928/28928 [==============================] - 3s 95us/sample - loss: 0.2390 - acc: 0.8942 - rocauc: 0.9649\n",
      "Epoch 1/5\n",
      "28928/28928 [==============================] - 3s 91us/sample - loss: 0.2566 - acc: 0.8846 - rocauc: 0.9600\n",
      "Epoch 2/5\n",
      "28928/28928 [==============================] - 3s 99us/sample - loss: 0.2533 - acc: 0.8851 - rocauc: 0.9609\n",
      "Epoch 3/5\n"
     ]
    },
    {
     "name": "stdout",
     "output_type": "stream",
     "text": [
      "28928/28928 [==============================] - 3s 95us/sample - loss: 0.2469 - acc: 0.8900 - rocauc: 0.9628\n",
      "Epoch 4/5\n",
      "28928/28928 [==============================] - 3s 92us/sample - loss: 0.2407 - acc: 0.8933 - rocauc: 0.9645\n",
      "Epoch 5/5\n",
      "28928/28928 [==============================] - 3s 92us/sample - loss: 0.2409 - acc: 0.8916 - rocauc: 0.9642\n",
      "Epoch 1/5\n",
      "28928/28928 [==============================] - 3s 89us/sample - loss: 0.2589 - acc: 0.8847 - rocauc: 0.9591\n",
      "Epoch 2/5\n",
      "28928/28928 [==============================] - 3s 92us/sample - loss: 0.2496 - acc: 0.8880 - rocauc: 0.9620s - l\n",
      "Epoch 3/5\n",
      "28928/28928 [==============================] - 3s 91us/sample - loss: 0.2454 - acc: 0.8897 - rocauc: 0.9634\n",
      "Epoch 4/5\n",
      "28928/28928 [==============================] - 3s 91us/sample - loss: 0.2434 - acc: 0.8900 - rocauc: 0.9642\n",
      "Epoch 5/5\n",
      "28928/28928 [==============================] - 3s 99us/sample - loss: 0.2420 - acc: 0.8922 - rocauc: 0.9641\n",
      "Epoch 1/5\n",
      "28928/28928 [==============================] - 2s 86us/sample - loss: 0.2544 - acc: 0.8866 - rocauc: 0.9611\n",
      "Epoch 2/5\n",
      "28928/28928 [==============================] - 3s 88us/sample - loss: 0.2430 - acc: 0.8911 - rocauc: 0.9639\n",
      "Epoch 3/5\n",
      "28928/28928 [==============================] - 3s 91us/sample - loss: 0.2397 - acc: 0.8931 - rocauc: 0.9652\n",
      "Epoch 4/5\n",
      "28928/28928 [==============================] - 3s 102us/sample - loss: 0.2363 - acc: 0.8941 - rocauc: 0.9663\n",
      "Epoch 5/5\n",
      "28928/28928 [==============================] - 3s 94us/sample - loss: 0.2314 - acc: 0.8981 - rocauc: 0.9677\n",
      "Epoch 1/5\n",
      "28928/28928 [==============================] - 3s 90us/sample - loss: 0.2494 - acc: 0.8882 - rocauc: 0.9620\n",
      "Epoch 2/5\n",
      "28928/28928 [==============================] - 3s 93us/sample - loss: 0.2441 - acc: 0.8912 - rocauc: 0.9638s - loss: 0.2421 - acc: 0.8928 - \n",
      "Epoch 3/5\n",
      "28928/28928 [==============================] - 3s 101us/sample - loss: 0.2408 - acc: 0.8903 - rocauc: 0.9649\n",
      "Epoch 4/5\n",
      "28928/28928 [==============================] - 3s 93us/sample - loss: 0.2343 - acc: 0.8953 - rocauc: 0.9668s\n",
      "Epoch 5/5\n",
      "28928/28928 [==============================] - 3s 94us/sample - loss: 0.2389 - acc: 0.8909 - rocauc: 0.9656\n",
      "Epoch 1/5\n",
      "28928/28928 [==============================] - 3s 90us/sample - loss: 0.2501 - acc: 0.8877 - rocauc: 0.9623\n",
      "Epoch 2/5\n",
      "28928/28928 [==============================] - 3s 91us/sample - loss: 0.2385 - acc: 0.8941 - rocauc: 0.9653\n",
      "Epoch 3/5\n",
      "28928/28928 [==============================] - 3s 93us/sample - loss: 0.2349 - acc: 0.8952 - rocauc: 0.9662\n",
      "Epoch 4/5\n",
      "28928/28928 [==============================] - 3s 92us/sample - loss: 0.2343 - acc: 0.8955 - rocauc: 0.9666\n",
      "Epoch 5/5\n",
      "28928/28928 [==============================] - 3s 101us/sample - loss: 0.2309 - acc: 0.8975 - rocauc: 0.9671\n",
      "Epoch 1/5\n",
      "28928/28928 [==============================] - 3s 90us/sample - loss: 0.2459 - acc: 0.8899 - rocauc: 0.9632\n",
      "Epoch 2/5\n",
      "28928/28928 [==============================] - 3s 94us/sample - loss: 0.2392 - acc: 0.8944 - rocauc: 0.9653\n",
      "Epoch 3/5\n",
      "28928/28928 [==============================] - 3s 94us/sample - loss: 0.2379 - acc: 0.8924 - rocauc: 0.9657\n",
      "Epoch 4/5\n",
      "28928/28928 [==============================] - 3s 99us/sample - loss: 0.2314 - acc: 0.8965 - rocauc: 0.9671\n",
      "Epoch 5/5\n",
      "28928/28928 [==============================] - 3s 93us/sample - loss: 0.2266 - acc: 0.8973 - rocauc: 0.9684\n",
      "Epoch 1/5\n",
      "28928/28928 [==============================] - 3s 90us/sample - loss: 0.2453 - acc: 0.8930 - rocauc: 0.9638\n",
      "Epoch 2/5\n",
      "28928/28928 [==============================] - 3s 93us/sample - loss: 0.2404 - acc: 0.8934 - rocauc: 0.9649\n",
      "Epoch 3/5\n",
      "28928/28928 [==============================] - 3s 94us/sample - loss: 0.2340 - acc: 0.8971 - rocauc: 0.9667\n",
      "Epoch 4/5\n",
      "28928/28928 [==============================] - 3s 92us/sample - loss: 0.2299 - acc: 0.8987 - rocauc: 0.9679\n",
      "Epoch 5/5\n",
      "28928/28928 [==============================] - 3s 99us/sample - loss: 0.2316 - acc: 0.8984 - rocauc: 0.9678\n",
      "Epoch 1/5\n",
      "28928/28928 [==============================] - 3s 88us/sample - loss: 0.2516 - acc: 0.8863 - rocauc: 0.9620\n",
      "Epoch 2/5\n",
      "28928/28928 [==============================] - 3s 91us/sample - loss: 0.2359 - acc: 0.8942 - rocauc: 0.9662\n",
      "Epoch 3/5\n",
      "28928/28928 [==============================] - 3s 92us/sample - loss: 0.2400 - acc: 0.8946 - rocauc: 0.9649\n",
      "Epoch 4/5\n",
      "28928/28928 [==============================] - 3s 91us/sample - loss: 0.2341 - acc: 0.8964 - rocauc: 0.9665\n",
      "Epoch 5/5\n",
      "28928/28928 [==============================] - 3s 102us/sample - loss: 0.2304 - acc: 0.8983 - rocauc: 0.9676\n",
      "Epoch 1/5\n",
      "28928/28928 [==============================] - 3s 87us/sample - loss: 0.2490 - acc: 0.8903 - rocauc: 0.9626\n",
      "Epoch 2/5\n",
      "28928/28928 [==============================] - 3s 91us/sample - loss: 0.2402 - acc: 0.8935 - rocauc: 0.9649\n",
      "Epoch 3/5\n",
      "28928/28928 [==============================] - 3s 93us/sample - loss: 0.2286 - acc: 0.8980 - rocauc: 0.9681\n",
      "Epoch 4/5\n",
      "28928/28928 [==============================] - 3s 101us/sample - loss: 0.2267 - acc: 0.8982 - rocauc: 0.9688\n",
      "Epoch 5/5\n",
      "28928/28928 [==============================] - 3s 96us/sample - loss: 0.2228 - acc: 0.8999 - rocauc: 0.9694\n",
      "Epoch 1/5\n",
      "28928/28928 [==============================] - 3s 87us/sample - loss: 0.2428 - acc: 0.8915 - rocauc: 0.9644s - loss: 0.2432 - acc: 0.8911 - rocauc\n",
      "Epoch 2/5\n",
      "28928/28928 [==============================] - 3s 90us/sample - loss: 0.2328 - acc: 0.8959 - rocauc: 0.9672\n",
      "Epoch 3/5\n",
      "28928/28928 [==============================] - 3s 97us/sample - loss: 0.2296 - acc: 0.8976 - rocauc: 0.9676\n",
      "Epoch 4/5\n",
      "28928/28928 [==============================] - 3s 94us/sample - loss: 0.2302 - acc: 0.8967 - rocauc: 0.9677\n",
      "Epoch 5/5\n",
      "28928/28928 [==============================] - 3s 91us/sample - loss: 0.2321 - acc: 0.8952 - rocauc: 0.9670\n",
      "Accuracy on Test set:\n",
      "0.8372101895709556\n",
      "Wall time: 12min 37s\n"
     ]
    }
   ],
   "source": [
    "%%time\n",
    "\n",
    "for _ in range(50):\n",
    "    sample_X_zeros = X_train_0.sample(14464)\n",
    "    temp_X_train = pd.concat([sample_X_zeros, X_train_1])\n",
    "    temp_X_train = temp_X_train.sample(frac=1).reset_index(drop=True)\n",
    "    \n",
    "    temp_y_train = temp_X_train['Label']\n",
    "    del temp_X_train['Label']\n",
    "    \n",
    "    classifier.fit(temp_X_train, temp_y_train, batch_size=512, epochs=5)\n",
    "\n",
    "# NN Performance check\n",
    "print(\"Accuracy on Test set:\")\n",
    "predictions = classifier.predict(X_test)\n",
    "print(roc_auc_score(y_test, np.around(predictions)))"
   ]
  },
  {
   "cell_type": "code",
   "execution_count": null,
   "metadata": {},
   "outputs": [],
   "source": []
  },
  {
   "cell_type": "code",
   "execution_count": null,
   "metadata": {},
   "outputs": [],
   "source": []
  },
  {
   "cell_type": "code",
   "execution_count": null,
   "metadata": {},
   "outputs": [],
   "source": [
    "predictions = classifier.predict(X_test)\n",
    "\n",
    "print(accuracy_score(y_test, np.around(predictions)))"
   ]
  },
  {
   "cell_type": "code",
   "execution_count": null,
   "metadata": {},
   "outputs": [],
   "source": []
  },
  {
   "cell_type": "code",
   "execution_count": null,
   "metadata": {},
   "outputs": [],
   "source": [
    "\n",
    "\n",
    "print(accuracy_score(y_test, np.around(predictions)))"
   ]
  },
  {
   "cell_type": "code",
   "execution_count": null,
   "metadata": {},
   "outputs": [],
   "source": [
    "count = 0\n",
    "\n",
    "for x in predictions:\n",
    "    if (x > 0.5):\n",
    "        count = count + 1\n",
    "        \n",
    "print(count)"
   ]
  },
  {
   "cell_type": "code",
   "execution_count": null,
   "metadata": {},
   "outputs": [],
   "source": [
    "temp_X_train"
   ]
  }
 ],
 "metadata": {
  "kernelspec": {
   "display_name": "Python 3",
   "language": "python",
   "name": "python3"
  },
  "language_info": {
   "codemirror_mode": {
    "name": "ipython",
    "version": 3
   },
   "file_extension": ".py",
   "mimetype": "text/x-python",
   "name": "python",
   "nbconvert_exporter": "python",
   "pygments_lexer": "ipython3",
   "version": "3.7.1"
  }
 },
 "nbformat": 4,
 "nbformat_minor": 2
}
