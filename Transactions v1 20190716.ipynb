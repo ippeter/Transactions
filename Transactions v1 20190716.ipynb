{
 "cells": [
  {
   "cell_type": "code",
   "execution_count": null,
   "metadata": {},
   "outputs": [],
   "source": [
    "import pandas as pd\n",
    "import numpy as np\n",
    "\n",
    "from sklearn.model_selection import train_test_split, GridSearchCV\n",
    "\n",
    "from sklearn.ensemble import GradientBoostingClassifier"
   ]
  },
  {
   "cell_type": "code",
   "execution_count": 136,
   "metadata": {},
   "outputs": [],
   "source": [
    "df = pd.read_csv(\"train_transaction.csv\")\n",
    "df.shape"
   ]
  },
  {
   "cell_type": "code",
   "execution_count": null,
   "metadata": {
    "scrolled": false
   },
   "outputs": [],
   "source": [
    "df.head(20)"
   ]
  },
  {
   "cell_type": "code",
   "execution_count": null,
   "metadata": {},
   "outputs": [],
   "source": [
    "labels = df[\"isFraud\"]\n",
    "\n",
    "del df[\"isFraud\"]"
   ]
  },
  {
   "cell_type": "code",
   "execution_count": null,
   "metadata": {},
   "outputs": [],
   "source": [
    "len(labels)"
   ]
  },
  {
   "cell_type": "markdown",
   "metadata": {},
   "source": [
    "### Data Wranglingn for Transactions"
   ]
  },
  {
   "cell_type": "code",
   "execution_count": null,
   "metadata": {},
   "outputs": [],
   "source": [
    "#df.columns.tolist()"
   ]
  },
  {
   "cell_type": "code",
   "execution_count": null,
   "metadata": {},
   "outputs": [],
   "source": [
    "# TransactionDT\n",
    "#df.TransactionDT.isna().sum()\n",
    "\n",
    "df[\"DTSec\"] = df.TransactionDT % 60\n",
    "df[\"DTMin\"] = (df.TransactionDT % 3600) // 60\n",
    "df[\"DTHour\"] = (df.TransactionDT % 86400) // 3600\n",
    "df[\"DTDow\"] = (df.TransactionDT % 604800) // 86400\n",
    "\n",
    "del df['TransactionDT']"
   ]
  },
  {
   "cell_type": "code",
   "execution_count": null,
   "metadata": {},
   "outputs": [],
   "source": [
    "# TransactionAmt\n",
    "#df.TransactionAmt.isna().sum()\n",
    "# No changes at the beginning"
   ]
  },
  {
   "cell_type": "code",
   "execution_count": null,
   "metadata": {
    "scrolled": true
   },
   "outputs": [],
   "source": [
    "# ProductCD\n",
    "#df.ProductCD.isna().sum()\n",
    "#df.ProductCD.value_counts()\n",
    "\n",
    "df = pd.get_dummies(df, columns=['ProductCD'], prefix='ProductCD')"
   ]
  },
  {
   "cell_type": "code",
   "execution_count": null,
   "metadata": {},
   "outputs": [],
   "source": [
    "# card1\n",
    "#df.card1.isna().sum()\n",
    "# No changes at the beginning"
   ]
  },
  {
   "cell_type": "code",
   "execution_count": null,
   "metadata": {},
   "outputs": [],
   "source": [
    "# card2\n",
    "#df.card2.isna().sum()\n",
    "#df.card2.min()\n",
    "\n",
    "df[\"card2_nan\"] = df.card2.isna().astype(int)\n",
    "df.card2.fillna(0.0, inplace=True)"
   ]
  },
  {
   "cell_type": "code",
   "execution_count": null,
   "metadata": {},
   "outputs": [],
   "source": [
    "# card3\n",
    "#df.card3.isna().sum()\n",
    "#df.card3.min()\n",
    "\n",
    "df[\"card3_nan\"] = df.card3.isna().astype(int)\n",
    "df.card3.fillna(0.0, inplace=True)"
   ]
  },
  {
   "cell_type": "code",
   "execution_count": null,
   "metadata": {},
   "outputs": [],
   "source": [
    "# card4\n",
    "#df.card4.isna().sum()\n",
    "\n",
    "df = pd.get_dummies(df, columns=['card4'], prefix='card4', dummy_na=True)"
   ]
  },
  {
   "cell_type": "code",
   "execution_count": null,
   "metadata": {},
   "outputs": [],
   "source": [
    "# card5\n",
    "#df.card5.isna().sum()\n",
    "#df.card5.min()\n",
    "\n",
    "df[\"card5_nan\"] = df.card5.isna().astype(int)\n",
    "df.card5.fillna(0.0, inplace=True)"
   ]
  },
  {
   "cell_type": "code",
   "execution_count": null,
   "metadata": {},
   "outputs": [],
   "source": [
    "# card6\n",
    "#df.card6.isna().sum()\n",
    "\n",
    "df = pd.get_dummies(df, columns=['card6'], prefix='card6', dummy_na=True)"
   ]
  },
  {
   "cell_type": "code",
   "execution_count": null,
   "metadata": {},
   "outputs": [],
   "source": [
    "# addr1\n",
    "#df.addr1.isna().sum()\n",
    "\n",
    "df[\"addr1_nan\"] = df.addr1.isna().astype(int)\n",
    "df.addr1.fillna(0.0, inplace=True)"
   ]
  },
  {
   "cell_type": "code",
   "execution_count": null,
   "metadata": {},
   "outputs": [],
   "source": [
    "# addr2\n",
    "#df.addr2.isna().sum()\n",
    "#df.addr2.value_counts()\n",
    "#df.addr2.min()\n",
    "\n",
    "df[\"addr2_nan\"] = df.addr2.isna().astype(int)\n",
    "df.addr2.fillna(0.0, inplace=True)"
   ]
  },
  {
   "cell_type": "code",
   "execution_count": null,
   "metadata": {},
   "outputs": [],
   "source": [
    "# dist1\n",
    "#df.dist1\n",
    "\n",
    "df[\"dist1_nan\"] = df.dist1.isna().astype(int)\n",
    "df.dist1.fillna(-1.0, inplace=True)"
   ]
  },
  {
   "cell_type": "code",
   "execution_count": null,
   "metadata": {},
   "outputs": [],
   "source": [
    "# dist2\n",
    "#df.dist2.min()\n",
    "\n",
    "df[\"dist2_nan\"] = df.dist2.isna().astype(int)\n",
    "df.dist2.fillna(-1.0, inplace=True)"
   ]
  },
  {
   "cell_type": "code",
   "execution_count": null,
   "metadata": {},
   "outputs": [],
   "source": [
    "# P_emaildomain\n",
    "#df.P_emaildomain\n",
    "\n",
    "df = pd.get_dummies(df, columns=['P_emaildomain'], prefix='P_emaildomain', dummy_na=True)"
   ]
  },
  {
   "cell_type": "code",
   "execution_count": null,
   "metadata": {},
   "outputs": [],
   "source": [
    "# R_emaildomain\n",
    "#df.R_emaildomain\n",
    "\n",
    "df = pd.get_dummies(df, columns=['R_emaildomain'], prefix='R_emaildomain', dummy_na=True)"
   ]
  },
  {
   "cell_type": "code",
   "execution_count": null,
   "metadata": {},
   "outputs": [],
   "source": [
    "# C1\n",
    "#df.C1.isna().sum()\n",
    "# No changes"
   ]
  },
  {
   "cell_type": "code",
   "execution_count": null,
   "metadata": {},
   "outputs": [],
   "source": [
    "# C2\n",
    "#df.C2.isna().sum()\n",
    "# No changes"
   ]
  },
  {
   "cell_type": "code",
   "execution_count": null,
   "metadata": {},
   "outputs": [],
   "source": [
    "# C3\n",
    "#df.C3.isna().sum()\n",
    "#df.C3.value_counts()\n",
    "# No changes"
   ]
  },
  {
   "cell_type": "code",
   "execution_count": null,
   "metadata": {},
   "outputs": [],
   "source": [
    "# C4\n",
    "#df.C4.isna().sum()\n",
    "#df.C4.value_counts()\n",
    "# No changes"
   ]
  },
  {
   "cell_type": "code",
   "execution_count": null,
   "metadata": {},
   "outputs": [],
   "source": [
    "# C5\n",
    "#df.C5.isna().sum()\n",
    "#df.C5.value_counts()\n",
    "# No changes"
   ]
  },
  {
   "cell_type": "code",
   "execution_count": null,
   "metadata": {},
   "outputs": [],
   "source": [
    "# C6\n",
    "#df.C6\n",
    "#df.C6.isna().sum()\n",
    "#df.C6.value_counts()\n",
    "# No changes"
   ]
  },
  {
   "cell_type": "code",
   "execution_count": null,
   "metadata": {},
   "outputs": [],
   "source": [
    "# C7\n",
    "#df.C7\n",
    "#df.C7.isna().sum()\n",
    "#df.C7.value_counts()\n",
    "# No changes"
   ]
  },
  {
   "cell_type": "code",
   "execution_count": null,
   "metadata": {},
   "outputs": [],
   "source": [
    "# C8\n",
    "#df.C8\n",
    "#df.C8.isna().sum()\n",
    "#df.C8.value_counts()\n",
    "# No changes"
   ]
  },
  {
   "cell_type": "code",
   "execution_count": null,
   "metadata": {},
   "outputs": [],
   "source": [
    "# C9\n",
    "#df.C9\n",
    "#df.C9.isna().sum()\n",
    "#df.C9.value_counts()\n",
    "# No changes"
   ]
  },
  {
   "cell_type": "code",
   "execution_count": null,
   "metadata": {},
   "outputs": [],
   "source": [
    "# C10\n",
    "#df.C10\n",
    "#df.C10.isna().sum()\n",
    "#df.C10.value_counts()\n",
    "# No changes"
   ]
  },
  {
   "cell_type": "code",
   "execution_count": null,
   "metadata": {},
   "outputs": [],
   "source": [
    "# C11\n",
    "#df.C11\n",
    "#df.C11.isna().sum()\n",
    "#df.C11.value_counts()\n",
    "# No changes"
   ]
  },
  {
   "cell_type": "code",
   "execution_count": null,
   "metadata": {},
   "outputs": [],
   "source": [
    "# C12\n",
    "#df.C12\n",
    "#df.C12.isna().sum()\n",
    "#df.C12.value_counts()\n",
    "# No changes"
   ]
  },
  {
   "cell_type": "code",
   "execution_count": null,
   "metadata": {},
   "outputs": [],
   "source": [
    "# C13\n",
    "#df.C13\n",
    "#df.C13.isna().sum()\n",
    "#df.C13.value_counts()\n",
    "# No changes"
   ]
  },
  {
   "cell_type": "code",
   "execution_count": null,
   "metadata": {},
   "outputs": [],
   "source": [
    "# C14\n",
    "#df.C14\n",
    "#df.C14.isna().sum()\n",
    "#df.C14.value_counts()\n",
    "# No changes"
   ]
  },
  {
   "cell_type": "code",
   "execution_count": null,
   "metadata": {},
   "outputs": [],
   "source": [
    "# D1\n",
    "#df.D1\n",
    "#df.D1.isna().sum()\n",
    "\n",
    "df[\"D1_nan\"] = df.D1.isna().astype(int)\n",
    "df.D1.fillna(-1.0, inplace=True)"
   ]
  },
  {
   "cell_type": "code",
   "execution_count": null,
   "metadata": {},
   "outputs": [],
   "source": [
    "# D2\n",
    "#df.D2\n",
    "#df.D2.min()\n",
    "\n",
    "df[\"D2_nan\"] = df.D2.isna().astype(int)\n",
    "df.D2.fillna(-1.0, inplace=True)"
   ]
  },
  {
   "cell_type": "code",
   "execution_count": null,
   "metadata": {},
   "outputs": [],
   "source": [
    "# D3\n",
    "#df.D3\n",
    "\n",
    "df[\"D3_nan\"] = df.D3.isna().astype(int)\n",
    "df.D3.fillna(-1.0, inplace=True)"
   ]
  },
  {
   "cell_type": "code",
   "execution_count": null,
   "metadata": {},
   "outputs": [],
   "source": [
    "# D4\n",
    "#df.D4\n",
    "\n",
    "df[\"D4_nan\"] = df.D4.isna().astype(int)\n",
    "df.D4.fillna(-1.0, inplace=True)"
   ]
  },
  {
   "cell_type": "code",
   "execution_count": null,
   "metadata": {},
   "outputs": [],
   "source": [
    "# D5\n",
    "#df.D5\n",
    "\n",
    "df[\"D5_nan\"] = df.D5.isna().astype(int)\n",
    "df.D5.fillna(-1.0, inplace=True)"
   ]
  },
  {
   "cell_type": "code",
   "execution_count": null,
   "metadata": {},
   "outputs": [],
   "source": [
    "# D6\n",
    "#df.D6\n",
    "#df.D6.value_counts()\n",
    "\n",
    "df[\"D6_nan\"] = df.D6.isna().astype(int)\n",
    "df.D6.fillna(-1.0, inplace=True)"
   ]
  },
  {
   "cell_type": "code",
   "execution_count": null,
   "metadata": {},
   "outputs": [],
   "source": [
    "# D7\n",
    "#df.D7\n",
    "#df.D7.value_counts()\n",
    "\n",
    "df[\"D7_nan\"] = df.D7.isna().astype(int)\n",
    "df.D7.fillna(-1.0, inplace=True)"
   ]
  },
  {
   "cell_type": "code",
   "execution_count": null,
   "metadata": {},
   "outputs": [],
   "source": [
    "# D8\n",
    "#df.D8\n",
    "#df.D8.value_counts()\n",
    "\n",
    "df[\"D8_nan\"] = df.D8.isna().astype(int)\n",
    "df.D8.fillna(-1.0, inplace=True)"
   ]
  },
  {
   "cell_type": "code",
   "execution_count": null,
   "metadata": {},
   "outputs": [],
   "source": [
    "# D9\n",
    "#df.D9\n",
    "#df.D9.value_counts()\n",
    "\n",
    "df[\"D9_nan\"] = df.D9.isna().astype(int)\n",
    "df.D9.fillna(-1.0, inplace=True)"
   ]
  },
  {
   "cell_type": "code",
   "execution_count": null,
   "metadata": {},
   "outputs": [],
   "source": [
    "# D10\n",
    "#df.D10\n",
    "\n",
    "df[\"D10_nan\"] = df.D10.isna().astype(int)\n",
    "df.D10.fillna(-1.0, inplace=True)"
   ]
  },
  {
   "cell_type": "code",
   "execution_count": null,
   "metadata": {},
   "outputs": [],
   "source": [
    "# D11\n",
    "#df.D11\n",
    "\n",
    "df[\"D11_nan\"] = df.D11.isna().astype(int)\n",
    "df.D11.fillna(-1.0, inplace=True)"
   ]
  },
  {
   "cell_type": "code",
   "execution_count": null,
   "metadata": {},
   "outputs": [],
   "source": [
    "# D12\n",
    "#df.D12\n",
    "#df.D12.value_counts()\n",
    "\n",
    "df[\"D12_nan\"] = df.D12.isna().astype(int)\n",
    "df.D12.fillna(-1.0, inplace=True)"
   ]
  },
  {
   "cell_type": "code",
   "execution_count": null,
   "metadata": {},
   "outputs": [],
   "source": [
    "# D13\n",
    "#df.D13\n",
    "#df.D13.value_counts()\n",
    "\n",
    "df[\"D13_nan\"] = df.D13.isna().astype(int)\n",
    "df.D13.fillna(-1.0, inplace=True)"
   ]
  },
  {
   "cell_type": "code",
   "execution_count": null,
   "metadata": {},
   "outputs": [],
   "source": [
    "# D14\n",
    "#df.D14\n",
    "#df.D14.value_counts()\n",
    "\n",
    "df[\"D14_nan\"] = df.D14.isna().astype(int)\n",
    "df.D14.fillna(-1.0, inplace=True)"
   ]
  },
  {
   "cell_type": "code",
   "execution_count": null,
   "metadata": {},
   "outputs": [],
   "source": [
    "# D15\n",
    "#df.D15\n",
    "\n",
    "df[\"D15_nan\"] = df.D15.isna().astype(int)\n",
    "df.D15.fillna(-1.0, inplace=True)"
   ]
  },
  {
   "cell_type": "code",
   "execution_count": null,
   "metadata": {},
   "outputs": [],
   "source": [
    "# M1\n",
    "#df.M1\n",
    "#df.M1.value_counts()\n",
    "\n",
    "df = pd.get_dummies(df, columns=['M1'], prefix='M1', dummy_na=True)"
   ]
  },
  {
   "cell_type": "code",
   "execution_count": null,
   "metadata": {},
   "outputs": [],
   "source": [
    "# M2\n",
    "#df.M2\n",
    "#df.M2.value_counts()\n",
    "\n",
    "df = pd.get_dummies(df, columns=['M2'], prefix='M2', dummy_na=True)"
   ]
  },
  {
   "cell_type": "code",
   "execution_count": null,
   "metadata": {},
   "outputs": [],
   "source": [
    "# M3\n",
    "#df.M3\n",
    "\n",
    "df = pd.get_dummies(df, columns=['M3'], prefix='M3', dummy_na=True)"
   ]
  },
  {
   "cell_type": "code",
   "execution_count": null,
   "metadata": {},
   "outputs": [],
   "source": [
    "# M4\n",
    "#df.M4\n",
    "#df.M4.value_counts()\n",
    "\n",
    "df = pd.get_dummies(df, columns=['M4'], prefix='M4', dummy_na=True)"
   ]
  },
  {
   "cell_type": "code",
   "execution_count": null,
   "metadata": {},
   "outputs": [],
   "source": [
    "# M5\n",
    "#df.M5\n",
    "\n",
    "df = pd.get_dummies(df, columns=['M5'], prefix='M5', dummy_na=True)"
   ]
  },
  {
   "cell_type": "code",
   "execution_count": null,
   "metadata": {},
   "outputs": [],
   "source": [
    "# M6\n",
    "#df.M6\n",
    "\n",
    "df = pd.get_dummies(df, columns=['M6'], prefix='M6', dummy_na=True)"
   ]
  },
  {
   "cell_type": "code",
   "execution_count": null,
   "metadata": {},
   "outputs": [],
   "source": [
    "# M7\n",
    "#df.M7\n",
    "\n",
    "df = pd.get_dummies(df, columns=['M7'], prefix='M7', dummy_na=True)"
   ]
  },
  {
   "cell_type": "code",
   "execution_count": null,
   "metadata": {},
   "outputs": [],
   "source": [
    "# M8\n",
    "#df.M8\n",
    "\n",
    "df = pd.get_dummies(df, columns=['M8'], prefix='M8', dummy_na=True)"
   ]
  },
  {
   "cell_type": "code",
   "execution_count": null,
   "metadata": {},
   "outputs": [],
   "source": [
    "# M9\n",
    "#df.M9\n",
    "\n",
    "df = pd.get_dummies(df, columns=['M9'], prefix='M9', dummy_na=True)"
   ]
  },
  {
   "cell_type": "code",
   "execution_count": null,
   "metadata": {},
   "outputs": [],
   "source": [
    "#\n",
    "# Process all V-columns at once\n",
    "#\n",
    "\n",
    "MAX_AMOUNT_OF_UNIQUE = 16\n",
    "\n",
    "for i in range(1, 340):\n",
    "    col = \"V\" + str(i)\n",
    "    \n",
    "    if (len(df[col].value_counts()) > MAX_AMOUNT_OF_UNIQUE):\n",
    "        df[col + \"_nan\"] = df[col].isna().astype(int)\n",
    "        df[col].fillna(-1.0, inplace=True)\n",
    "    else:\n",
    "        df = pd.get_dummies(df, columns=[col], prefix=col, dummy_na=True)"
   ]
  },
  {
   "cell_type": "markdown",
   "metadata": {},
   "source": [
    "### Load Identities"
   ]
  },
  {
   "cell_type": "code",
   "execution_count": 140,
   "metadata": {},
   "outputs": [
    {
     "data": {
      "text/plain": [
       "(144233, 41)"
      ]
     },
     "execution_count": 140,
     "metadata": {},
     "output_type": "execute_result"
    }
   ],
   "source": [
    "ids = pd.read_csv(\"train_identity.csv\")\n",
    "ids.shape"
   ]
  },
  {
   "cell_type": "code",
   "execution_count": 135,
   "metadata": {
    "scrolled": true
   },
   "outputs": [
    {
     "data": {
      "text/html": [
       "<div>\n",
       "<style scoped>\n",
       "    .dataframe tbody tr th:only-of-type {\n",
       "        vertical-align: middle;\n",
       "    }\n",
       "\n",
       "    .dataframe tbody tr th {\n",
       "        vertical-align: top;\n",
       "    }\n",
       "\n",
       "    .dataframe thead th {\n",
       "        text-align: right;\n",
       "    }\n",
       "</style>\n",
       "<table border=\"1\" class=\"dataframe\">\n",
       "  <thead>\n",
       "    <tr style=\"text-align: right;\">\n",
       "      <th></th>\n",
       "      <th>TransactionID</th>\n",
       "      <th>id_01</th>\n",
       "      <th>id_02</th>\n",
       "      <th>id_03</th>\n",
       "      <th>id_04</th>\n",
       "      <th>id_05</th>\n",
       "      <th>id_06</th>\n",
       "      <th>id_07</th>\n",
       "      <th>id_08</th>\n",
       "      <th>id_09</th>\n",
       "      <th>...</th>\n",
       "      <th>id_32</th>\n",
       "      <th>id_33</th>\n",
       "      <th>id_34</th>\n",
       "      <th>id_35</th>\n",
       "      <th>id_36</th>\n",
       "      <th>id_37</th>\n",
       "      <th>id_38</th>\n",
       "      <th>DeviceType</th>\n",
       "      <th>DeviceInfo</th>\n",
       "      <th>id_21_nan</th>\n",
       "    </tr>\n",
       "  </thead>\n",
       "  <tbody>\n",
       "    <tr>\n",
       "      <th>0</th>\n",
       "      <td>2987004</td>\n",
       "      <td>0.0</td>\n",
       "      <td>70787.0</td>\n",
       "      <td>NaN</td>\n",
       "      <td>NaN</td>\n",
       "      <td>NaN</td>\n",
       "      <td>NaN</td>\n",
       "      <td>NaN</td>\n",
       "      <td>NaN</td>\n",
       "      <td>NaN</td>\n",
       "      <td>...</td>\n",
       "      <td>32.0</td>\n",
       "      <td>2220x1080</td>\n",
       "      <td>match_status:2</td>\n",
       "      <td>T</td>\n",
       "      <td>F</td>\n",
       "      <td>T</td>\n",
       "      <td>T</td>\n",
       "      <td>mobile</td>\n",
       "      <td>SAMSUNG SM-G892A Build/NRD90M</td>\n",
       "      <td>1</td>\n",
       "    </tr>\n",
       "    <tr>\n",
       "      <th>1</th>\n",
       "      <td>2987008</td>\n",
       "      <td>-5.0</td>\n",
       "      <td>98945.0</td>\n",
       "      <td>NaN</td>\n",
       "      <td>NaN</td>\n",
       "      <td>0.0</td>\n",
       "      <td>-5.0</td>\n",
       "      <td>NaN</td>\n",
       "      <td>NaN</td>\n",
       "      <td>NaN</td>\n",
       "      <td>...</td>\n",
       "      <td>32.0</td>\n",
       "      <td>1334x750</td>\n",
       "      <td>match_status:1</td>\n",
       "      <td>T</td>\n",
       "      <td>F</td>\n",
       "      <td>F</td>\n",
       "      <td>T</td>\n",
       "      <td>mobile</td>\n",
       "      <td>iOS Device</td>\n",
       "      <td>1</td>\n",
       "    </tr>\n",
       "    <tr>\n",
       "      <th>2</th>\n",
       "      <td>2987010</td>\n",
       "      <td>-5.0</td>\n",
       "      <td>191631.0</td>\n",
       "      <td>0.0</td>\n",
       "      <td>0.0</td>\n",
       "      <td>0.0</td>\n",
       "      <td>0.0</td>\n",
       "      <td>NaN</td>\n",
       "      <td>NaN</td>\n",
       "      <td>0.0</td>\n",
       "      <td>...</td>\n",
       "      <td>NaN</td>\n",
       "      <td>NaN</td>\n",
       "      <td>NaN</td>\n",
       "      <td>F</td>\n",
       "      <td>F</td>\n",
       "      <td>T</td>\n",
       "      <td>T</td>\n",
       "      <td>desktop</td>\n",
       "      <td>Windows</td>\n",
       "      <td>1</td>\n",
       "    </tr>\n",
       "    <tr>\n",
       "      <th>3</th>\n",
       "      <td>2987011</td>\n",
       "      <td>-5.0</td>\n",
       "      <td>221832.0</td>\n",
       "      <td>NaN</td>\n",
       "      <td>NaN</td>\n",
       "      <td>0.0</td>\n",
       "      <td>-6.0</td>\n",
       "      <td>NaN</td>\n",
       "      <td>NaN</td>\n",
       "      <td>NaN</td>\n",
       "      <td>...</td>\n",
       "      <td>NaN</td>\n",
       "      <td>NaN</td>\n",
       "      <td>NaN</td>\n",
       "      <td>F</td>\n",
       "      <td>F</td>\n",
       "      <td>T</td>\n",
       "      <td>T</td>\n",
       "      <td>desktop</td>\n",
       "      <td>NaN</td>\n",
       "      <td>1</td>\n",
       "    </tr>\n",
       "    <tr>\n",
       "      <th>4</th>\n",
       "      <td>2987016</td>\n",
       "      <td>0.0</td>\n",
       "      <td>7460.0</td>\n",
       "      <td>0.0</td>\n",
       "      <td>0.0</td>\n",
       "      <td>1.0</td>\n",
       "      <td>0.0</td>\n",
       "      <td>NaN</td>\n",
       "      <td>NaN</td>\n",
       "      <td>0.0</td>\n",
       "      <td>...</td>\n",
       "      <td>24.0</td>\n",
       "      <td>1280x800</td>\n",
       "      <td>match_status:2</td>\n",
       "      <td>T</td>\n",
       "      <td>F</td>\n",
       "      <td>T</td>\n",
       "      <td>T</td>\n",
       "      <td>desktop</td>\n",
       "      <td>MacOS</td>\n",
       "      <td>1</td>\n",
       "    </tr>\n",
       "  </tbody>\n",
       "</table>\n",
       "<p>5 rows × 42 columns</p>\n",
       "</div>"
      ],
      "text/plain": [
       "   TransactionID  id_01     id_02  id_03  id_04  id_05  id_06  id_07  id_08  \\\n",
       "0        2987004    0.0   70787.0    NaN    NaN    NaN    NaN    NaN    NaN   \n",
       "1        2987008   -5.0   98945.0    NaN    NaN    0.0   -5.0    NaN    NaN   \n",
       "2        2987010   -5.0  191631.0    0.0    0.0    0.0    0.0    NaN    NaN   \n",
       "3        2987011   -5.0  221832.0    NaN    NaN    0.0   -6.0    NaN    NaN   \n",
       "4        2987016    0.0    7460.0    0.0    0.0    1.0    0.0    NaN    NaN   \n",
       "\n",
       "   id_09    ...      id_32      id_33           id_34  id_35  id_36 id_37  \\\n",
       "0    NaN    ...       32.0  2220x1080  match_status:2      T      F     T   \n",
       "1    NaN    ...       32.0   1334x750  match_status:1      T      F     F   \n",
       "2    0.0    ...        NaN        NaN             NaN      F      F     T   \n",
       "3    NaN    ...        NaN        NaN             NaN      F      F     T   \n",
       "4    0.0    ...       24.0   1280x800  match_status:2      T      F     T   \n",
       "\n",
       "  id_38  DeviceType                     DeviceInfo  id_21_nan  \n",
       "0     T      mobile  SAMSUNG SM-G892A Build/NRD90M          1  \n",
       "1     T      mobile                     iOS Device          1  \n",
       "2     T     desktop                        Windows          1  \n",
       "3     T     desktop                            NaN          1  \n",
       "4     T     desktop                          MacOS          1  \n",
       "\n",
       "[5 rows x 42 columns]"
      ]
     },
     "execution_count": 135,
     "metadata": {},
     "output_type": "execute_result"
    }
   ],
   "source": [
    "ids.head()"
   ]
  },
  {
   "cell_type": "markdown",
   "metadata": {},
   "source": [
    "### Data Wrangling for Identities"
   ]
  },
  {
   "cell_type": "code",
   "execution_count": null,
   "metadata": {},
   "outputs": [],
   "source": [
    "# id_01\n",
    "#ids.id_01.isna().sum()\n",
    "#ids.id_01.value_counts()\n",
    "# No changes"
   ]
  },
  {
   "cell_type": "code",
   "execution_count": null,
   "metadata": {},
   "outputs": [],
   "source": [
    "# id_02\n",
    "#ids.id_02.isna().sum()\n",
    "#ids.id_02.max()\n",
    "\n",
    "ids[\"id_02\" + \"_nan\"] = ids[\"id_02\"].isna().astype(int)\n",
    "ids[\"id_02\"].fillna(0.0, inplace=True)"
   ]
  },
  {
   "cell_type": "code",
   "execution_count": null,
   "metadata": {},
   "outputs": [],
   "source": [
    "# id_03\n",
    "#ids.id_03.isna().sum()\n",
    "#ids.id_03.value_counts()\n",
    "\n",
    "ids = pd.get_dummies(ids, columns=['id_03'], prefix='id_03', dummy_na=True)"
   ]
  },
  {
   "cell_type": "code",
   "execution_count": null,
   "metadata": {},
   "outputs": [],
   "source": [
    "# id_04\n",
    "#ids.id_04.isna().sum()\n",
    "#ids.id_04.value_counts()\n",
    "\n",
    "ids = pd.get_dummies(ids, columns=['id_04'], prefix='id_04', dummy_na=True)"
   ]
  },
  {
   "cell_type": "code",
   "execution_count": null,
   "metadata": {},
   "outputs": [],
   "source": [
    "# id_05\n",
    "#ids.id_05.isna().sum()\n",
    "#ids.id_05.value_counts()\n",
    "\n",
    "ids[\"id_05\" + \"_nan\"] = ids[\"id_05\"].isna().astype(int)\n",
    "ids[\"id_05\"].fillna(100.0, inplace=True)"
   ]
  },
  {
   "cell_type": "code",
   "execution_count": null,
   "metadata": {},
   "outputs": [],
   "source": [
    "# id_06\n",
    "#ids.id_06.isna().sum()\n",
    "#ids.id_06.value_counts()\n",
    "\n",
    "ids[\"id_06\" + \"_nan\"] = ids[\"id_06\"].isna().astype(int)\n",
    "ids[\"id_06\"].fillna(100.0, inplace=True)"
   ]
  },
  {
   "cell_type": "code",
   "execution_count": null,
   "metadata": {},
   "outputs": [],
   "source": [
    "# id_07\n",
    "#ids.id_07.isna().sum()\n",
    "#ids.id_07.value_counts()\n",
    "#ids.id_07.min()\n",
    "\n",
    "ids[\"id_07\" + \"_nan\"] = ids[\"id_07\"].isna().astype(int)\n",
    "ids[\"id_07\"].fillna(100.0, inplace=True)"
   ]
  },
  {
   "cell_type": "code",
   "execution_count": null,
   "metadata": {},
   "outputs": [],
   "source": [
    "# id_08\n",
    "#ids.id_08.isna().sum()\n",
    "#ids.id_08.value_counts()\n",
    "#ids.id_08.max()\n",
    "\n",
    "ids[\"id_08\" + \"_nan\"] = ids[\"id_08\"].isna().astype(int)\n",
    "ids[\"id_08\"].fillna(100.0, inplace=True)"
   ]
  },
  {
   "cell_type": "code",
   "execution_count": null,
   "metadata": {},
   "outputs": [],
   "source": [
    "# id_09\n",
    "#ids.id_09.isna().sum()\n",
    "#ids.id_09.value_counts()\n",
    "\n",
    "ids[\"id_09\" + \"_nan\"] = ids[\"id_09\"].isna().astype(int)\n",
    "ids[\"id_09\"].fillna(100.0, inplace=True)"
   ]
  },
  {
   "cell_type": "code",
   "execution_count": null,
   "metadata": {},
   "outputs": [],
   "source": [
    "# id_10\n",
    "#ids.id_10.isna().sum()\n",
    "#ids.id_10.value_counts()\n",
    "\n",
    "ids[\"id_10\" + \"_nan\"] = ids[\"id_10\"].isna().astype(int)\n",
    "ids[\"id_10\"].fillna(100.0, inplace=True)"
   ]
  },
  {
   "cell_type": "code",
   "execution_count": null,
   "metadata": {},
   "outputs": [],
   "source": [
    "# id_11\n",
    "#ids.id_11.isna().sum()\n",
    "#ids.id_11.value_counts()\n",
    "#ids.id_11.min()\n",
    "\n",
    "ids[\"id_11\" + \"_nan\"] = ids[\"id_11\"].isna().astype(int)\n",
    "ids[\"id_11\"].fillna(0.0, inplace=True)"
   ]
  },
  {
   "cell_type": "code",
   "execution_count": null,
   "metadata": {},
   "outputs": [],
   "source": [
    "# id_12\n",
    "#ids.id_12.isna().sum()\n",
    "#ids.id_12.value_counts()\n",
    "\n",
    "ids = pd.get_dummies(ids, columns=['id_12'], prefix='id_12', dummy_na=True)"
   ]
  },
  {
   "cell_type": "code",
   "execution_count": null,
   "metadata": {},
   "outputs": [],
   "source": [
    "# id_13\n",
    "#ids.id_13.isna().sum()\n",
    "#ids.id_13.value_counts()\n",
    "\n",
    "ids[\"id_13\" + \"_nan\"] = ids[\"id_13\"].isna().astype(int)\n",
    "ids[\"id_13\"].fillna(100.0, inplace=True)"
   ]
  },
  {
   "cell_type": "code",
   "execution_count": null,
   "metadata": {},
   "outputs": [],
   "source": [
    "# id_14\n",
    "#ids.id_14.isna().sum()\n",
    "#ids.id_14.value_counts()\n",
    "\n",
    "ids = pd.get_dummies(ids, columns=['id_14'], prefix='id_14', dummy_na=True)"
   ]
  },
  {
   "cell_type": "code",
   "execution_count": null,
   "metadata": {},
   "outputs": [],
   "source": [
    "# id_15\n",
    "#ids.id_15.isna().sum()\n",
    "#ids.id_15.value_counts()\n",
    "\n",
    "ids = pd.get_dummies(ids, columns=['id_15'], prefix='id_15', dummy_na=True)"
   ]
  },
  {
   "cell_type": "code",
   "execution_count": null,
   "metadata": {},
   "outputs": [],
   "source": [
    "# id_16\n",
    "#ids.id_16.isna().sum()\n",
    "#ids.id_16.value_counts()\n",
    "\n",
    "ids = pd.get_dummies(ids, columns=['id_16'], prefix='id_16', dummy_na=True)"
   ]
  },
  {
   "cell_type": "code",
   "execution_count": null,
   "metadata": {},
   "outputs": [],
   "source": [
    "# id_17\n",
    "#ids.id_17.isna().sum()\n",
    "#ids.id_17.value_counts()\n",
    "#ids.id_17.min()\n",
    "\n",
    "ids[\"id_17\" + \"_nan\"] = ids[\"id_17\"].isna().astype(int)\n",
    "ids[\"id_17\"].fillna(0.0, inplace=True)"
   ]
  },
  {
   "cell_type": "code",
   "execution_count": null,
   "metadata": {},
   "outputs": [],
   "source": [
    "# id_18\n",
    "#ids.id_18.isna().sum()\n",
    "#ids.id_18.value_counts()\n",
    "\n",
    "ids = pd.get_dummies(ids, columns=['id_18'], prefix='id_18', dummy_na=True)"
   ]
  },
  {
   "cell_type": "code",
   "execution_count": null,
   "metadata": {},
   "outputs": [],
   "source": [
    "# id_19\n",
    "#ids.id_19.isna().sum()\n",
    "#ids.id_19.value_counts()\n",
    "#ids.id_19.min()\n",
    "\n",
    "ids[\"id_19\" + \"_nan\"] = ids[\"id_19\"].isna().astype(int)\n",
    "ids[\"id_19\"].fillna(0.0, inplace=True)"
   ]
  },
  {
   "cell_type": "code",
   "execution_count": null,
   "metadata": {},
   "outputs": [],
   "source": [
    "# id_20\n",
    "#ids.id_20.isna().sum()\n",
    "#ids.id_20.value_counts()\n",
    "#ids.id_20.min()\n",
    "\n",
    "ids[\"id_20\" + \"_nan\"] = ids[\"id_20\"].isna().astype(int)\n",
    "ids[\"id_20\"].fillna(0.0, inplace=True)"
   ]
  },
  {
   "cell_type": "code",
   "execution_count": null,
   "metadata": {},
   "outputs": [],
   "source": [
    "# id_21\n",
    "#ids.id_21.isna().sum()\n",
    "#ids.id_21.value_counts()\n",
    "#ids.id_21.min()\n",
    "\n",
    "ids[\"id_21\" + \"_nan\"] = ids[\"id_21\"].isna().astype(int)\n",
    "ids[\"id_21\"].fillna(0.0, inplace=True)"
   ]
  },
  {
   "cell_type": "code",
   "execution_count": null,
   "metadata": {},
   "outputs": [],
   "source": [
    "# id_22\n",
    "#ids.id_22.isna().sum()\n",
    "#ids.id_22.value_counts()\n",
    "\n",
    "ids = pd.get_dummies(ids, columns=['id_22'], prefix='id_22', dummy_na=True)"
   ]
  },
  {
   "cell_type": "code",
   "execution_count": null,
   "metadata": {},
   "outputs": [],
   "source": [
    "# id_23\n",
    "#ids.id_23.isna().sum()\n",
    "#ids.id_23.value_counts()\n",
    "\n",
    "ids = pd.get_dummies(ids, columns=['id_23'], prefix='id_23', dummy_na=True)"
   ]
  },
  {
   "cell_type": "code",
   "execution_count": null,
   "metadata": {},
   "outputs": [],
   "source": [
    "# id_24\n",
    "#ids.id_24.isna().sum()\n",
    "#ids.id_24.value_counts()\n",
    "\n",
    "ids = pd.get_dummies(ids, columns=['id_24'], prefix='id_24', dummy_na=True)"
   ]
  },
  {
   "cell_type": "code",
   "execution_count": null,
   "metadata": {},
   "outputs": [],
   "source": [
    "# id_25\n",
    "#ids.id_25.isna().sum()\n",
    "#ids.id_25.value_counts()\n",
    "#ids.id_25.min()\n",
    "\n",
    "ids[\"id_25\" + \"_nan\"] = ids[\"id_25\"].isna().astype(int)\n",
    "ids[\"id_25\"].fillna(0.0, inplace=True)"
   ]
  },
  {
   "cell_type": "code",
   "execution_count": null,
   "metadata": {},
   "outputs": [],
   "source": [
    "# id_26\n",
    "#ids.id_26.isna().sum()\n",
    "#ids.id_26.value_counts()\n",
    "#ids.id_26.min()\n",
    "\n",
    "ids[\"id_26\" + \"_nan\"] = ids[\"id_26\"].isna().astype(int)\n",
    "ids[\"id_26\"].fillna(0.0, inplace=True)"
   ]
  },
  {
   "cell_type": "code",
   "execution_count": null,
   "metadata": {},
   "outputs": [],
   "source": [
    "# id_27\n",
    "#ids.id_27.isna().sum()\n",
    "#ids.id_27.value_counts()\n",
    "\n",
    "ids = pd.get_dummies(ids, columns=['id_27'], prefix='id_27', dummy_na=True)"
   ]
  },
  {
   "cell_type": "code",
   "execution_count": null,
   "metadata": {},
   "outputs": [],
   "source": [
    "# id_28\n",
    "#ids.id_28.isna().sum()\n",
    "#ids.id_28.value_counts()\n",
    "\n",
    "ids = pd.get_dummies(ids, columns=['id_28'], prefix='id_28', dummy_na=True)"
   ]
  },
  {
   "cell_type": "code",
   "execution_count": null,
   "metadata": {},
   "outputs": [],
   "source": [
    "# id_29\n",
    "#ids.id_29.isna().sum()\n",
    "#ids.id_29.value_counts()\n",
    "\n",
    "ids = pd.get_dummies(ids, columns=['id_29'], prefix='id_29', dummy_na=True)"
   ]
  },
  {
   "cell_type": "code",
   "execution_count": null,
   "metadata": {},
   "outputs": [],
   "source": [
    "# id_30\n",
    "#ids.id_30.isna().sum()\n",
    "#ids.id_30.value_counts()\n",
    "\n",
    "ids[\"id_30\"].fillna(\"Missing\", inplace=True)\n",
    "ids[\"OS_Type\"] = ids.id_30.str.split(\" \").map(lambda x: x[0])\n",
    "\n",
    "ids = pd.get_dummies(ids, columns=['id_30'], prefix='id_30', dummy_na=True)\n",
    "ids = pd.get_dummies(ids, columns=['OS_Type'], prefix='OS_Type', dummy_na=True)"
   ]
  },
  {
   "cell_type": "code",
   "execution_count": null,
   "metadata": {
    "scrolled": true
   },
   "outputs": [],
   "source": [
    "# id_31\n",
    "#ids.id_31.isna().sum()\n",
    "#list(ids.id_31.value_counts().index)\n",
    "\n",
    "ids[\"id_31\"].fillna(\"Missing\", inplace=True)\n",
    "\n",
    "browser_type = []\n",
    "\n",
    "for i in range(ids.shape[0]):\n",
    "    browser = ids.loc[i, \"id_31\"].lower()\n",
    "    \n",
    "    if (\"chrome\" in browser):\n",
    "        browser_type.append(\"chrome\")\n",
    "    elif(\"safari\" in browser):\n",
    "        browser_type.append(\"safari\")\n",
    "    elif(\"ie\" in browser):\n",
    "        browser_type.append(\"ie\")    \n",
    "    elif(\"safari\" in browser):\n",
    "        browser_type.append(\"safari\")\n",
    "    elif(\"firefox\" in browser):\n",
    "        browser_type.append(\"firefox\")      \n",
    "    elif(\"samsung\" in browser):\n",
    "        browser_type.append(\"samsung\")   \n",
    "    elif(\"edge\" in browser):\n",
    "        browser_type.append(\"edge\")   \n",
    "    elif(\"webview\" in browser):\n",
    "        browser_type.append(\"webview\") \n",
    "    elif(\"opera\" in browser):\n",
    "        browser_type.append(\"opera\")         \n",
    "    elif(\"search\" in browser):\n",
    "        browser_type.append(\"search\")     \n",
    "    elif(\"microsoft\" in browser):\n",
    "        browser_type.append(\"microsoft\") \n",
    "    else:\n",
    "        browser_type.append(browser)\n",
    "        \n",
    "ids = pd.get_dummies(ids, columns=['id_31'], prefix='id_31', dummy_na=True)\n",
    "ids['Browser_Type'] = browser_type"
   ]
  },
  {
   "cell_type": "code",
   "execution_count": null,
   "metadata": {},
   "outputs": [],
   "source": [
    "# id_32\n",
    "#ids.id_32.isna().sum()\n",
    "#ids.id_32.value_counts()\n",
    "\n",
    "ids = pd.get_dummies(ids, columns=['id_32'], prefix='id_32', dummy_na=True)"
   ]
  },
  {
   "cell_type": "code",
   "execution_count": null,
   "metadata": {},
   "outputs": [],
   "source": [
    "# id_33\n",
    "#ids.id_33.isna().sum()\n",
    "#ids.id_33.value_counts()\n",
    "\n",
    "ids = pd.get_dummies(ids, columns=['id_33'], prefix='id_33', dummy_na=True)"
   ]
  },
  {
   "cell_type": "code",
   "execution_count": 125,
   "metadata": {},
   "outputs": [
    {
     "data": {
      "text/plain": [
       "match_status:2     60011\n",
       "match_status:1     17376\n",
       "match_status:0       415\n",
       "match_status:-1        3\n",
       "Name: id_34, dtype: int64"
      ]
     },
     "execution_count": 125,
     "metadata": {},
     "output_type": "execute_result"
    }
   ],
   "source": [
    "# id_34\n",
    "#ids.id_34.isna().sum()\n",
    "#ids.id_34.value_counts()\n",
    "\n",
    "ids = pd.get_dummies(ids, columns=['id_34'], prefix='id_34', dummy_na=True)"
   ]
  },
  {
   "cell_type": "code",
   "execution_count": 127,
   "metadata": {},
   "outputs": [
    {
     "data": {
      "text/plain": [
       "T    77814\n",
       "F    63171\n",
       "Name: id_35, dtype: int64"
      ]
     },
     "execution_count": 127,
     "metadata": {},
     "output_type": "execute_result"
    }
   ],
   "source": [
    "# id_35\n",
    "#ids.id_35.isna().sum()\n",
    "#ids.id_35.value_counts()\n",
    "\n",
    "ids = pd.get_dummies(ids, columns=['id_35'], prefix='id_35', dummy_na=True)"
   ]
  },
  {
   "cell_type": "code",
   "execution_count": 129,
   "metadata": {},
   "outputs": [
    {
     "data": {
      "text/plain": [
       "F    134066\n",
       "T      6919\n",
       "Name: id_36, dtype: int64"
      ]
     },
     "execution_count": 129,
     "metadata": {},
     "output_type": "execute_result"
    }
   ],
   "source": [
    "# id_36\n",
    "#ids.id_36.isna().sum()\n",
    "#ids.id_36.value_counts()\n",
    "\n",
    "ids = pd.get_dummies(ids, columns=['id_36'], prefix='id_36', dummy_na=True)"
   ]
  },
  {
   "cell_type": "code",
   "execution_count": 131,
   "metadata": {},
   "outputs": [
    {
     "data": {
      "text/plain": [
       "T    110452\n",
       "F     30533\n",
       "Name: id_37, dtype: int64"
      ]
     },
     "execution_count": 131,
     "metadata": {},
     "output_type": "execute_result"
    }
   ],
   "source": [
    "# id_37\n",
    "#ids.id_37.isna().sum()\n",
    "#ids.id_37.value_counts()\n",
    "\n",
    "ids = pd.get_dummies(ids, columns=['id_37'], prefix='id_37', dummy_na=True)"
   ]
  },
  {
   "cell_type": "code",
   "execution_count": 133,
   "metadata": {
    "scrolled": true
   },
   "outputs": [
    {
     "data": {
      "text/plain": [
       "F    73922\n",
       "T    67063\n",
       "Name: id_38, dtype: int64"
      ]
     },
     "execution_count": 133,
     "metadata": {},
     "output_type": "execute_result"
    }
   ],
   "source": [
    "# id_38\n",
    "#ids.id_38.isna().sum()\n",
    "#ids.id_38.value_counts()\n",
    "\n",
    "ids = pd.get_dummies(ids, columns=['id_38'], prefix='id_38', dummy_na=True)"
   ]
  },
  {
   "cell_type": "markdown",
   "metadata": {},
   "source": [
    "### Merge Identities and Transactions"
   ]
  },
  {
   "cell_type": "code",
   "execution_count": 142,
   "metadata": {},
   "outputs": [
    {
     "data": {
      "text/plain": [
       "(590540, 434)"
      ]
     },
     "execution_count": 142,
     "metadata": {},
     "output_type": "execute_result"
    }
   ],
   "source": [
    "data = pd.merge(df, ids, on=\"TransactionID\", how=\"left\")\n",
    "data.shape"
   ]
  },
  {
   "cell_type": "code",
   "execution_count": 143,
   "metadata": {},
   "outputs": [
    {
     "data": {
      "text/html": [
       "<div>\n",
       "<style scoped>\n",
       "    .dataframe tbody tr th:only-of-type {\n",
       "        vertical-align: middle;\n",
       "    }\n",
       "\n",
       "    .dataframe tbody tr th {\n",
       "        vertical-align: top;\n",
       "    }\n",
       "\n",
       "    .dataframe thead th {\n",
       "        text-align: right;\n",
       "    }\n",
       "</style>\n",
       "<table border=\"1\" class=\"dataframe\">\n",
       "  <thead>\n",
       "    <tr style=\"text-align: right;\">\n",
       "      <th></th>\n",
       "      <th>TransactionID</th>\n",
       "      <th>isFraud</th>\n",
       "      <th>TransactionDT</th>\n",
       "      <th>TransactionAmt</th>\n",
       "      <th>ProductCD</th>\n",
       "      <th>card1</th>\n",
       "      <th>card2</th>\n",
       "      <th>card3</th>\n",
       "      <th>card4</th>\n",
       "      <th>card5</th>\n",
       "      <th>...</th>\n",
       "      <th>id_31</th>\n",
       "      <th>id_32</th>\n",
       "      <th>id_33</th>\n",
       "      <th>id_34</th>\n",
       "      <th>id_35</th>\n",
       "      <th>id_36</th>\n",
       "      <th>id_37</th>\n",
       "      <th>id_38</th>\n",
       "      <th>DeviceType</th>\n",
       "      <th>DeviceInfo</th>\n",
       "    </tr>\n",
       "  </thead>\n",
       "  <tbody>\n",
       "    <tr>\n",
       "      <th>0</th>\n",
       "      <td>2987000</td>\n",
       "      <td>0</td>\n",
       "      <td>86400</td>\n",
       "      <td>68.5</td>\n",
       "      <td>W</td>\n",
       "      <td>13926</td>\n",
       "      <td>NaN</td>\n",
       "      <td>150.0</td>\n",
       "      <td>discover</td>\n",
       "      <td>142.0</td>\n",
       "      <td>...</td>\n",
       "      <td>NaN</td>\n",
       "      <td>NaN</td>\n",
       "      <td>NaN</td>\n",
       "      <td>NaN</td>\n",
       "      <td>NaN</td>\n",
       "      <td>NaN</td>\n",
       "      <td>NaN</td>\n",
       "      <td>NaN</td>\n",
       "      <td>NaN</td>\n",
       "      <td>NaN</td>\n",
       "    </tr>\n",
       "    <tr>\n",
       "      <th>1</th>\n",
       "      <td>2987001</td>\n",
       "      <td>0</td>\n",
       "      <td>86401</td>\n",
       "      <td>29.0</td>\n",
       "      <td>W</td>\n",
       "      <td>2755</td>\n",
       "      <td>404.0</td>\n",
       "      <td>150.0</td>\n",
       "      <td>mastercard</td>\n",
       "      <td>102.0</td>\n",
       "      <td>...</td>\n",
       "      <td>NaN</td>\n",
       "      <td>NaN</td>\n",
       "      <td>NaN</td>\n",
       "      <td>NaN</td>\n",
       "      <td>NaN</td>\n",
       "      <td>NaN</td>\n",
       "      <td>NaN</td>\n",
       "      <td>NaN</td>\n",
       "      <td>NaN</td>\n",
       "      <td>NaN</td>\n",
       "    </tr>\n",
       "    <tr>\n",
       "      <th>2</th>\n",
       "      <td>2987002</td>\n",
       "      <td>0</td>\n",
       "      <td>86469</td>\n",
       "      <td>59.0</td>\n",
       "      <td>W</td>\n",
       "      <td>4663</td>\n",
       "      <td>490.0</td>\n",
       "      <td>150.0</td>\n",
       "      <td>visa</td>\n",
       "      <td>166.0</td>\n",
       "      <td>...</td>\n",
       "      <td>NaN</td>\n",
       "      <td>NaN</td>\n",
       "      <td>NaN</td>\n",
       "      <td>NaN</td>\n",
       "      <td>NaN</td>\n",
       "      <td>NaN</td>\n",
       "      <td>NaN</td>\n",
       "      <td>NaN</td>\n",
       "      <td>NaN</td>\n",
       "      <td>NaN</td>\n",
       "    </tr>\n",
       "    <tr>\n",
       "      <th>3</th>\n",
       "      <td>2987003</td>\n",
       "      <td>0</td>\n",
       "      <td>86499</td>\n",
       "      <td>50.0</td>\n",
       "      <td>W</td>\n",
       "      <td>18132</td>\n",
       "      <td>567.0</td>\n",
       "      <td>150.0</td>\n",
       "      <td>mastercard</td>\n",
       "      <td>117.0</td>\n",
       "      <td>...</td>\n",
       "      <td>NaN</td>\n",
       "      <td>NaN</td>\n",
       "      <td>NaN</td>\n",
       "      <td>NaN</td>\n",
       "      <td>NaN</td>\n",
       "      <td>NaN</td>\n",
       "      <td>NaN</td>\n",
       "      <td>NaN</td>\n",
       "      <td>NaN</td>\n",
       "      <td>NaN</td>\n",
       "    </tr>\n",
       "    <tr>\n",
       "      <th>4</th>\n",
       "      <td>2987004</td>\n",
       "      <td>0</td>\n",
       "      <td>86506</td>\n",
       "      <td>50.0</td>\n",
       "      <td>H</td>\n",
       "      <td>4497</td>\n",
       "      <td>514.0</td>\n",
       "      <td>150.0</td>\n",
       "      <td>mastercard</td>\n",
       "      <td>102.0</td>\n",
       "      <td>...</td>\n",
       "      <td>samsung browser 6.2</td>\n",
       "      <td>32.0</td>\n",
       "      <td>2220x1080</td>\n",
       "      <td>match_status:2</td>\n",
       "      <td>T</td>\n",
       "      <td>F</td>\n",
       "      <td>T</td>\n",
       "      <td>T</td>\n",
       "      <td>mobile</td>\n",
       "      <td>SAMSUNG SM-G892A Build/NRD90M</td>\n",
       "    </tr>\n",
       "  </tbody>\n",
       "</table>\n",
       "<p>5 rows × 434 columns</p>\n",
       "</div>"
      ],
      "text/plain": [
       "   TransactionID  isFraud  TransactionDT  TransactionAmt ProductCD  card1  \\\n",
       "0        2987000        0          86400            68.5         W  13926   \n",
       "1        2987001        0          86401            29.0         W   2755   \n",
       "2        2987002        0          86469            59.0         W   4663   \n",
       "3        2987003        0          86499            50.0         W  18132   \n",
       "4        2987004        0          86506            50.0         H   4497   \n",
       "\n",
       "   card2  card3       card4  card5              ...                \\\n",
       "0    NaN  150.0    discover  142.0              ...                 \n",
       "1  404.0  150.0  mastercard  102.0              ...                 \n",
       "2  490.0  150.0        visa  166.0              ...                 \n",
       "3  567.0  150.0  mastercard  117.0              ...                 \n",
       "4  514.0  150.0  mastercard  102.0              ...                 \n",
       "\n",
       "                 id_31  id_32      id_33           id_34  id_35 id_36 id_37  \\\n",
       "0                  NaN    NaN        NaN             NaN    NaN   NaN   NaN   \n",
       "1                  NaN    NaN        NaN             NaN    NaN   NaN   NaN   \n",
       "2                  NaN    NaN        NaN             NaN    NaN   NaN   NaN   \n",
       "3                  NaN    NaN        NaN             NaN    NaN   NaN   NaN   \n",
       "4  samsung browser 6.2   32.0  2220x1080  match_status:2      T     F     T   \n",
       "\n",
       "   id_38  DeviceType                     DeviceInfo  \n",
       "0    NaN         NaN                            NaN  \n",
       "1    NaN         NaN                            NaN  \n",
       "2    NaN         NaN                            NaN  \n",
       "3    NaN         NaN                            NaN  \n",
       "4      T      mobile  SAMSUNG SM-G892A Build/NRD90M  \n",
       "\n",
       "[5 rows x 434 columns]"
      ]
     },
     "execution_count": 143,
     "metadata": {},
     "output_type": "execute_result"
    }
   ],
   "source": [
    "data.head()"
   ]
  },
  {
   "cell_type": "code",
   "execution_count": null,
   "metadata": {},
   "outputs": [],
   "source": [
    "del data[\"TransactionID\"]"
   ]
  },
  {
   "cell_type": "code",
   "execution_count": 146,
   "metadata": {},
   "outputs": [
    {
     "data": {
      "text/plain": [
       "0"
      ]
     },
     "execution_count": 146,
     "metadata": {},
     "output_type": "execute_result"
    }
   ],
   "source": [
    "ids.id_01.isna().sum()"
   ]
  },
  {
   "cell_type": "code",
   "execution_count": 147,
   "metadata": {},
   "outputs": [
    {
     "data": {
      "text/plain": [
       "446307"
      ]
     },
     "execution_count": 147,
     "metadata": {},
     "output_type": "execute_result"
    }
   ],
   "source": [
    "data.id_01.isna().sum()"
   ]
  },
  {
   "cell_type": "markdown",
   "metadata": {},
   "source": [
    "#### not clear yet what to do after merge.\n",
    "#### only 145K rows will be full\n",
    "#### let's first look at the performance on the Transactions set without Identities"
   ]
  },
  {
   "cell_type": "code",
   "execution_count": null,
   "metadata": {},
   "outputs": [],
   "source": []
  },
  {
   "cell_type": "markdown",
   "metadata": {},
   "source": [
    "### Split to Train and Test Sets"
   ]
  },
  {
   "cell_type": "code",
   "execution_count": null,
   "metadata": {},
   "outputs": [],
   "source": [
    "X_train, X_test, y_train, y_test = train_test_split(df, labels, stratify=labels, test_size=0.3, random_state=8)"
   ]
  },
  {
   "cell_type": "markdown",
   "metadata": {},
   "source": [
    "### Gradient Boosting Classifier"
   ]
  },
  {
   "cell_type": "code",
   "execution_count": null,
   "metadata": {},
   "outputs": [],
   "source": [
    "%%time\n",
    "#\n",
    "# Gradient Boosting Machine\n",
    "#\n",
    "GBR = GradientBoostingRegressor(random_state=8)\n",
    "\n",
    "parameters_grid = {\n",
    "    \"n_estimators\": [350, 400, 450],\n",
    "    \"min_samples_split\": [2, 3, 4],\n",
    "    \"min_samples_leaf\": [1, 2, 3, 4]\n",
    "}\n",
    "\n",
    "gcv = GridSearchCV(GBR, parameters_grid, scoring='neg_mean_squared_error')\n",
    "gcv.fit(features_train, labels_train)\n",
    "GBR = gcv.best_estimator_\n",
    "print(GBR)\n",
    "print(\"GBR Score:\", gcv.best_score_)"
   ]
  }
 ],
 "metadata": {
  "kernelspec": {
   "display_name": "Python 3",
   "language": "python",
   "name": "python3"
  },
  "language_info": {
   "codemirror_mode": {
    "name": "ipython",
    "version": 3
   },
   "file_extension": ".py",
   "mimetype": "text/x-python",
   "name": "python",
   "nbconvert_exporter": "python",
   "pygments_lexer": "ipython3",
   "version": "3.7.1"
  }
 },
 "nbformat": 4,
 "nbformat_minor": 2
}
