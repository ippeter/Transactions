{
 "cells": [
  {
   "cell_type": "code",
   "execution_count": 1,
   "metadata": {},
   "outputs": [],
   "source": [
    "import pandas as pd\n",
    "import numpy as np\n",
    "import tensorflow as tf\n",
    "\n",
    "from sklearn.model_selection import train_test_split, GridSearchCV\n",
    "\n",
    "from sklearn.metrics import accuracy_score, roc_auc_score\n",
    "\n",
    "from sklearn.ensemble import GradientBoostingClassifier\n",
    "\n",
    "from sklearn.preprocessing import MinMaxScaler, StandardScaler\n",
    "\n",
    "from tensorflow.keras.layers import Input, Add, Dense, Activation, Dropout\n",
    "from tensorflow.keras.models import Model, load_model, Sequential\n",
    "\n",
    "import time"
   ]
  },
  {
   "cell_type": "code",
   "execution_count": null,
   "metadata": {},
   "outputs": [],
   "source": [
    "start_time = time.time()"
   ]
  },
  {
   "cell_type": "code",
   "execution_count": 2,
   "metadata": {},
   "outputs": [],
   "source": [
    "def write_to_submission_file(predicted_values, \n",
    "                             transaction_ids, \n",
    "                             out_file=\"submission.csv\", \n",
    "                             target='isFraud', \n",
    "                             index_label=\"TransactionID\"):\n",
    "    \n",
    "    # turn predictions into data frame and save as csv file\n",
    "    predicted_df = pd.DataFrame(predicted_values,\n",
    "                                index = transaction_ids,\n",
    "                                columns=[target])\n",
    "    \n",
    "    predicted_df.to_csv(out_file, index_label=index_label)\n",
    "    \n",
    "\n",
    "def rocauc(y_true, y_pred):\n",
    "    return tf.py_function(roc_auc_score, (y_true, y_pred), tf.double)"
   ]
  },
  {
   "cell_type": "code",
   "execution_count": 3,
   "metadata": {},
   "outputs": [
    {
     "data": {
      "text/plain": [
       "(590540, 394)"
      ]
     },
     "execution_count": 3,
     "metadata": {},
     "output_type": "execute_result"
    }
   ],
   "source": [
    "# Load Train data\n",
    "df = pd.read_csv(\"train_transaction.csv\")\n",
    "train_size = df.shape[0]\n",
    "df.shape"
   ]
  },
  {
   "cell_type": "code",
   "execution_count": 4,
   "metadata": {},
   "outputs": [
    {
     "data": {
      "text/plain": [
       "(506691, 393)"
      ]
     },
     "execution_count": 4,
     "metadata": {},
     "output_type": "execute_result"
    }
   ],
   "source": [
    "# Load Test data\n",
    "df_test = pd.read_csv(\"test_transaction.csv\")\n",
    "test_size = df_test.shape[0]\n",
    "df_test.shape"
   ]
  },
  {
   "cell_type": "code",
   "execution_count": 5,
   "metadata": {},
   "outputs": [
    {
     "data": {
      "text/plain": [
       "590540"
      ]
     },
     "execution_count": 5,
     "metadata": {},
     "output_type": "execute_result"
    }
   ],
   "source": [
    "labels = df[\"isFraud\"]\n",
    "\n",
    "del df[\"isFraud\"]\n",
    "\n",
    "len(labels)"
   ]
  },
  {
   "cell_type": "code",
   "execution_count": 6,
   "metadata": {},
   "outputs": [],
   "source": [
    "# Merge Train and Test data: Transactions\n",
    "df = pd.concat([df, df_test])"
   ]
  },
  {
   "cell_type": "markdown",
   "metadata": {},
   "source": [
    "### Load Identities"
   ]
  },
  {
   "cell_type": "code",
   "execution_count": 7,
   "metadata": {},
   "outputs": [
    {
     "data": {
      "text/plain": [
       "(144233, 41)"
      ]
     },
     "execution_count": 7,
     "metadata": {},
     "output_type": "execute_result"
    }
   ],
   "source": [
    "ids = pd.read_csv(\"train_identity.csv\")\n",
    "ids.shape"
   ]
  },
  {
   "cell_type": "code",
   "execution_count": 8,
   "metadata": {},
   "outputs": [
    {
     "data": {
      "text/plain": [
       "(141907, 41)"
      ]
     },
     "execution_count": 8,
     "metadata": {},
     "output_type": "execute_result"
    }
   ],
   "source": [
    "ids_test = pd.read_csv(\"test_identity.csv\")\n",
    "ids_test.shape"
   ]
  },
  {
   "cell_type": "code",
   "execution_count": 9,
   "metadata": {},
   "outputs": [],
   "source": [
    "# Merge Train and Test data: Identities\n",
    "ids = pd.concat([ids, ids_test])"
   ]
  },
  {
   "cell_type": "markdown",
   "metadata": {},
   "source": [
    "### Merge Identities and Transactions"
   ]
  },
  {
   "cell_type": "code",
   "execution_count": 10,
   "metadata": {},
   "outputs": [
    {
     "data": {
      "text/plain": [
       "(1097231, 433)"
      ]
     },
     "execution_count": 10,
     "metadata": {},
     "output_type": "execute_result"
    }
   ],
   "source": [
    "data = pd.merge(df, ids, on=\"TransactionID\", how=\"left\")\n",
    "data.shape"
   ]
  },
  {
   "cell_type": "code",
   "execution_count": 11,
   "metadata": {},
   "outputs": [],
   "source": [
    "del data[\"TransactionID\"]"
   ]
  },
  {
   "cell_type": "markdown",
   "metadata": {},
   "source": [
    "### Data Wrangling"
   ]
  },
  {
   "cell_type": "code",
   "execution_count": 12,
   "metadata": {},
   "outputs": [],
   "source": [
    "#data.columns.tolist()"
   ]
  },
  {
   "cell_type": "code",
   "execution_count": 13,
   "metadata": {},
   "outputs": [],
   "source": [
    "# TransactionDT\n",
    "#data.TransactionDT.isna().sum()\n",
    "\n",
    "data[\"DTSec\"] = data.TransactionDT % 60\n",
    "data[\"DTMin\"] = (data.TransactionDT % 3600) // 60\n",
    "data[\"DTHour\"] = (data.TransactionDT % 86400) // 3600\n",
    "data[\"DTDow\"] = (data.TransactionDT % 604800) // 86400\n",
    "\n",
    "del data['TransactionDT']"
   ]
  },
  {
   "cell_type": "code",
   "execution_count": 14,
   "metadata": {},
   "outputs": [],
   "source": [
    "# TransactionAmt\n",
    "#data.TransactionAmt.isna().sum()\n",
    "# No changes at the beginning"
   ]
  },
  {
   "cell_type": "code",
   "execution_count": 15,
   "metadata": {
    "scrolled": true
   },
   "outputs": [],
   "source": [
    "# ProductCD\n",
    "#data.ProductCD.isna().sum()\n",
    "#data.ProductCD.value_counts()\n",
    "\n",
    "data = pd.get_dummies(data, columns=['ProductCD'], prefix='ProductCD')"
   ]
  },
  {
   "cell_type": "code",
   "execution_count": 16,
   "metadata": {},
   "outputs": [],
   "source": [
    "# card1\n",
    "#data.card1.isna().sum()\n",
    "# No changes at the beginning"
   ]
  },
  {
   "cell_type": "code",
   "execution_count": 17,
   "metadata": {},
   "outputs": [],
   "source": [
    "# card2\n",
    "#data.card2.isna().sum()\n",
    "#data.card2.min()\n",
    "\n",
    "data[\"card2_nan\"] = data.card2.isna().astype(int)\n",
    "data.card2.fillna(0.0, inplace=True)"
   ]
  },
  {
   "cell_type": "code",
   "execution_count": 18,
   "metadata": {},
   "outputs": [],
   "source": [
    "# card3\n",
    "#data.card3.isna().sum()\n",
    "#data.card3.min()\n",
    "\n",
    "data[\"card3_nan\"] = data.card3.isna().astype(int)\n",
    "data.card3.fillna(0.0, inplace=True)"
   ]
  },
  {
   "cell_type": "code",
   "execution_count": 19,
   "metadata": {},
   "outputs": [],
   "source": [
    "# card4\n",
    "#data.card4.isna().sum()\n",
    "\n",
    "data = pd.get_dummies(data, columns=['card4'], prefix='card4', dummy_na=True)"
   ]
  },
  {
   "cell_type": "code",
   "execution_count": 20,
   "metadata": {},
   "outputs": [],
   "source": [
    "# card5\n",
    "#data.card5.isna().sum()\n",
    "#data.card5.min()\n",
    "\n",
    "data[\"card5_nan\"] = data.card5.isna().astype(int)\n",
    "data.card5.fillna(0.0, inplace=True)"
   ]
  },
  {
   "cell_type": "code",
   "execution_count": 21,
   "metadata": {},
   "outputs": [],
   "source": [
    "# card6\n",
    "#data.card6.isna().sum()\n",
    "\n",
    "data = pd.get_dummies(data, columns=['card6'], prefix='card6', dummy_na=True)"
   ]
  },
  {
   "cell_type": "code",
   "execution_count": 22,
   "metadata": {},
   "outputs": [],
   "source": [
    "# addr1\n",
    "#data.addr1.isna().sum()\n",
    "\n",
    "data[\"addr1_nan\"] = data.addr1.isna().astype(int)\n",
    "data.addr1.fillna(0.0, inplace=True)"
   ]
  },
  {
   "cell_type": "code",
   "execution_count": 23,
   "metadata": {},
   "outputs": [],
   "source": [
    "# addr2\n",
    "#data.addr2.isna().sum()\n",
    "#data.addr2.value_counts()\n",
    "#data.addr2.min()\n",
    "\n",
    "data[\"addr2_nan\"] = data.addr2.isna().astype(int)\n",
    "data.addr2.fillna(0.0, inplace=True)"
   ]
  },
  {
   "cell_type": "code",
   "execution_count": 24,
   "metadata": {},
   "outputs": [],
   "source": [
    "# dist1\n",
    "#data.dist1\n",
    "\n",
    "data[\"dist1_nan\"] = data.dist1.isna().astype(int)\n",
    "data.dist1.fillna(-1.0, inplace=True)"
   ]
  },
  {
   "cell_type": "code",
   "execution_count": 25,
   "metadata": {},
   "outputs": [],
   "source": [
    "# dist2\n",
    "#data.dist2.min()\n",
    "\n",
    "data[\"dist2_nan\"] = data.dist2.isna().astype(int)\n",
    "data.dist2.fillna(-1.0, inplace=True)"
   ]
  },
  {
   "cell_type": "code",
   "execution_count": 26,
   "metadata": {},
   "outputs": [],
   "source": [
    "# P_emaildomain\n",
    "#data.P_emaildomain\n",
    "\n",
    "data = pd.get_dummies(data, columns=['P_emaildomain'], prefix='P_emaildomain', dummy_na=True)"
   ]
  },
  {
   "cell_type": "code",
   "execution_count": 27,
   "metadata": {},
   "outputs": [],
   "source": [
    "# R_emaildomain\n",
    "#data.R_emaildomain\n",
    "\n",
    "data = pd.get_dummies(data, columns=['R_emaildomain'], prefix='R_emaildomain', dummy_na=True)"
   ]
  },
  {
   "cell_type": "code",
   "execution_count": 28,
   "metadata": {},
   "outputs": [],
   "source": [
    "# C1\n",
    "#data.C1.isna().sum()\n",
    "#data.C1.value_counts()\n",
    "\n",
    "data[\"C1_nan\"] = data.C1.isna().astype(int)\n",
    "data.C1.fillna(-1.0, inplace=True)"
   ]
  },
  {
   "cell_type": "code",
   "execution_count": 29,
   "metadata": {},
   "outputs": [],
   "source": [
    "# C2\n",
    "#data.C2.isna().sum()\n",
    "#data.C2.value_counts()\n",
    "\n",
    "data[\"C2_nan\"] = data.C2.isna().astype(int)\n",
    "data.C2.fillna(-1.0, inplace=True)"
   ]
  },
  {
   "cell_type": "code",
   "execution_count": 30,
   "metadata": {},
   "outputs": [],
   "source": [
    "# C3\n",
    "#data.C3.isna().sum()\n",
    "#data.C3.value_counts()\n",
    "\n",
    "data[\"C3_nan\"] = data.C3.isna().astype(int)\n",
    "data.C3.fillna(-1.0, inplace=True)"
   ]
  },
  {
   "cell_type": "code",
   "execution_count": 31,
   "metadata": {},
   "outputs": [],
   "source": [
    "# C4\n",
    "#data.C4.isna().sum()\n",
    "#data.C4.value_counts()\n",
    "\n",
    "data[\"C4_nan\"] = data.C4.isna().astype(int)\n",
    "data.C4.fillna(-1.0, inplace=True)"
   ]
  },
  {
   "cell_type": "code",
   "execution_count": 32,
   "metadata": {},
   "outputs": [],
   "source": [
    "# C5\n",
    "#data.C5.isna().sum()\n",
    "#data.C5.value_counts()\n",
    "\n",
    "data[\"C5_nan\"] = data.C5.isna().astype(int)\n",
    "data.C5.fillna(-1.0, inplace=True)"
   ]
  },
  {
   "cell_type": "code",
   "execution_count": 33,
   "metadata": {},
   "outputs": [],
   "source": [
    "# C6\n",
    "#data.C6\n",
    "#data.C6.isna().sum()\n",
    "#data.C6.value_counts()\n",
    "\n",
    "data[\"C6_nan\"] = data.C6.isna().astype(int)\n",
    "data.C6.fillna(-1.0, inplace=True)"
   ]
  },
  {
   "cell_type": "code",
   "execution_count": 34,
   "metadata": {},
   "outputs": [],
   "source": [
    "# C7\n",
    "#data.C7\n",
    "#data.C7.isna().sum()\n",
    "#data.C7.value_counts()\n",
    "\n",
    "data[\"C7_nan\"] = data.C7.isna().astype(int)\n",
    "data.C7.fillna(-1.0, inplace=True)"
   ]
  },
  {
   "cell_type": "code",
   "execution_count": 35,
   "metadata": {},
   "outputs": [],
   "source": [
    "# C8\n",
    "#data.C8\n",
    "#data.C8.isna().sum()\n",
    "#data.C8.value_counts()\n",
    "\n",
    "data[\"C8_nan\"] = data.C8.isna().astype(int)\n",
    "data.C8.fillna(-1.0, inplace=True)"
   ]
  },
  {
   "cell_type": "code",
   "execution_count": 36,
   "metadata": {},
   "outputs": [],
   "source": [
    "# C9\n",
    "#data.C9\n",
    "#data.C9.isna().sum()\n",
    "#data.C9.value_counts()\n",
    "\n",
    "data[\"C9_nan\"] = data.C9.isna().astype(int)\n",
    "data.C9.fillna(-1.0, inplace=True)"
   ]
  },
  {
   "cell_type": "code",
   "execution_count": 37,
   "metadata": {},
   "outputs": [],
   "source": [
    "# C10\n",
    "#data.C10\n",
    "#data.C10.isna().sum()\n",
    "#data.C10.value_counts()\n",
    "\n",
    "data[\"C10_nan\"] = data.C10.isna().astype(int)\n",
    "data.C10.fillna(-1.0, inplace=True)"
   ]
  },
  {
   "cell_type": "code",
   "execution_count": 38,
   "metadata": {},
   "outputs": [],
   "source": [
    "# C11\n",
    "#data.C11\n",
    "#data.C11.isna().sum()\n",
    "#data.C11.value_counts()\n",
    "\n",
    "data[\"C11_nan\"] = data.C11.isna().astype(int)\n",
    "data.C11.fillna(-1.0, inplace=True)"
   ]
  },
  {
   "cell_type": "code",
   "execution_count": 39,
   "metadata": {},
   "outputs": [],
   "source": [
    "# C12\n",
    "#data.C12\n",
    "#data.C12.isna().sum()\n",
    "#data.C12.value_counts()\n",
    "\n",
    "data[\"C12_nan\"] = data.C12.isna().astype(int)\n",
    "data.C12.fillna(-1.0, inplace=True)"
   ]
  },
  {
   "cell_type": "code",
   "execution_count": 40,
   "metadata": {},
   "outputs": [],
   "source": [
    "# C13\n",
    "#data.C13\n",
    "#data.C13.isna().sum()\n",
    "#data.C13.value_counts()\n",
    "\n",
    "data[\"C13_nan\"] = data.C13.isna().astype(int)\n",
    "data.C13.fillna(-1.0, inplace=True)"
   ]
  },
  {
   "cell_type": "code",
   "execution_count": 41,
   "metadata": {},
   "outputs": [],
   "source": [
    "# C14\n",
    "#data.C14\n",
    "#data.C14.isna().sum()\n",
    "#data.C14.value_counts()\n",
    "\n",
    "data[\"C14_nan\"] = data.C14.isna().astype(int)\n",
    "data.C14.fillna(-1.0, inplace=True)"
   ]
  },
  {
   "cell_type": "code",
   "execution_count": 42,
   "metadata": {},
   "outputs": [],
   "source": [
    "# D1\n",
    "#data.D1\n",
    "#data.D1.isna().sum()\n",
    "\n",
    "data[\"D1_nan\"] = data.D1.isna().astype(int)\n",
    "data.D1.fillna(-1.0, inplace=True)"
   ]
  },
  {
   "cell_type": "code",
   "execution_count": 43,
   "metadata": {},
   "outputs": [],
   "source": [
    "# D2\n",
    "#data.D2\n",
    "#data.D2.min()\n",
    "\n",
    "data[\"D2_nan\"] = data.D2.isna().astype(int)\n",
    "data.D2.fillna(-1.0, inplace=True)"
   ]
  },
  {
   "cell_type": "code",
   "execution_count": 44,
   "metadata": {},
   "outputs": [],
   "source": [
    "# D3\n",
    "#data.D3\n",
    "\n",
    "data[\"D3_nan\"] = data.D3.isna().astype(int)\n",
    "data.D3.fillna(-1.0, inplace=True)"
   ]
  },
  {
   "cell_type": "code",
   "execution_count": 45,
   "metadata": {},
   "outputs": [],
   "source": [
    "# D4\n",
    "#data.D4\n",
    "\n",
    "data[\"D4_nan\"] = data.D4.isna().astype(int)\n",
    "data.D4.fillna(-1.0, inplace=True)"
   ]
  },
  {
   "cell_type": "code",
   "execution_count": 46,
   "metadata": {},
   "outputs": [],
   "source": [
    "# D5\n",
    "#data.D5\n",
    "\n",
    "data[\"D5_nan\"] = data.D5.isna().astype(int)\n",
    "data.D5.fillna(-1.0, inplace=True)"
   ]
  },
  {
   "cell_type": "code",
   "execution_count": 47,
   "metadata": {},
   "outputs": [],
   "source": [
    "# D6\n",
    "#data.D6\n",
    "#data.D6.value_counts()\n",
    "\n",
    "data[\"D6_nan\"] = data.D6.isna().astype(int)\n",
    "data.D6.fillna(-1.0, inplace=True)"
   ]
  },
  {
   "cell_type": "code",
   "execution_count": 48,
   "metadata": {},
   "outputs": [],
   "source": [
    "# D7\n",
    "#data.D7\n",
    "#data.D7.value_counts()\n",
    "\n",
    "data[\"D7_nan\"] = data.D7.isna().astype(int)\n",
    "data.D7.fillna(-1.0, inplace=True)"
   ]
  },
  {
   "cell_type": "code",
   "execution_count": 49,
   "metadata": {},
   "outputs": [],
   "source": [
    "# D8\n",
    "#data.D8\n",
    "#data.D8.value_counts()\n",
    "\n",
    "data[\"D8_nan\"] = data.D8.isna().astype(int)\n",
    "data.D8.fillna(-1.0, inplace=True)"
   ]
  },
  {
   "cell_type": "code",
   "execution_count": 50,
   "metadata": {},
   "outputs": [],
   "source": [
    "# D9\n",
    "#data.D9\n",
    "#data.D9.value_counts()\n",
    "\n",
    "data[\"D9_nan\"] = data.D9.isna().astype(int)\n",
    "data.D9.fillna(-1.0, inplace=True)"
   ]
  },
  {
   "cell_type": "code",
   "execution_count": 51,
   "metadata": {},
   "outputs": [],
   "source": [
    "# D10\n",
    "#data.D10\n",
    "\n",
    "data[\"D10_nan\"] = data.D10.isna().astype(int)\n",
    "data.D10.fillna(-1.0, inplace=True)"
   ]
  },
  {
   "cell_type": "code",
   "execution_count": 52,
   "metadata": {},
   "outputs": [],
   "source": [
    "# D11\n",
    "#data.D11\n",
    "\n",
    "data[\"D11_nan\"] = data.D11.isna().astype(int)\n",
    "data.D11.fillna(-1.0, inplace=True)"
   ]
  },
  {
   "cell_type": "code",
   "execution_count": 53,
   "metadata": {},
   "outputs": [],
   "source": [
    "# D12\n",
    "#data.D12\n",
    "#data.D12.value_counts()\n",
    "\n",
    "data[\"D12_nan\"] = data.D12.isna().astype(int)\n",
    "data.D12.fillna(-1.0, inplace=True)"
   ]
  },
  {
   "cell_type": "code",
   "execution_count": 54,
   "metadata": {},
   "outputs": [],
   "source": [
    "# D13\n",
    "#data.D13\n",
    "#data.D13.value_counts()\n",
    "\n",
    "data[\"D13_nan\"] = data.D13.isna().astype(int)\n",
    "data.D13.fillna(-1.0, inplace=True)"
   ]
  },
  {
   "cell_type": "code",
   "execution_count": 55,
   "metadata": {},
   "outputs": [],
   "source": [
    "# D14\n",
    "#data.D14\n",
    "#data.D14.value_counts()\n",
    "\n",
    "data[\"D14_nan\"] = data.D14.isna().astype(int)\n",
    "data.D14.fillna(-1.0, inplace=True)"
   ]
  },
  {
   "cell_type": "code",
   "execution_count": 56,
   "metadata": {},
   "outputs": [],
   "source": [
    "# D15\n",
    "#data.D15\n",
    "\n",
    "data[\"D15_nan\"] = data.D15.isna().astype(int)\n",
    "data.D15.fillna(-1.0, inplace=True)"
   ]
  },
  {
   "cell_type": "code",
   "execution_count": 57,
   "metadata": {},
   "outputs": [],
   "source": [
    "# M1\n",
    "#data.M1\n",
    "#data.M1.value_counts()\n",
    "\n",
    "data = pd.get_dummies(data, columns=['M1'], prefix='M1', dummy_na=True)"
   ]
  },
  {
   "cell_type": "code",
   "execution_count": 58,
   "metadata": {},
   "outputs": [],
   "source": [
    "# M2\n",
    "#data.M2\n",
    "#data.M2.value_counts()\n",
    "\n",
    "data = pd.get_dummies(data, columns=['M2'], prefix='M2', dummy_na=True)"
   ]
  },
  {
   "cell_type": "code",
   "execution_count": 59,
   "metadata": {},
   "outputs": [],
   "source": [
    "# M3\n",
    "#data.M3\n",
    "\n",
    "data = pd.get_dummies(data, columns=['M3'], prefix='M3', dummy_na=True)"
   ]
  },
  {
   "cell_type": "code",
   "execution_count": 60,
   "metadata": {},
   "outputs": [],
   "source": [
    "# M4\n",
    "#data.M4\n",
    "#data.M4.value_counts()\n",
    "\n",
    "data = pd.get_dummies(data, columns=['M4'], prefix='M4', dummy_na=True)"
   ]
  },
  {
   "cell_type": "code",
   "execution_count": 61,
   "metadata": {},
   "outputs": [],
   "source": [
    "# M5\n",
    "#data.M5\n",
    "\n",
    "data = pd.get_dummies(data, columns=['M5'], prefix='M5', dummy_na=True)"
   ]
  },
  {
   "cell_type": "code",
   "execution_count": 62,
   "metadata": {},
   "outputs": [],
   "source": [
    "# M6\n",
    "#data.M6\n",
    "\n",
    "data = pd.get_dummies(data, columns=['M6'], prefix='M6', dummy_na=True)"
   ]
  },
  {
   "cell_type": "code",
   "execution_count": 63,
   "metadata": {},
   "outputs": [],
   "source": [
    "# M7\n",
    "#data.M7\n",
    "\n",
    "data = pd.get_dummies(data, columns=['M7'], prefix='M7', dummy_na=True)"
   ]
  },
  {
   "cell_type": "code",
   "execution_count": 64,
   "metadata": {},
   "outputs": [],
   "source": [
    "# M8\n",
    "#data.M8\n",
    "\n",
    "data = pd.get_dummies(data, columns=['M8'], prefix='M8', dummy_na=True)"
   ]
  },
  {
   "cell_type": "code",
   "execution_count": 65,
   "metadata": {},
   "outputs": [],
   "source": [
    "# M9\n",
    "#data.M9\n",
    "\n",
    "data = pd.get_dummies(data, columns=['M9'], prefix='M9', dummy_na=True)"
   ]
  },
  {
   "cell_type": "code",
   "execution_count": 66,
   "metadata": {},
   "outputs": [],
   "source": [
    "#\n",
    "# Process all V-columns at once\n",
    "#\n",
    "\n",
    "MAX_AMOUNT_OF_UNIQUE = 16\n",
    "\n",
    "for i in range(1, 340):\n",
    "    col = \"V\" + str(i)\n",
    "    \n",
    "    if (len(data[col].value_counts()) > MAX_AMOUNT_OF_UNIQUE):\n",
    "        data[col + \"_nan\"] = data[col].isna().astype(int)\n",
    "        data[col].fillna(-1.0, inplace=True)\n",
    "    else:\n",
    "        data = pd.get_dummies(data, columns=[col], prefix=col, dummy_na=True)"
   ]
  },
  {
   "cell_type": "markdown",
   "metadata": {},
   "source": [
    "### Data Wrangling for Identities"
   ]
  },
  {
   "cell_type": "code",
   "execution_count": 67,
   "metadata": {},
   "outputs": [],
   "source": [
    "# id_01\n",
    "#data.id_01.isna().sum()\n",
    "#data.id_01.value_counts()\n",
    "\n",
    "data[\"id_01\" + \"_nan\"] = data[\"id_01\"].isna().astype(int)\n",
    "data[\"id_01\"].fillna(0.0, inplace=True)"
   ]
  },
  {
   "cell_type": "code",
   "execution_count": 68,
   "metadata": {},
   "outputs": [],
   "source": [
    "# id_02\n",
    "#data.id_02.isna().sum()\n",
    "#data.id_02.max()\n",
    "\n",
    "data[\"id_02\" + \"_nan\"] = data[\"id_02\"].isna().astype(int)\n",
    "data[\"id_02\"].fillna(0.0, inplace=True)"
   ]
  },
  {
   "cell_type": "code",
   "execution_count": 69,
   "metadata": {},
   "outputs": [],
   "source": [
    "# id_03\n",
    "#data.id_03.isna().sum()\n",
    "#data.id_03.value_counts()\n",
    "\n",
    "data = pd.get_dummies(data, columns=['id_03'], prefix='id_03', dummy_na=True)"
   ]
  },
  {
   "cell_type": "code",
   "execution_count": 70,
   "metadata": {},
   "outputs": [],
   "source": [
    "# id_04\n",
    "#data.id_04.isna().sum()\n",
    "#data.id_04.value_counts()\n",
    "\n",
    "data = pd.get_dummies(data, columns=['id_04'], prefix='id_04', dummy_na=True)"
   ]
  },
  {
   "cell_type": "code",
   "execution_count": 71,
   "metadata": {},
   "outputs": [],
   "source": [
    "# id_05\n",
    "#data.id_05.isna().sum()\n",
    "#data.id_05.value_counts()\n",
    "\n",
    "data[\"id_05\" + \"_nan\"] = data[\"id_05\"].isna().astype(int)\n",
    "data[\"id_05\"].fillna(100.0, inplace=True)"
   ]
  },
  {
   "cell_type": "code",
   "execution_count": 72,
   "metadata": {},
   "outputs": [],
   "source": [
    "# id_06\n",
    "#data.id_06.isna().sum()\n",
    "#data.id_06.value_counts()\n",
    "\n",
    "data[\"id_06\" + \"_nan\"] = data[\"id_06\"].isna().astype(int)\n",
    "data[\"id_06\"].fillna(100.0, inplace=True)"
   ]
  },
  {
   "cell_type": "code",
   "execution_count": 73,
   "metadata": {},
   "outputs": [],
   "source": [
    "# id_07\n",
    "#data.id_07.isna().sum()\n",
    "#data.id_07.value_counts()\n",
    "#data.id_07.min()\n",
    "\n",
    "data[\"id_07\" + \"_nan\"] = data[\"id_07\"].isna().astype(int)\n",
    "data[\"id_07\"].fillna(100.0, inplace=True)"
   ]
  },
  {
   "cell_type": "code",
   "execution_count": 74,
   "metadata": {},
   "outputs": [],
   "source": [
    "# id_08\n",
    "#data.id_08.isna().sum()\n",
    "#data.id_08.value_counts()\n",
    "#data.id_08.max()\n",
    "\n",
    "data[\"id_08\" + \"_nan\"] = data[\"id_08\"].isna().astype(int)\n",
    "data[\"id_08\"].fillna(100.0, inplace=True)"
   ]
  },
  {
   "cell_type": "code",
   "execution_count": 75,
   "metadata": {},
   "outputs": [],
   "source": [
    "# id_09\n",
    "#data.id_09.isna().sum()\n",
    "#data.id_09.value_counts()\n",
    "\n",
    "data[\"id_09\" + \"_nan\"] = data[\"id_09\"].isna().astype(int)\n",
    "data[\"id_09\"].fillna(100.0, inplace=True)"
   ]
  },
  {
   "cell_type": "code",
   "execution_count": 76,
   "metadata": {},
   "outputs": [],
   "source": [
    "# id_10\n",
    "#data.id_10.isna().sum()\n",
    "#data.id_10.value_counts()\n",
    "\n",
    "data[\"id_10\" + \"_nan\"] = data[\"id_10\"].isna().astype(int)\n",
    "data[\"id_10\"].fillna(100.0, inplace=True)"
   ]
  },
  {
   "cell_type": "code",
   "execution_count": 77,
   "metadata": {},
   "outputs": [],
   "source": [
    "# id_11\n",
    "#data.id_11.isna().sum()\n",
    "#data.id_11.value_counts()\n",
    "#data.id_11.min()\n",
    "\n",
    "data[\"id_11\" + \"_nan\"] = data[\"id_11\"].isna().astype(int)\n",
    "data[\"id_11\"].fillna(0.0, inplace=True)"
   ]
  },
  {
   "cell_type": "code",
   "execution_count": 78,
   "metadata": {},
   "outputs": [],
   "source": [
    "# id_12\n",
    "#data.id_12.isna().sum()\n",
    "#data.id_12.value_counts()\n",
    "\n",
    "data = pd.get_dummies(data, columns=['id_12'], prefix='id_12', dummy_na=True)"
   ]
  },
  {
   "cell_type": "code",
   "execution_count": 79,
   "metadata": {},
   "outputs": [],
   "source": [
    "# id_13\n",
    "#data.id_13.isna().sum()\n",
    "#data.id_13.value_counts()\n",
    "\n",
    "data[\"id_13\" + \"_nan\"] = data[\"id_13\"].isna().astype(int)\n",
    "data[\"id_13\"].fillna(100.0, inplace=True)"
   ]
  },
  {
   "cell_type": "code",
   "execution_count": 80,
   "metadata": {},
   "outputs": [],
   "source": [
    "# id_14\n",
    "#data.id_14.isna().sum()\n",
    "#data.id_14.value_counts()\n",
    "\n",
    "data = pd.get_dummies(data, columns=['id_14'], prefix='id_14', dummy_na=True)"
   ]
  },
  {
   "cell_type": "code",
   "execution_count": 81,
   "metadata": {},
   "outputs": [],
   "source": [
    "# id_15\n",
    "#data.id_15.isna().sum()\n",
    "#data.id_15.value_counts()\n",
    "\n",
    "data = pd.get_dummies(data, columns=['id_15'], prefix='id_15', dummy_na=True)"
   ]
  },
  {
   "cell_type": "code",
   "execution_count": 82,
   "metadata": {},
   "outputs": [],
   "source": [
    "# id_16\n",
    "#data.id_16.isna().sum()\n",
    "#data.id_16.value_counts()\n",
    "\n",
    "data = pd.get_dummies(data, columns=['id_16'], prefix='id_16', dummy_na=True)"
   ]
  },
  {
   "cell_type": "code",
   "execution_count": 83,
   "metadata": {},
   "outputs": [],
   "source": [
    "# id_17\n",
    "#data.id_17.isna().sum()\n",
    "#data.id_17.value_counts()\n",
    "#data.id_17.min()\n",
    "\n",
    "data[\"id_17\" + \"_nan\"] = data[\"id_17\"].isna().astype(int)\n",
    "data[\"id_17\"].fillna(0.0, inplace=True)"
   ]
  },
  {
   "cell_type": "code",
   "execution_count": 84,
   "metadata": {},
   "outputs": [],
   "source": [
    "# id_18\n",
    "#data.id_18.isna().sum()\n",
    "#data.id_18.value_counts()\n",
    "\n",
    "data = pd.get_dummies(data, columns=['id_18'], prefix='id_18', dummy_na=True)"
   ]
  },
  {
   "cell_type": "code",
   "execution_count": 85,
   "metadata": {},
   "outputs": [],
   "source": [
    "# id_19\n",
    "#data.id_19.isna().sum()\n",
    "#data.id_19.value_counts()\n",
    "#data.id_19.min()\n",
    "\n",
    "data[\"id_19\" + \"_nan\"] = data[\"id_19\"].isna().astype(int)\n",
    "data[\"id_19\"].fillna(0.0, inplace=True)"
   ]
  },
  {
   "cell_type": "code",
   "execution_count": 86,
   "metadata": {},
   "outputs": [],
   "source": [
    "# id_20\n",
    "#data.id_20.isna().sum()\n",
    "#data.id_20.value_counts()\n",
    "#data.id_20.min()\n",
    "\n",
    "data[\"id_20\" + \"_nan\"] = data[\"id_20\"].isna().astype(int)\n",
    "data[\"id_20\"].fillna(0.0, inplace=True)"
   ]
  },
  {
   "cell_type": "code",
   "execution_count": 87,
   "metadata": {},
   "outputs": [],
   "source": [
    "# id_21\n",
    "#data.id_21.isna().sum()\n",
    "#data.id_21.value_counts()\n",
    "#data.id_21.min()\n",
    "\n",
    "data[\"id_21\" + \"_nan\"] = data[\"id_21\"].isna().astype(int)\n",
    "data[\"id_21\"].fillna(0.0, inplace=True)"
   ]
  },
  {
   "cell_type": "code",
   "execution_count": 88,
   "metadata": {},
   "outputs": [],
   "source": [
    "# id_22\n",
    "#data.id_22.isna().sum()\n",
    "#data.id_22.value_counts()\n",
    "\n",
    "data = pd.get_dummies(data, columns=['id_22'], prefix='id_22', dummy_na=True)"
   ]
  },
  {
   "cell_type": "code",
   "execution_count": 89,
   "metadata": {},
   "outputs": [],
   "source": [
    "# id_23\n",
    "#data.id_23.isna().sum()\n",
    "#data.id_23.value_counts()\n",
    "\n",
    "data = pd.get_dummies(data, columns=['id_23'], prefix='id_23', dummy_na=True)"
   ]
  },
  {
   "cell_type": "code",
   "execution_count": 90,
   "metadata": {},
   "outputs": [],
   "source": [
    "# id_24\n",
    "#data.id_24.isna().sum()\n",
    "#data.id_24.value_counts()\n",
    "\n",
    "data = pd.get_dummies(data, columns=['id_24'], prefix='id_24', dummy_na=True)"
   ]
  },
  {
   "cell_type": "code",
   "execution_count": 91,
   "metadata": {},
   "outputs": [],
   "source": [
    "# id_25\n",
    "#data.id_25.isna().sum()\n",
    "#data.id_25.value_counts()\n",
    "#data.id_25.min()\n",
    "\n",
    "data[\"id_25\" + \"_nan\"] = data[\"id_25\"].isna().astype(int)\n",
    "data[\"id_25\"].fillna(0.0, inplace=True)"
   ]
  },
  {
   "cell_type": "code",
   "execution_count": 92,
   "metadata": {},
   "outputs": [],
   "source": [
    "# id_26\n",
    "#data.id_26.isna().sum()\n",
    "#data.id_26.value_counts()\n",
    "#data.id_26.min()\n",
    "\n",
    "data[\"id_26\" + \"_nan\"] = data[\"id_26\"].isna().astype(int)\n",
    "data[\"id_26\"].fillna(0.0, inplace=True)"
   ]
  },
  {
   "cell_type": "code",
   "execution_count": 93,
   "metadata": {},
   "outputs": [],
   "source": [
    "# id_27\n",
    "#data.id_27.isna().sum()\n",
    "#data.id_27.value_counts()\n",
    "\n",
    "data = pd.get_dummies(data, columns=['id_27'], prefix='id_27', dummy_na=True)"
   ]
  },
  {
   "cell_type": "code",
   "execution_count": 94,
   "metadata": {},
   "outputs": [],
   "source": [
    "# id_28\n",
    "#data.id_28.isna().sum()\n",
    "#data.id_28.value_counts()\n",
    "\n",
    "data = pd.get_dummies(data, columns=['id_28'], prefix='id_28', dummy_na=True)"
   ]
  },
  {
   "cell_type": "code",
   "execution_count": 95,
   "metadata": {},
   "outputs": [],
   "source": [
    "# id_29\n",
    "#data.id_29.isna().sum()\n",
    "#data.id_29.value_counts()\n",
    "\n",
    "data = pd.get_dummies(data, columns=['id_29'], prefix='id_29', dummy_na=True)"
   ]
  },
  {
   "cell_type": "code",
   "execution_count": 96,
   "metadata": {},
   "outputs": [],
   "source": [
    "# id_30\n",
    "#data.id_30.isna().sum()\n",
    "#data.id_30.value_counts()\n",
    "\n",
    "data[\"id_30\"].fillna(\"Missing\", inplace=True)\n",
    "data[\"OS_Type\"] = data.id_30.str.split(\" \").map(lambda x: x[0])\n",
    "\n",
    "data = pd.get_dummies(data, columns=['id_30'], prefix='id_30', dummy_na=True)\n",
    "data = pd.get_dummies(data, columns=['OS_Type'], prefix='OS_Type', dummy_na=True)"
   ]
  },
  {
   "cell_type": "code",
   "execution_count": 97,
   "metadata": {
    "scrolled": true
   },
   "outputs": [],
   "source": [
    "# id_31\n",
    "#data.id_31.isna().sum()\n",
    "#list(data.id_31.value_counts().index)\n",
    "\n",
    "data[\"id_31\"].fillna(\"Missing\", inplace=True)\n",
    "\n",
    "browser_type = []\n",
    "\n",
    "for i in range(data.shape[0]):\n",
    "    browser = data.loc[i, \"id_31\"].lower()\n",
    "    \n",
    "    if (\"chrome\" in browser):\n",
    "        browser_type.append(\"chrome\")\n",
    "    elif(\"safari\" in browser):\n",
    "        browser_type.append(\"safari\")\n",
    "    elif(\"ie\" in browser):\n",
    "        browser_type.append(\"ie\")    \n",
    "    elif(\"safari\" in browser):\n",
    "        browser_type.append(\"safari\")\n",
    "    elif(\"firefox\" in browser):\n",
    "        browser_type.append(\"firefox\")      \n",
    "    elif(\"samsung\" in browser):\n",
    "        browser_type.append(\"samsung\")   \n",
    "    elif(\"edge\" in browser):\n",
    "        browser_type.append(\"edge\")   \n",
    "    elif(\"webview\" in browser):\n",
    "        browser_type.append(\"webview\") \n",
    "    elif(\"opera\" in browser):\n",
    "        browser_type.append(\"opera\")         \n",
    "    elif(\"search\" in browser):\n",
    "        browser_type.append(\"search\")     \n",
    "    elif(\"microsoft\" in browser):\n",
    "        browser_type.append(\"microsoft\") \n",
    "    else:\n",
    "        browser_type.append(browser)\n",
    "        \n",
    "data['Browser_Type'] = browser_type\n",
    "\n",
    "del data['id_31']\n",
    "\n",
    "data = pd.get_dummies(data, columns=['Browser_Type'], prefix='Browser_Type', dummy_na=True)"
   ]
  },
  {
   "cell_type": "code",
   "execution_count": 98,
   "metadata": {},
   "outputs": [],
   "source": [
    "# id_32\n",
    "#data.id_32.isna().sum()\n",
    "#data.id_32.value_counts()\n",
    "\n",
    "data = pd.get_dummies(data, columns=['id_32'], prefix='id_32', dummy_na=True)"
   ]
  },
  {
   "cell_type": "code",
   "execution_count": 99,
   "metadata": {},
   "outputs": [],
   "source": [
    "# id_33\n",
    "#data.id_33.isna().sum()\n",
    "#data.id_33.value_counts()\n",
    "\n",
    "data = pd.get_dummies(data, columns=['id_33'], prefix='id_33', dummy_na=True)"
   ]
  },
  {
   "cell_type": "code",
   "execution_count": 100,
   "metadata": {},
   "outputs": [],
   "source": [
    "# id_34\n",
    "#data.id_34.isna().sum()\n",
    "#data.id_34.value_counts()\n",
    "\n",
    "data = pd.get_dummies(data, columns=['id_34'], prefix='id_34', dummy_na=True)"
   ]
  },
  {
   "cell_type": "code",
   "execution_count": 101,
   "metadata": {},
   "outputs": [],
   "source": [
    "# id_35\n",
    "#data.id_35.isna().sum()\n",
    "#data.id_35.value_counts()\n",
    "\n",
    "data = pd.get_dummies(data, columns=['id_35'], prefix='id_35', dummy_na=True)"
   ]
  },
  {
   "cell_type": "code",
   "execution_count": 102,
   "metadata": {},
   "outputs": [],
   "source": [
    "# id_36\n",
    "#data.id_36.isna().sum()\n",
    "#data.id_36.value_counts()\n",
    "\n",
    "data = pd.get_dummies(data, columns=['id_36'], prefix='id_36', dummy_na=True)"
   ]
  },
  {
   "cell_type": "code",
   "execution_count": 103,
   "metadata": {},
   "outputs": [],
   "source": [
    "# id_37\n",
    "#data.id_37.isna().sum()\n",
    "#data.id_37.value_counts()\n",
    "\n",
    "data = pd.get_dummies(data, columns=['id_37'], prefix='id_37', dummy_na=True)"
   ]
  },
  {
   "cell_type": "code",
   "execution_count": 104,
   "metadata": {
    "scrolled": true
   },
   "outputs": [],
   "source": [
    "# id_38\n",
    "#data.id_38.isna().sum()\n",
    "#data.id_38.value_counts()\n",
    "\n",
    "data = pd.get_dummies(data, columns=['id_38'], prefix='id_38', dummy_na=True)"
   ]
  },
  {
   "cell_type": "code",
   "execution_count": 105,
   "metadata": {},
   "outputs": [],
   "source": [
    "# DeviceType\n",
    "#data.DeviceType.isna().sum()\n",
    "#data.DeviceType.value_counts()\n",
    "\n",
    "data = pd.get_dummies(data, columns=['DeviceType'], prefix='DeviceType', dummy_na=True)"
   ]
  },
  {
   "cell_type": "code",
   "execution_count": 106,
   "metadata": {},
   "outputs": [],
   "source": [
    "# DeviceInfo\n",
    "#data.DeviceInfo.isna().sum()\n",
    "#data.DeviceInfo.value_counts()\n",
    "\n",
    "# TEMP SOLUTION\n",
    "del data[\"DeviceInfo\"]"
   ]
  },
  {
   "cell_type": "code",
   "execution_count": 107,
   "metadata": {},
   "outputs": [
    {
     "name": "stdout",
     "output_type": "stream",
     "text": [
      "(1097231, 2637)\n",
      "0\n"
     ]
    }
   ],
   "source": [
    "# What is the final shape?\n",
    "print(data.shape)\n",
    "\n",
    "# Any NaN left?\n",
    "print(data.isna().sum().sum())"
   ]
  },
  {
   "cell_type": "code",
   "execution_count": null,
   "metadata": {},
   "outputs": [],
   "source": [
    "end_time = time.time()\n",
    "\n",
    "print(end_time - start_time)"
   ]
  },
  {
   "cell_type": "markdown",
   "metadata": {},
   "source": [
    "### Scale Data"
   ]
  },
  {
   "cell_type": "code",
   "execution_count": 108,
   "metadata": {
    "scrolled": true
   },
   "outputs": [
    {
     "name": "stderr",
     "output_type": "stream",
     "text": [
      "C:\\Users\\peterp\\Anaconda3\\lib\\site-packages\\sklearn\\preprocessing\\data.py:625: DataConversionWarning: Data with input dtype uint8, int32, int64, float64 were all converted to float64 by StandardScaler.\n",
      "  return self.partial_fit(X, y)\n",
      "C:\\Users\\peterp\\Anaconda3\\lib\\site-packages\\sklearn\\base.py:462: DataConversionWarning: Data with input dtype uint8, int32, int64, float64 were all converted to float64 by StandardScaler.\n",
      "  return self.fit(X, **fit_params).transform(X)\n"
     ]
    },
    {
     "name": "stdout",
     "output_type": "stream",
     "text": [
      "Wall time: 1min 57s\n"
     ]
    }
   ],
   "source": [
    "%%time\n",
    "\n",
    "columns = data.columns\n",
    "\n",
    "scaler = StandardScaler(copy=False)\n",
    "\n",
    "data = scaler.fit_transform(data)\n",
    "\n",
    "data = pd.DataFrame(data, columns=columns)"
   ]
  },
  {
   "cell_type": "markdown",
   "metadata": {},
   "source": [
    "### Split to Train and Test Sets"
   ]
  },
  {
   "cell_type": "code",
   "execution_count": 109,
   "metadata": {},
   "outputs": [],
   "source": [
    "#X_train, X_test, y_train, y_test = train_test_split(data, labels, stratify=labels, test_size=0.3, random_state=8)\n",
    "\n",
    "X_train = data.iloc[:train_size, :]\n",
    "X_test = data.iloc[train_size:, :]\n",
    "y_train = labels"
   ]
  },
  {
   "cell_type": "markdown",
   "metadata": {},
   "source": [
    "### Neural Network"
   ]
  },
  {
   "cell_type": "code",
   "execution_count": 110,
   "metadata": {
    "scrolled": true
   },
   "outputs": [
    {
     "name": "stdout",
     "output_type": "stream",
     "text": [
      "WARNING:tensorflow:From C:\\Users\\peterp\\Anaconda3\\lib\\site-packages\\tensorflow\\python\\ops\\resource_variable_ops.py:435: colocate_with (from tensorflow.python.framework.ops) is deprecated and will be removed in a future version.\n",
      "Instructions for updating:\n",
      "Colocations handled automatically by placer.\n",
      "WARNING:tensorflow:From C:\\Users\\peterp\\Anaconda3\\lib\\site-packages\\tensorflow\\python\\keras\\layers\\core.py:143: calling dropout (from tensorflow.python.ops.nn_ops) with keep_prob is deprecated and will be removed in a future version.\n",
      "Instructions for updating:\n",
      "Please use `rate` instead of `keep_prob`. Rate should be set to `rate = 1 - keep_prob`.\n",
      "_________________________________________________________________\n",
      "Layer (type)                 Output Shape              Param #   \n",
      "=================================================================\n",
      "dense (Dense)                (None, 512)               1350656   \n",
      "_________________________________________________________________\n",
      "dropout (Dropout)            (None, 512)               0         \n",
      "_________________________________________________________________\n",
      "dense_1 (Dense)              (None, 512)               262656    \n",
      "_________________________________________________________________\n",
      "dropout_1 (Dropout)          (None, 512)               0         \n",
      "_________________________________________________________________\n",
      "dense_2 (Dense)              (None, 32)                16416     \n",
      "_________________________________________________________________\n",
      "dense_3 (Dense)              (None, 1)                 33        \n",
      "=================================================================\n",
      "Total params: 1,629,761\n",
      "Trainable params: 1,629,761\n",
      "Non-trainable params: 0\n",
      "_________________________________________________________________\n"
     ]
    }
   ],
   "source": [
    "classifier = Sequential()\n",
    "\n",
    "classifier.add(Dense(512, activation='relu', kernel_initializer='normal', input_dim=X_train.shape[1]))\n",
    "classifier.add(Dropout(0.1))\n",
    "classifier.add(Dense(512, activation='relu', kernel_initializer='normal'))\n",
    "classifier.add(Dropout(0.1))\n",
    "classifier.add(Dense(32, activation='relu', kernel_initializer='normal'))\n",
    "classifier.add(Dense(1, activation='sigmoid', kernel_initializer='normal'))\n",
    "\n",
    "classifier.compile(optimizer ='adam', loss='binary_crossentropy', metrics =['accuracy', rocauc])\n",
    "\n",
    "classifier.summary()"
   ]
  },
  {
   "cell_type": "code",
   "execution_count": 113,
   "metadata": {
    "scrolled": false
   },
   "outputs": [
    {
     "name": "stdout",
     "output_type": "stream",
     "text": [
      "Epoch 1/32\n",
      "590540/590540 [==============================] - 108s 182us/sample - loss: 0.0940 - acc: 0.9748 - rocauc: 0.8868\n",
      "Epoch 2/32\n",
      "590540/590540 [==============================] - 107s 182us/sample - loss: 0.0864 - acc: 0.9766 - rocauc: 0.9031\n",
      "Epoch 3/32\n",
      "590540/590540 [==============================] - 109s 184us/sample - loss: 0.0805 - acc: 0.9780 - rocauc: 0.9168s - loss: 0.0812\n",
      "Epoch 4/32\n",
      "590540/590540 [==============================] - 109s 185us/sample - loss: 0.0760 - acc: 0.9793 - rocauc: 0.9236TA: 10s - los - ETA: 8s - loss: 0.0760 - acc: 0.9792 - rocauc - ETA: 8s - loss: 0.0760 - acc: 0.9 - ETA: 1s - l\n",
      "Epoch 5/32\n",
      "590540/590540 [==============================] - 110s 186us/sample - loss: 0.0721 - acc: 0.9805 - rocauc: 0.9319s - loss: 0.0721 - - ETA: 36s - - ETA: 32s - loss: 0.0722 - acc: 0.9805 - ro - ETA: 31s - loss: 0.0722 -  - ETA: 28s - loss: 0.0722 - acc: 0 - ETA: 26s\n",
      "Epoch 6/32\n",
      "590540/590540 [==============================] - 110s 186us/sample - loss: 0.0693 - acc: 0.9812 - rocauc: 0.9376s - loss: 0.0689 - acc: 0.981 - ETA: 2s - loss: 0.0 - ETA: 0s - loss: 0.0694 - acc: 0\n",
      "Epoch 7/32\n",
      "590540/590540 [==============================] - 110s 185us/sample - loss: 0.0667 - acc: 0.9820 - rocauc: 0.9417 loss: 0.0\n",
      "Epoch 8/32\n",
      "590540/590540 [==============================] - 110s 187us/sample - loss: 0.0639 - acc: 0.9828 - rocauc: 0.9466\n",
      "Epoch 9/32\n",
      "590540/590540 [==============================] - 110s 186us/sample - loss: 0.0616 - acc: 0.9830 - rocauc: 0.9508s - loss: 0.0612 - - ETA: 56s - loss: 0.0613 - acc: 0.983 - ETA: 54s - loss: 0 - ETA: - ETA: 29s - loss: - ETA: 26s - ET\n",
      "Epoch 10/32\n",
      "590540/590540 [==============================] - 110s 186us/sample - loss: 0.0598 - acc: 0.9837 - rocauc: 0.9527\n",
      "Epoch 11/32\n",
      "590540/590540 [==============================] - 110s 186us/sample - loss: 0.0583 - acc: 0.9841 - rocauc: 0.9566 - ETA: 41s - loss: 0.0586 - acc: 0.9840 - rocauc: 0.956 - ETA: - ETA: 36s - loss: 0 - ETA: 22s - loss: 0.0582 - acc: 0.9841 - rocauc: 0.95 - ET\n",
      "Epoch 12/32\n",
      "590540/590540 [==============================] - 110s 186us/sample - loss: 0.0565 - acc: 0.9846 - rocauc: 0.9585\n",
      "Epoch 13/32\n",
      "590540/590540 [==============================] - 110s 186us/sample - loss: 0.0548 - acc: 0.9849 - rocauc: 0.9617s  - ETA: 10s -\n",
      "Epoch 14/32\n",
      "590540/590540 [==============================] - 110s 186us/sample - loss: 0.0538 - acc: 0.9852 - rocauc: 0.9628\n",
      "Epoch 15/32\n",
      "590540/590540 [==============================] - 110s 186us/sample - loss: 0.0522 - acc: 0.9856 - rocauc: 0.9651 loss: 0.0524 - acc: 0.9855 -  - ETA: 7s - ETA: 4s - loss: 0.0524 - acc: 0.9 - ETA - ETA: 1s - loss: 0\n",
      "Epoch 16/32\n",
      "590540/590540 [==============================] - 110s 186us/sample - loss: 0.0510 - acc: 0.9860 - rocauc: 0.9669 loss: 0.0509 - acc: 0.986\n",
      "Epoch 17/32\n",
      "590540/590540 [==============================] - 110s 186us/sample - loss: 0.0500 - acc: 0.9863 - rocauc: 0.9679\n",
      "Epoch 18/32\n",
      "590540/590540 [==============================] - 110s 187us/sample - loss: 0.0489 - acc: 0.9865 - rocauc: 0.969809 - loss: 0.048 - ETA - ETA: 53s - loss: 0.0489 - acc: 0 - ETA: 51s - loss: 0.0487 - acc: - ETA: 43s - loss: 0.0487 - acc: - ETA: 41s - loss: 0.0486 - acc: 0.9866 - rocauc:  - ETA: 40s - loss: 0.0487 - acc: 0.9866 - rocauc: 0 - ETA: 40s - loss: 0.0486 - acc: 0.9866 - rocauc: 0.97 - ETA: 40s - loss: 0.0486 - acc: 0.9866 -\n",
      "Epoch 19/32\n",
      "590540/590540 [==============================] - 110s 187us/sample - loss: 0.0478 - acc: 0.9869 - rocauc: 0.9708s - loss: 0.0470 - acc: 0.9871 - roca - ETA: 43s - loss: 0.0470 - acc: 0.9871  - ETA: 1s - loss: 0.0\n",
      "Epoch 20/32\n",
      "590540/590540 [==============================] - 110s 186us/sample - loss: 0.0468 - acc: 0.9870 - rocauc: 0.9733s - loss: 0.0466 - acc: 0.9869 - rocauc: 0.9 - ETA: 51s - loss: 0.0466 - acc: - ETA:  - - ETA: 33s - lo - ETA: 29s - loss: 0.0465 - acc: 0.9\n",
      "Epoch 21/32\n",
      "590540/590540 [==============================] - 110s 187us/sample - loss: 0.0461 - acc: 0.9873 - rocauc: 0.9730\n",
      "Epoch 22/32\n",
      "590540/590540 [==============================] - 110s 186us/sample - loss: 0.0452 - acc: 0.9875 - rocauc: 0.9745\n",
      "Epoch 23/32\n",
      "590540/590540 [==============================] - 110s 187us/sample - loss: 0.0440 - acc: 0.9878 - rocauc: 0.9758\n",
      "Epoch 24/32\n",
      "590540/590540 [==============================] - 110s 186us/sample - loss: 0.0433 - acc: 0.9880 - rocauc: 0.9767: 0s - loss: 0.0433 - acc: 0.9880 -  - ETA: 0s - loss: 0.0433 - acc: 0.9880 - rocauc: 0.\n",
      "Epoch 25/32\n",
      "590540/590540 [==============================] - 110s 187us/sample - loss: 0.0422 - acc: 0.9883 - rocauc: 0.9780\n",
      "Epoch 26/32\n",
      "590540/590540 [==============================] - 110s 187us/sample - loss: 0.0417 - acc: 0.9884 - rocauc: 0.9788\n",
      "Epoch 27/32\n",
      "590540/590540 [==============================] - 110s 187us/sample - loss: 0.0404 - acc: 0.9887 - rocauc: 0.980100 - l - ET - ET - ETA:  - ETA: 37s - loss:  - ETA: 33s - loss: 0.03 - ETA: 19s - loss: 0.0399 - acc: 0 - ETA: 2s - loss: 0.0404 - acc: 0.988 - ETA: 2s - loss: 0.0404 - acc: 0.9887 - rocauc:  - ETA: 1s - loss: 0.0404 - acc: 0 - ETA: 0s - loss: 0.0404 - acc: 0.988\n",
      "Epoch 28/32\n",
      "590540/590540 [==============================] - 110s 186us/sample - loss: 0.0401 - acc: 0.9887 - rocauc: 0.9801\n",
      "Epoch 29/32\n",
      "590540/590540 [==============================] - 110s 186us/sample - loss: 0.0395 - acc: 0.9889 - rocauc: 0.981110 - l - - ETA: 1:05 - loss: 0.0380 - acc: 0.9895 - ETA: 53s - loss: 0.0387 - acc: 0.9893 - rocauc:  - ETA: 52s - loss: 0.0387 - acc: 0.9893 - rocauc:  - ETA: 51s - loss: 0.0387 - acc: 0.9893 - roca - ETA: 50s - loss - ETA: 36s - loss: 0.0389 - acc: 0.9892 - roca - ETA: 35s - lo - ETA: 31s - loss: 0.0389 - acc: 0.9892 - roc - ETA: 30s - loss: 0.0389 - acc: 0.9891 - rocauc: 0 - ETA: 29s - loss: 0.0389 - - ETA: 27s - ETA: 22s - loss - ETA: 0s - loss: 0.0396 - acc: 0.9889 -  - ETA: 0s - loss: 0.0395 - acc: 0.9889 - rocauc\n",
      "Epoch 30/32\n",
      "590540/590540 [==============================] - 110s 186us/sample - loss: 0.0382 - acc: 0.9893 - rocauc: 0.9820\n",
      "Epoch 31/32\n",
      "590540/590540 [==============================] - 111s 187us/sample - loss: 0.0380 - acc: 0.9894 - rocauc: 0.9826\n",
      "Epoch 32/32\n",
      "590540/590540 [==============================] - 110s 186us/sample - loss: 0.0373 - acc: 0.9895 - rocauc: 0.9830 loss: 0.0372 - acc: 0.9896 - rocauc: 0. - ETA: \n",
      "Wall time: 58min 33s\n"
     ]
    },
    {
     "data": {
      "text/plain": [
       "<tensorflow.python.keras.callbacks.History at 0xed21969e80>"
      ]
     },
     "execution_count": 113,
     "metadata": {},
     "output_type": "execute_result"
    }
   ],
   "source": [
    "%%time\n",
    "\n",
    "classifier.fit(X_train, y_train, batch_size=512, epochs=32)"
   ]
  },
  {
   "cell_type": "code",
   "execution_count": 114,
   "metadata": {},
   "outputs": [],
   "source": [
    "predictions = classifier.predict(X_test)\n",
    "\n",
    "write_to_submission_file(np.round(predictions, 1), df_test.TransactionID, out_file=\"submission.02.csv\")"
   ]
  },
  {
   "cell_type": "code",
   "execution_count": null,
   "metadata": {},
   "outputs": [],
   "source": []
  },
  {
   "cell_type": "code",
   "execution_count": null,
   "metadata": {},
   "outputs": [],
   "source": []
  },
  {
   "cell_type": "code",
   "execution_count": null,
   "metadata": {},
   "outputs": [],
   "source": []
  },
  {
   "cell_type": "code",
   "execution_count": null,
   "metadata": {},
   "outputs": [],
   "source": [
    "X_train_1 = X_train[y_train.astype(bool).values]\n",
    "X_train_1['Label'] = 1"
   ]
  },
  {
   "cell_type": "code",
   "execution_count": null,
   "metadata": {
    "scrolled": true
   },
   "outputs": [],
   "source": [
    "X_train_0 = X_train[(1 - y_train).astype(bool).values]\n",
    "X_train_0['Label'] = 0"
   ]
  },
  {
   "cell_type": "code",
   "execution_count": null,
   "metadata": {},
   "outputs": [],
   "source": [
    "X_train_0.shape"
   ]
  },
  {
   "cell_type": "code",
   "execution_count": null,
   "metadata": {},
   "outputs": [],
   "source": [
    "%%time\n",
    "\n",
    "for _ in range(50):\n",
    "    sample_X_zeros = X_train_0.sample(14464)\n",
    "    temp_X_train = pd.concat([sample_X_zeros, X_train_1])\n",
    "    temp_X_train = temp_X_train.sample(frac=1).reset_index(drop=True)\n",
    "    \n",
    "    temp_y_train = temp_X_train['Label']\n",
    "    del temp_X_train['Label']\n",
    "    \n",
    "    classifier.fit(temp_X_train, temp_y_train, batch_size=512, epochs=5)\n",
    "\n",
    "# NN Performance check\n",
    "print(\"Accuracy on Test set:\")\n",
    "predictions = classifier.predict(X_test)\n",
    "print(roc_auc_score(y_test, np.around(predictions)))"
   ]
  },
  {
   "cell_type": "code",
   "execution_count": null,
   "metadata": {},
   "outputs": [],
   "source": []
  },
  {
   "cell_type": "code",
   "execution_count": null,
   "metadata": {},
   "outputs": [],
   "source": []
  },
  {
   "cell_type": "code",
   "execution_count": null,
   "metadata": {},
   "outputs": [],
   "source": [
    "predictions = classifier.predict(X_test)\n",
    "\n",
    "print(accuracy_score(y_test, np.around(predictions)))"
   ]
  },
  {
   "cell_type": "code",
   "execution_count": null,
   "metadata": {},
   "outputs": [],
   "source": []
  },
  {
   "cell_type": "code",
   "execution_count": null,
   "metadata": {},
   "outputs": [],
   "source": [
    "\n",
    "\n",
    "print(accuracy_score(y_test, np.around(predictions)))"
   ]
  },
  {
   "cell_type": "code",
   "execution_count": null,
   "metadata": {},
   "outputs": [],
   "source": [
    "count = 0\n",
    "\n",
    "for x in predictions:\n",
    "    if (x > 0.5):\n",
    "        count = count + 1\n",
    "        \n",
    "print(count)"
   ]
  },
  {
   "cell_type": "code",
   "execution_count": null,
   "metadata": {},
   "outputs": [],
   "source": [
    "temp_X_train"
   ]
  }
 ],
 "metadata": {
  "kernelspec": {
   "display_name": "Python 3",
   "language": "python",
   "name": "python3"
  },
  "language_info": {
   "codemirror_mode": {
    "name": "ipython",
    "version": 3
   },
   "file_extension": ".py",
   "mimetype": "text/x-python",
   "name": "python",
   "nbconvert_exporter": "python",
   "pygments_lexer": "ipython3",
   "version": "3.7.1"
  }
 },
 "nbformat": 4,
 "nbformat_minor": 2
}
